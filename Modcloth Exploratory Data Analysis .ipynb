{
 "cells": [
  {
   "cell_type": "markdown",
   "metadata": {},
   "source": [
    "# Modcloth Exploratory Data Analysis"
   ]
  },
  {
   "cell_type": "markdown",
   "metadata": {},
   "source": [
    "Key Definitions:\n",
    "- User Attribute: Average size that the user purchases \n",
    "- Model Attribute: Size of models shown to users in pictures/websites/ads\n",
    "- Fit: Fit of the user \n",
    "- Size: Size of the user"
   ]
  },
  {
   "cell_type": "markdown",
   "metadata": {},
   "source": [
    "## Loading the Data"
   ]
  },
  {
   "cell_type": "code",
   "execution_count": 149,
   "metadata": {
    "id": "fxb7OOp7Td-0"
   },
   "outputs": [],
   "source": [
    "import pandas as pd\n",
    "import numpy as np\n",
    "import seaborn as sns\n",
    "import matplotlib.pyplot as plt\n",
    "\n",
    "mod=pd.read_csv(\"modcloth.csv\")"
   ]
  },
  {
   "cell_type": "markdown",
   "metadata": {},
   "source": [
    "## Inspecting the Data"
   ]
  },
  {
   "cell_type": "code",
   "execution_count": 29,
   "metadata": {},
   "outputs": [
    {
     "data": {
      "text/html": [
       "<div>\n",
       "<style scoped>\n",
       "    .dataframe tbody tr th:only-of-type {\n",
       "        vertical-align: middle;\n",
       "    }\n",
       "\n",
       "    .dataframe tbody tr th {\n",
       "        vertical-align: top;\n",
       "    }\n",
       "\n",
       "    .dataframe thead th {\n",
       "        text-align: right;\n",
       "    }\n",
       "</style>\n",
       "<table border=\"1\" class=\"dataframe\">\n",
       "  <thead>\n",
       "    <tr style=\"text-align: right;\">\n",
       "      <th></th>\n",
       "      <th>item_id</th>\n",
       "      <th>user_id</th>\n",
       "      <th>rating</th>\n",
       "      <th>timestamp</th>\n",
       "      <th>size</th>\n",
       "      <th>fit</th>\n",
       "      <th>user_attr</th>\n",
       "      <th>model_attr</th>\n",
       "      <th>category</th>\n",
       "      <th>brand</th>\n",
       "      <th>year</th>\n",
       "      <th>split</th>\n",
       "    </tr>\n",
       "  </thead>\n",
       "  <tbody>\n",
       "    <tr>\n",
       "      <th>0</th>\n",
       "      <td>7443</td>\n",
       "      <td>Alex</td>\n",
       "      <td>4</td>\n",
       "      <td>2010-01-21 08:00:00+00:00</td>\n",
       "      <td>NaN</td>\n",
       "      <td>NaN</td>\n",
       "      <td>Small</td>\n",
       "      <td>Small</td>\n",
       "      <td>Dresses</td>\n",
       "      <td>NaN</td>\n",
       "      <td>2012</td>\n",
       "      <td>0</td>\n",
       "    </tr>\n",
       "    <tr>\n",
       "      <th>1</th>\n",
       "      <td>7443</td>\n",
       "      <td>carolyn.agan</td>\n",
       "      <td>3</td>\n",
       "      <td>2010-01-27 08:00:00+00:00</td>\n",
       "      <td>NaN</td>\n",
       "      <td>NaN</td>\n",
       "      <td>NaN</td>\n",
       "      <td>Small</td>\n",
       "      <td>Dresses</td>\n",
       "      <td>NaN</td>\n",
       "      <td>2012</td>\n",
       "      <td>0</td>\n",
       "    </tr>\n",
       "    <tr>\n",
       "      <th>2</th>\n",
       "      <td>7443</td>\n",
       "      <td>Robyn</td>\n",
       "      <td>4</td>\n",
       "      <td>2010-01-29 08:00:00+00:00</td>\n",
       "      <td>NaN</td>\n",
       "      <td>NaN</td>\n",
       "      <td>Small</td>\n",
       "      <td>Small</td>\n",
       "      <td>Dresses</td>\n",
       "      <td>NaN</td>\n",
       "      <td>2012</td>\n",
       "      <td>0</td>\n",
       "    </tr>\n",
       "    <tr>\n",
       "      <th>3</th>\n",
       "      <td>7443</td>\n",
       "      <td>De</td>\n",
       "      <td>4</td>\n",
       "      <td>2010-02-13 08:00:00+00:00</td>\n",
       "      <td>NaN</td>\n",
       "      <td>NaN</td>\n",
       "      <td>NaN</td>\n",
       "      <td>Small</td>\n",
       "      <td>Dresses</td>\n",
       "      <td>NaN</td>\n",
       "      <td>2012</td>\n",
       "      <td>0</td>\n",
       "    </tr>\n",
       "    <tr>\n",
       "      <th>4</th>\n",
       "      <td>7443</td>\n",
       "      <td>tasha</td>\n",
       "      <td>4</td>\n",
       "      <td>2010-02-18 08:00:00+00:00</td>\n",
       "      <td>NaN</td>\n",
       "      <td>NaN</td>\n",
       "      <td>Small</td>\n",
       "      <td>Small</td>\n",
       "      <td>Dresses</td>\n",
       "      <td>NaN</td>\n",
       "      <td>2012</td>\n",
       "      <td>0</td>\n",
       "    </tr>\n",
       "  </tbody>\n",
       "</table>\n",
       "</div>"
      ],
      "text/plain": [
       "   item_id       user_id  rating                  timestamp  size  fit  \\\n",
       "0     7443          Alex       4  2010-01-21 08:00:00+00:00   NaN  NaN   \n",
       "1     7443  carolyn.agan       3  2010-01-27 08:00:00+00:00   NaN  NaN   \n",
       "2     7443         Robyn       4  2010-01-29 08:00:00+00:00   NaN  NaN   \n",
       "3     7443            De       4  2010-02-13 08:00:00+00:00   NaN  NaN   \n",
       "4     7443         tasha       4  2010-02-18 08:00:00+00:00   NaN  NaN   \n",
       "\n",
       "  user_attr model_attr category brand  year  split  \n",
       "0     Small      Small  Dresses   NaN  2012      0  \n",
       "1       NaN      Small  Dresses   NaN  2012      0  \n",
       "2     Small      Small  Dresses   NaN  2012      0  \n",
       "3       NaN      Small  Dresses   NaN  2012      0  \n",
       "4     Small      Small  Dresses   NaN  2012      0  "
      ]
     },
     "execution_count": 29,
     "metadata": {},
     "output_type": "execute_result"
    }
   ],
   "source": [
    "#viewing the first five rows\n",
    "mod.head(5)"
   ]
  },
  {
   "cell_type": "code",
   "execution_count": 8,
   "metadata": {},
   "outputs": [
    {
     "data": {
      "text/plain": [
       "(99893, 12)"
      ]
     },
     "execution_count": 8,
     "metadata": {},
     "output_type": "execute_result"
    }
   ],
   "source": [
    "# inspecting the shape of the dataframe\n",
    "mod.shape"
   ]
  },
  {
   "cell_type": "code",
   "execution_count": 16,
   "metadata": {},
   "outputs": [
    {
     "data": {
      "text/plain": [
       "item_id         int64\n",
       "user_id        object\n",
       "rating          int64\n",
       "timestamp      object\n",
       "size          float64\n",
       "fit            object\n",
       "user_attr      object\n",
       "model_attr     object\n",
       "category       object\n",
       "brand          object\n",
       "year            int64\n",
       "split           int64\n",
       "dtype: object"
      ]
     },
     "execution_count": 16,
     "metadata": {},
     "output_type": "execute_result"
    }
   ],
   "source": [
    "# data types of mod\n",
    "mod.dtypes"
   ]
  },
  {
   "cell_type": "code",
   "execution_count": 9,
   "metadata": {},
   "outputs": [
    {
     "data": {
      "text/plain": [
       "item_id           0\n",
       "user_id           1\n",
       "rating            0\n",
       "timestamp         0\n",
       "size          21760\n",
       "fit           18506\n",
       "user_attr      8367\n",
       "model_attr        0\n",
       "category          0\n",
       "brand         73980\n",
       "year              0\n",
       "split             0\n",
       "dtype: int64"
      ]
     },
     "execution_count": 9,
     "metadata": {},
     "output_type": "execute_result"
    }
   ],
   "source": [
    "# checking the number of missing values\n",
    "mod.isnull().sum()"
   ]
  },
  {
   "cell_type": "code",
   "execution_count": 56,
   "metadata": {},
   "outputs": [
    {
     "data": {
      "text/html": [
       "<div>\n",
       "<style scoped>\n",
       "    .dataframe tbody tr th:only-of-type {\n",
       "        vertical-align: middle;\n",
       "    }\n",
       "\n",
       "    .dataframe tbody tr th {\n",
       "        vertical-align: top;\n",
       "    }\n",
       "\n",
       "    .dataframe thead th {\n",
       "        text-align: right;\n",
       "    }\n",
       "</style>\n",
       "<table border=\"1\" class=\"dataframe\">\n",
       "  <thead>\n",
       "    <tr style=\"text-align: right;\">\n",
       "      <th></th>\n",
       "      <th>item_id</th>\n",
       "      <th>rating</th>\n",
       "      <th>size</th>\n",
       "      <th>year</th>\n",
       "      <th>split</th>\n",
       "    </tr>\n",
       "  </thead>\n",
       "  <tbody>\n",
       "    <tr>\n",
       "      <th>count</th>\n",
       "      <td>78132.000000</td>\n",
       "      <td>78132.000000</td>\n",
       "      <td>78132.000000</td>\n",
       "      <td>78132.000000</td>\n",
       "      <td>78132.000000</td>\n",
       "    </tr>\n",
       "    <tr>\n",
       "      <th>mean</th>\n",
       "      <td>79245.111414</td>\n",
       "      <td>4.228575</td>\n",
       "      <td>3.217337</td>\n",
       "      <td>2015.320112</td>\n",
       "      <td>0.368377</td>\n",
       "    </tr>\n",
       "    <tr>\n",
       "      <th>std</th>\n",
       "      <td>41019.151822</td>\n",
       "      <td>1.057285</td>\n",
       "      <td>1.885941</td>\n",
       "      <td>1.921601</td>\n",
       "      <td>0.729977</td>\n",
       "    </tr>\n",
       "    <tr>\n",
       "      <th>min</th>\n",
       "      <td>6454.000000</td>\n",
       "      <td>1.000000</td>\n",
       "      <td>0.000000</td>\n",
       "      <td>2010.000000</td>\n",
       "      <td>0.000000</td>\n",
       "    </tr>\n",
       "    <tr>\n",
       "      <th>25%</th>\n",
       "      <td>44893.000000</td>\n",
       "      <td>4.000000</td>\n",
       "      <td>2.000000</td>\n",
       "      <td>2014.000000</td>\n",
       "      <td>0.000000</td>\n",
       "    </tr>\n",
       "    <tr>\n",
       "      <th>50%</th>\n",
       "      <td>72816.000000</td>\n",
       "      <td>5.000000</td>\n",
       "      <td>3.000000</td>\n",
       "      <td>2015.000000</td>\n",
       "      <td>0.000000</td>\n",
       "    </tr>\n",
       "    <tr>\n",
       "      <th>75%</th>\n",
       "      <td>113510.000000</td>\n",
       "      <td>5.000000</td>\n",
       "      <td>4.000000</td>\n",
       "      <td>2017.000000</td>\n",
       "      <td>0.000000</td>\n",
       "    </tr>\n",
       "    <tr>\n",
       "      <th>max</th>\n",
       "      <td>155950.000000</td>\n",
       "      <td>5.000000</td>\n",
       "      <td>8.000000</td>\n",
       "      <td>2019.000000</td>\n",
       "      <td>2.000000</td>\n",
       "    </tr>\n",
       "  </tbody>\n",
       "</table>\n",
       "</div>"
      ],
      "text/plain": [
       "             item_id        rating          size          year         split\n",
       "count   78132.000000  78132.000000  78132.000000  78132.000000  78132.000000\n",
       "mean    79245.111414      4.228575      3.217337   2015.320112      0.368377\n",
       "std     41019.151822      1.057285      1.885941      1.921601      0.729977\n",
       "min      6454.000000      1.000000      0.000000   2010.000000      0.000000\n",
       "25%     44893.000000      4.000000      2.000000   2014.000000      0.000000\n",
       "50%     72816.000000      5.000000      3.000000   2015.000000      0.000000\n",
       "75%    113510.000000      5.000000      4.000000   2017.000000      0.000000\n",
       "max    155950.000000      5.000000      8.000000   2019.000000      2.000000"
      ]
     },
     "execution_count": 56,
     "metadata": {},
     "output_type": "execute_result"
    }
   ],
   "source": [
    "# inspecting the dataframe \n",
    "mod.describe()"
   ]
  },
  {
   "cell_type": "markdown",
   "metadata": {},
   "source": [
    "## Data Cleaning "
   ]
  },
  {
   "cell_type": "code",
   "execution_count": 82,
   "metadata": {},
   "outputs": [],
   "source": [
    "#removing missing values for size and user id\n",
    "mod.dropna(subset=['size', 'user_id'], inplace = True)"
   ]
  },
  {
   "cell_type": "code",
   "execution_count": 53,
   "metadata": {},
   "outputs": [
    {
     "data": {
      "text/plain": [
       "array(['Just right', 'Slightly large', 'Slightly small', 'Very small',\n",
       "       'Very large', nan], dtype=object)"
      ]
     },
     "execution_count": 53,
     "metadata": {},
     "output_type": "execute_result"
    }
   ],
   "source": [
    "#unique values for fit \n",
    "mod['fit'].unique()"
   ]
  },
  {
   "cell_type": "code",
   "execution_count": 35,
   "metadata": {},
   "outputs": [
    {
     "data": {
      "text/plain": [
       "array(['Small', 'Large'], dtype=object)"
      ]
     },
     "execution_count": 35,
     "metadata": {},
     "output_type": "execute_result"
    }
   ],
   "source": [
    "# unique values for user attribute\n",
    "mod['user_attr'].unique()"
   ]
  },
  {
   "cell_type": "code",
   "execution_count": 36,
   "metadata": {},
   "outputs": [
    {
     "data": {
      "text/plain": [
       "array(['Small', 'Small&Large'], dtype=object)"
      ]
     },
     "execution_count": 36,
     "metadata": {},
     "output_type": "execute_result"
    }
   ],
   "source": [
    "# unique values for model attribute\n",
    "mod['model_attr'].unique()"
   ]
  },
  {
   "cell_type": "code",
   "execution_count": 84,
   "metadata": {},
   "outputs": [
    {
     "data": {
      "text/plain": [
       "item_id           0\n",
       "user_id           0\n",
       "rating            0\n",
       "timestamp         0\n",
       "size              0\n",
       "fit            7213\n",
       "user_attr         0\n",
       "model_attr        0\n",
       "category          0\n",
       "brand         59575\n",
       "year              0\n",
       "split             0\n",
       "dtype: int64"
      ]
     },
     "execution_count": 84,
     "metadata": {},
     "output_type": "execute_result"
    }
   ],
   "source": [
    "# after removing null values for size, we are only left with missing values for fit and brand\n",
    "# since more than half of the dataset consists of missing values for brand, we won't be removing those observations \n",
    "mod.isnull().sum()"
   ]
  },
  {
   "cell_type": "code",
   "execution_count": 83,
   "metadata": {},
   "outputs": [
    {
     "name": "stdout",
     "output_type": "stream",
     "text": [
      "size 1.0\n",
      "['Just right' 'Slightly small' 'Slightly large' 'Very large' 'Very small'\n",
      " nan]\n",
      "-------\n",
      "size 2.0\n",
      "['Just right' 'Slightly small' 'Slightly large' 'Very large' 'Very small'\n",
      " nan]\n",
      "-------\n",
      "size 3.0\n",
      "['Just right' 'Slightly large' 'Slightly small' 'Very small' 'Very large'\n",
      " nan]\n",
      "-------\n",
      "size 7.0\n",
      "['Just right' 'Very small' 'Slightly small' 'Slightly large' 'Very large'\n",
      " nan]\n",
      "-------\n",
      "size 4.0\n",
      "['Slightly small' 'Just right' 'Very small' 'Slightly large' 'Very large'\n",
      " nan]\n",
      "-------\n",
      "size 6.0\n",
      "['Very small' 'Just right' 'Slightly small' 'Slightly large' 'Very large'\n",
      " nan]\n",
      "-------\n",
      "size 5.0\n",
      "['Just right' 'Slightly large' 'Very small' 'Slightly small' 'Very large'\n",
      " nan]\n",
      "-------\n",
      "size 8.0\n",
      "['Very small' 'Slightly small' 'Slightly large' 'Very large' 'Just right'\n",
      " nan]\n",
      "-------\n",
      "size 0.0\n",
      "['Just right' 'Slightly large' 'Very large' 'Slightly small' nan]\n",
      "-------\n"
     ]
    }
   ],
   "source": [
    "# inspecting unique values of fit for each size\n",
    "for i in mod['size'].unique():\n",
    "    print('size', i)\n",
    "    print(mod[mod['size'] == i].fit.unique())\n",
    "    print('-------')"
   ]
  },
  {
   "cell_type": "markdown",
   "metadata": {},
   "source": [
    "The above loop displays that all sizes have fit values ranging from small to large which does not provide an accurate representation of the user fit. An example is also provided below, where 104 users of size 8 have a 'very small' fit which is misleading."
   ]
  },
  {
   "cell_type": "code",
   "execution_count": 94,
   "metadata": {},
   "outputs": [
    {
     "data": {
      "text/html": [
       "<div>\n",
       "<style scoped>\n",
       "    .dataframe tbody tr th:only-of-type {\n",
       "        vertical-align: middle;\n",
       "    }\n",
       "\n",
       "    .dataframe tbody tr th {\n",
       "        vertical-align: top;\n",
       "    }\n",
       "\n",
       "    .dataframe thead th {\n",
       "        text-align: right;\n",
       "    }\n",
       "</style>\n",
       "<table border=\"1\" class=\"dataframe\">\n",
       "  <thead>\n",
       "    <tr style=\"text-align: right;\">\n",
       "      <th></th>\n",
       "      <th>item_id</th>\n",
       "      <th>user_id</th>\n",
       "      <th>rating</th>\n",
       "      <th>timestamp</th>\n",
       "      <th>size</th>\n",
       "      <th>fit</th>\n",
       "      <th>user_attr</th>\n",
       "      <th>model_attr</th>\n",
       "      <th>category</th>\n",
       "      <th>brand</th>\n",
       "      <th>year</th>\n",
       "      <th>split</th>\n",
       "    </tr>\n",
       "  </thead>\n",
       "  <tbody>\n",
       "    <tr>\n",
       "      <th>1760</th>\n",
       "      <td>27590</td>\n",
       "      <td>Cattie</td>\n",
       "      <td>3</td>\n",
       "      <td>2012-02-26 08:00:00+00:00</td>\n",
       "      <td>8.0</td>\n",
       "      <td>Very small</td>\n",
       "      <td>Large</td>\n",
       "      <td>Small</td>\n",
       "      <td>Bottoms</td>\n",
       "      <td>NaN</td>\n",
       "      <td>2016</td>\n",
       "      <td>1</td>\n",
       "    </tr>\n",
       "    <tr>\n",
       "      <th>6417</th>\n",
       "      <td>7443</td>\n",
       "      <td>ericanrainey</td>\n",
       "      <td>1</td>\n",
       "      <td>2013-05-31 07:00:00+00:00</td>\n",
       "      <td>8.0</td>\n",
       "      <td>Very small</td>\n",
       "      <td>Large</td>\n",
       "      <td>Small</td>\n",
       "      <td>Dresses</td>\n",
       "      <td>NaN</td>\n",
       "      <td>2012</td>\n",
       "      <td>0</td>\n",
       "    </tr>\n",
       "    <tr>\n",
       "      <th>6818</th>\n",
       "      <td>7443</td>\n",
       "      <td>muneca0801</td>\n",
       "      <td>1</td>\n",
       "      <td>2013-06-20 07:00:00+00:00</td>\n",
       "      <td>8.0</td>\n",
       "      <td>Very small</td>\n",
       "      <td>Large</td>\n",
       "      <td>Small</td>\n",
       "      <td>Dresses</td>\n",
       "      <td>NaN</td>\n",
       "      <td>2012</td>\n",
       "      <td>0</td>\n",
       "    </tr>\n",
       "    <tr>\n",
       "      <th>6966</th>\n",
       "      <td>7443</td>\n",
       "      <td>Lorraine</td>\n",
       "      <td>4</td>\n",
       "      <td>2013-06-28 07:00:00+00:00</td>\n",
       "      <td>8.0</td>\n",
       "      <td>Very small</td>\n",
       "      <td>Large</td>\n",
       "      <td>Small</td>\n",
       "      <td>Dresses</td>\n",
       "      <td>NaN</td>\n",
       "      <td>2012</td>\n",
       "      <td>0</td>\n",
       "    </tr>\n",
       "    <tr>\n",
       "      <th>8016</th>\n",
       "      <td>27590</td>\n",
       "      <td>muelle_de_luz</td>\n",
       "      <td>5</td>\n",
       "      <td>2013-08-18 07:00:00+00:00</td>\n",
       "      <td>8.0</td>\n",
       "      <td>Very small</td>\n",
       "      <td>Large</td>\n",
       "      <td>Small</td>\n",
       "      <td>Bottoms</td>\n",
       "      <td>NaN</td>\n",
       "      <td>2016</td>\n",
       "      <td>0</td>\n",
       "    </tr>\n",
       "    <tr>\n",
       "      <th>...</th>\n",
       "      <td>...</td>\n",
       "      <td>...</td>\n",
       "      <td>...</td>\n",
       "      <td>...</td>\n",
       "      <td>...</td>\n",
       "      <td>...</td>\n",
       "      <td>...</td>\n",
       "      <td>...</td>\n",
       "      <td>...</td>\n",
       "      <td>...</td>\n",
       "      <td>...</td>\n",
       "      <td>...</td>\n",
       "    </tr>\n",
       "    <tr>\n",
       "      <th>77427</th>\n",
       "      <td>154538</td>\n",
       "      <td>Leannel</td>\n",
       "      <td>2</td>\n",
       "      <td>2017-10-14 07:00:00+00:00</td>\n",
       "      <td>8.0</td>\n",
       "      <td>Very small</td>\n",
       "      <td>Large</td>\n",
       "      <td>Small</td>\n",
       "      <td>Dresses</td>\n",
       "      <td>Banned</td>\n",
       "      <td>2017</td>\n",
       "      <td>0</td>\n",
       "    </tr>\n",
       "    <tr>\n",
       "      <th>93174</th>\n",
       "      <td>150043</td>\n",
       "      <td>Swedegirl</td>\n",
       "      <td>2</td>\n",
       "      <td>2018-08-13 20:51:00.358000+00:00</td>\n",
       "      <td>8.0</td>\n",
       "      <td>Very small</td>\n",
       "      <td>Large</td>\n",
       "      <td>Small&amp;Large</td>\n",
       "      <td>Tops</td>\n",
       "      <td>NaN</td>\n",
       "      <td>2018</td>\n",
       "      <td>0</td>\n",
       "    </tr>\n",
       "    <tr>\n",
       "      <th>93871</th>\n",
       "      <td>36172</td>\n",
       "      <td>Sherman</td>\n",
       "      <td>1</td>\n",
       "      <td>2018-09-21 17:20:45.303000+00:00</td>\n",
       "      <td>8.0</td>\n",
       "      <td>Very small</td>\n",
       "      <td>Large</td>\n",
       "      <td>Small&amp;Large</td>\n",
       "      <td>Tops</td>\n",
       "      <td>NaN</td>\n",
       "      <td>2016</td>\n",
       "      <td>2</td>\n",
       "    </tr>\n",
       "    <tr>\n",
       "      <th>96414</th>\n",
       "      <td>36172</td>\n",
       "      <td>Marlins</td>\n",
       "      <td>2</td>\n",
       "      <td>2018-12-10 03:51:36.779000+00:00</td>\n",
       "      <td>8.0</td>\n",
       "      <td>Very small</td>\n",
       "      <td>Large</td>\n",
       "      <td>Small&amp;Large</td>\n",
       "      <td>Tops</td>\n",
       "      <td>NaN</td>\n",
       "      <td>2016</td>\n",
       "      <td>0</td>\n",
       "    </tr>\n",
       "    <tr>\n",
       "      <th>96914</th>\n",
       "      <td>121272</td>\n",
       "      <td>HDinLA</td>\n",
       "      <td>3</td>\n",
       "      <td>2018-12-20 17:34:38.503000+00:00</td>\n",
       "      <td>8.0</td>\n",
       "      <td>Very small</td>\n",
       "      <td>Large</td>\n",
       "      <td>Small&amp;Large</td>\n",
       "      <td>Bottoms</td>\n",
       "      <td>Miss Candyfloss</td>\n",
       "      <td>2018</td>\n",
       "      <td>0</td>\n",
       "    </tr>\n",
       "  </tbody>\n",
       "</table>\n",
       "<p>104 rows × 12 columns</p>\n",
       "</div>"
      ],
      "text/plain": [
       "       item_id        user_id  rating                         timestamp  size  \\\n",
       "1760     27590         Cattie       3         2012-02-26 08:00:00+00:00   8.0   \n",
       "6417      7443   ericanrainey       1         2013-05-31 07:00:00+00:00   8.0   \n",
       "6818      7443     muneca0801       1         2013-06-20 07:00:00+00:00   8.0   \n",
       "6966      7443       Lorraine       4         2013-06-28 07:00:00+00:00   8.0   \n",
       "8016     27590  muelle_de_luz       5         2013-08-18 07:00:00+00:00   8.0   \n",
       "...        ...            ...     ...                               ...   ...   \n",
       "77427   154538        Leannel       2         2017-10-14 07:00:00+00:00   8.0   \n",
       "93174   150043      Swedegirl       2  2018-08-13 20:51:00.358000+00:00   8.0   \n",
       "93871    36172        Sherman       1  2018-09-21 17:20:45.303000+00:00   8.0   \n",
       "96414    36172        Marlins       2  2018-12-10 03:51:36.779000+00:00   8.0   \n",
       "96914   121272         HDinLA       3  2018-12-20 17:34:38.503000+00:00   8.0   \n",
       "\n",
       "              fit user_attr   model_attr category            brand  year  \\\n",
       "1760   Very small     Large        Small  Bottoms              NaN  2016   \n",
       "6417   Very small     Large        Small  Dresses              NaN  2012   \n",
       "6818   Very small     Large        Small  Dresses              NaN  2012   \n",
       "6966   Very small     Large        Small  Dresses              NaN  2012   \n",
       "8016   Very small     Large        Small  Bottoms              NaN  2016   \n",
       "...           ...       ...          ...      ...              ...   ...   \n",
       "77427  Very small     Large        Small  Dresses           Banned  2017   \n",
       "93174  Very small     Large  Small&Large     Tops              NaN  2018   \n",
       "93871  Very small     Large  Small&Large     Tops              NaN  2016   \n",
       "96414  Very small     Large  Small&Large     Tops              NaN  2016   \n",
       "96914  Very small     Large  Small&Large  Bottoms  Miss Candyfloss  2018   \n",
       "\n",
       "       split  \n",
       "1760       1  \n",
       "6417       0  \n",
       "6818       0  \n",
       "6966       0  \n",
       "8016       0  \n",
       "...      ...  \n",
       "77427      0  \n",
       "93174      0  \n",
       "93871      2  \n",
       "96414      0  \n",
       "96914      0  \n",
       "\n",
       "[104 rows x 12 columns]"
      ]
     },
     "execution_count": 94,
     "metadata": {},
     "output_type": "execute_result"
    }
   ],
   "source": [
    "# 104 users of size 8 have a 'very small' fit \n",
    "mod[(mod['size'] == 8) & (mod['fit'] == 'Very small')]"
   ]
  },
  {
   "cell_type": "markdown",
   "metadata": {},
   "source": [
    "For this reason, we create a new column which accurately represents the fit of each user\n",
    "- Size 0-2: Small\n",
    "- Size 3-5: Medium\n",
    "- Size 6-8: Large "
   ]
  },
  {
   "cell_type": "code",
   "execution_count": 112,
   "metadata": {},
   "outputs": [
    {
     "data": {
      "text/html": [
       "<div>\n",
       "<style scoped>\n",
       "    .dataframe tbody tr th:only-of-type {\n",
       "        vertical-align: middle;\n",
       "    }\n",
       "\n",
       "    .dataframe tbody tr th {\n",
       "        vertical-align: top;\n",
       "    }\n",
       "\n",
       "    .dataframe thead th {\n",
       "        text-align: right;\n",
       "    }\n",
       "</style>\n",
       "<table border=\"1\" class=\"dataframe\">\n",
       "  <thead>\n",
       "    <tr style=\"text-align: right;\">\n",
       "      <th></th>\n",
       "      <th>item_id</th>\n",
       "      <th>user_id</th>\n",
       "      <th>rating</th>\n",
       "      <th>timestamp</th>\n",
       "      <th>size</th>\n",
       "      <th>fit</th>\n",
       "      <th>user_attr</th>\n",
       "      <th>model_attr</th>\n",
       "      <th>category</th>\n",
       "      <th>brand</th>\n",
       "      <th>year</th>\n",
       "      <th>split</th>\n",
       "      <th>fit_of_user</th>\n",
       "    </tr>\n",
       "  </thead>\n",
       "  <tbody>\n",
       "    <tr>\n",
       "      <th>58607</th>\n",
       "      <td>67194</td>\n",
       "      <td>courtney.greiner</td>\n",
       "      <td>5</td>\n",
       "      <td>2016-06-17 07:00:00+00:00</td>\n",
       "      <td>4.0</td>\n",
       "      <td>Just right</td>\n",
       "      <td>Small</td>\n",
       "      <td>Small&amp;Large</td>\n",
       "      <td>Dresses</td>\n",
       "      <td>NaN</td>\n",
       "      <td>2013</td>\n",
       "      <td>0</td>\n",
       "      <td>medium</td>\n",
       "    </tr>\n",
       "    <tr>\n",
       "      <th>5298</th>\n",
       "      <td>55967</td>\n",
       "      <td>jenniferembelton</td>\n",
       "      <td>5</td>\n",
       "      <td>2013-03-19 07:00:00+00:00</td>\n",
       "      <td>2.0</td>\n",
       "      <td>Just right</td>\n",
       "      <td>Small</td>\n",
       "      <td>Small&amp;Large</td>\n",
       "      <td>Dresses</td>\n",
       "      <td>NaN</td>\n",
       "      <td>2013</td>\n",
       "      <td>0</td>\n",
       "      <td>small</td>\n",
       "    </tr>\n",
       "    <tr>\n",
       "      <th>68652</th>\n",
       "      <td>114609</td>\n",
       "      <td>kndetc</td>\n",
       "      <td>4</td>\n",
       "      <td>2016-12-08 08:00:00+00:00</td>\n",
       "      <td>1.0</td>\n",
       "      <td>Slightly small</td>\n",
       "      <td>Small</td>\n",
       "      <td>Small</td>\n",
       "      <td>Bottoms</td>\n",
       "      <td>NaN</td>\n",
       "      <td>2014</td>\n",
       "      <td>2</td>\n",
       "      <td>small</td>\n",
       "    </tr>\n",
       "    <tr>\n",
       "      <th>19152</th>\n",
       "      <td>28252</td>\n",
       "      <td>kellithayer86</td>\n",
       "      <td>3</td>\n",
       "      <td>2014-07-29 07:00:00+00:00</td>\n",
       "      <td>2.0</td>\n",
       "      <td>Just right</td>\n",
       "      <td>Small</td>\n",
       "      <td>Small</td>\n",
       "      <td>Dresses</td>\n",
       "      <td>Retrolicious</td>\n",
       "      <td>2015</td>\n",
       "      <td>0</td>\n",
       "      <td>small</td>\n",
       "    </tr>\n",
       "    <tr>\n",
       "      <th>67765</th>\n",
       "      <td>113512</td>\n",
       "      <td>Vanita</td>\n",
       "      <td>5</td>\n",
       "      <td>2016-11-27 08:00:00+00:00</td>\n",
       "      <td>2.0</td>\n",
       "      <td>Just right</td>\n",
       "      <td>Small</td>\n",
       "      <td>Small&amp;Large</td>\n",
       "      <td>Tops</td>\n",
       "      <td>NaN</td>\n",
       "      <td>2018</td>\n",
       "      <td>2</td>\n",
       "      <td>small</td>\n",
       "    </tr>\n",
       "  </tbody>\n",
       "</table>\n",
       "</div>"
      ],
      "text/plain": [
       "       item_id           user_id  rating                  timestamp  size  \\\n",
       "58607    67194  courtney.greiner       5  2016-06-17 07:00:00+00:00   4.0   \n",
       "5298     55967  jenniferembelton       5  2013-03-19 07:00:00+00:00   2.0   \n",
       "68652   114609            kndetc       4  2016-12-08 08:00:00+00:00   1.0   \n",
       "19152    28252     kellithayer86       3  2014-07-29 07:00:00+00:00   2.0   \n",
       "67765   113512            Vanita       5  2016-11-27 08:00:00+00:00   2.0   \n",
       "\n",
       "                  fit user_attr   model_attr category         brand  year  \\\n",
       "58607      Just right     Small  Small&Large  Dresses           NaN  2013   \n",
       "5298       Just right     Small  Small&Large  Dresses           NaN  2013   \n",
       "68652  Slightly small     Small        Small  Bottoms           NaN  2014   \n",
       "19152      Just right     Small        Small  Dresses  Retrolicious  2015   \n",
       "67765      Just right     Small  Small&Large     Tops           NaN  2018   \n",
       "\n",
       "       split fit_of_user  \n",
       "58607      0      medium  \n",
       "5298       0       small  \n",
       "68652      2       small  \n",
       "19152      0       small  \n",
       "67765      2       small  "
      ]
     },
     "execution_count": 112,
     "metadata": {},
     "output_type": "execute_result"
    }
   ],
   "source": [
    "# a new column 'fit_of_user' provides an accurate representation of user fit \n",
    "col = []\n",
    "for i in mod['size']:\n",
    "    if i <= 2:\n",
    "        col.append('small')\n",
    "    elif (i >= 3) & (i <= 5):\n",
    "        col.append('medium')\n",
    "    else:\n",
    "        col.append('large')\n",
    "        \n",
    "mod['fit_of_user'] = col\n",
    "#inspecting the dataframe with the new column\n",
    "mod.sample(5)"
   ]
  },
  {
   "cell_type": "code",
   "execution_count": 114,
   "metadata": {},
   "outputs": [
    {
     "data": {
      "text/html": [
       "<div>\n",
       "<style scoped>\n",
       "    .dataframe tbody tr th:only-of-type {\n",
       "        vertical-align: middle;\n",
       "    }\n",
       "\n",
       "    .dataframe tbody tr th {\n",
       "        vertical-align: top;\n",
       "    }\n",
       "\n",
       "    .dataframe thead th {\n",
       "        text-align: right;\n",
       "    }\n",
       "</style>\n",
       "<table border=\"1\" class=\"dataframe\">\n",
       "  <thead>\n",
       "    <tr style=\"text-align: right;\">\n",
       "      <th></th>\n",
       "      <th>item_id</th>\n",
       "      <th>user_id</th>\n",
       "      <th>size</th>\n",
       "      <th>fit_of_user</th>\n",
       "      <th>user_attr</th>\n",
       "      <th>model_attr</th>\n",
       "      <th>category</th>\n",
       "    </tr>\n",
       "  </thead>\n",
       "  <tbody>\n",
       "    <tr>\n",
       "      <th>119</th>\n",
       "      <td>7443</td>\n",
       "      <td>Mona</td>\n",
       "      <td>1.0</td>\n",
       "      <td>small</td>\n",
       "      <td>Small</td>\n",
       "      <td>Small</td>\n",
       "      <td>Dresses</td>\n",
       "    </tr>\n",
       "    <tr>\n",
       "      <th>121</th>\n",
       "      <td>11960</td>\n",
       "      <td>Devon</td>\n",
       "      <td>2.0</td>\n",
       "      <td>small</td>\n",
       "      <td>Small</td>\n",
       "      <td>Small&amp;Large</td>\n",
       "      <td>Outerwear</td>\n",
       "    </tr>\n",
       "    <tr>\n",
       "      <th>123</th>\n",
       "      <td>11960</td>\n",
       "      <td>Cara</td>\n",
       "      <td>2.0</td>\n",
       "      <td>small</td>\n",
       "      <td>Small</td>\n",
       "      <td>Small&amp;Large</td>\n",
       "      <td>Outerwear</td>\n",
       "    </tr>\n",
       "    <tr>\n",
       "      <th>125</th>\n",
       "      <td>11960</td>\n",
       "      <td>Hanaa</td>\n",
       "      <td>3.0</td>\n",
       "      <td>medium</td>\n",
       "      <td>Small</td>\n",
       "      <td>Small&amp;Large</td>\n",
       "      <td>Outerwear</td>\n",
       "    </tr>\n",
       "    <tr>\n",
       "      <th>129</th>\n",
       "      <td>16411</td>\n",
       "      <td>Cecilia</td>\n",
       "      <td>3.0</td>\n",
       "      <td>medium</td>\n",
       "      <td>Small</td>\n",
       "      <td>Small</td>\n",
       "      <td>Dresses</td>\n",
       "    </tr>\n",
       "  </tbody>\n",
       "</table>\n",
       "</div>"
      ],
      "text/plain": [
       "     item_id  user_id  size fit_of_user user_attr   model_attr   category\n",
       "119     7443     Mona   1.0       small     Small        Small    Dresses\n",
       "121    11960    Devon   2.0       small     Small  Small&Large  Outerwear\n",
       "123    11960     Cara   2.0       small     Small  Small&Large  Outerwear\n",
       "125    11960    Hanaa   3.0      medium     Small  Small&Large  Outerwear\n",
       "129    16411  Cecilia   3.0      medium     Small        Small    Dresses"
      ]
     },
     "execution_count": 114,
     "metadata": {},
     "output_type": "execute_result"
    }
   ],
   "source": [
    "# a new dataframe has been created to only filter for features that will be used in EDA\n",
    "df = mod[['item_id', 'user_id', 'size', 'fit_of_user', 'user_attr', 'model_attr', 'category']]\n",
    "df.head(5)"
   ]
  },
  {
   "cell_type": "code",
   "execution_count": 115,
   "metadata": {},
   "outputs": [
    {
     "data": {
      "text/plain": [
       "(78132, 7)"
      ]
     },
     "execution_count": 115,
     "metadata": {},
     "output_type": "execute_result"
    }
   ],
   "source": [
    "df.shape"
   ]
  },
  {
   "cell_type": "code",
   "execution_count": 116,
   "metadata": {},
   "outputs": [
    {
     "data": {
      "text/plain": [
       "item_id        0\n",
       "user_id        0\n",
       "size           0\n",
       "fit_of_user    0\n",
       "user_attr      0\n",
       "model_attr     0\n",
       "category       0\n",
       "dtype: int64"
      ]
     },
     "execution_count": 116,
     "metadata": {},
     "output_type": "execute_result"
    }
   ],
   "source": [
    "df.isnull().sum()"
   ]
  },
  {
   "cell_type": "markdown",
   "metadata": {},
   "source": [
    "## Exploratory Data Analysis "
   ]
  },
  {
   "cell_type": "code",
   "execution_count": 199,
   "metadata": {
    "colab": {
     "base_uri": "https://localhost:8080/"
    },
    "id": "1ET8b6tTphPV",
    "outputId": "e58a931f-9a34-49b6-ec27-276c4642ad11"
   },
   "outputs": [
    {
     "data": {
      "text/plain": [
       "fit_of_user\n",
       "large     11745\n",
       "medium    32899\n",
       "small     33488\n",
       "dtype: int64"
      ]
     },
     "execution_count": 199,
     "metadata": {},
     "output_type": "execute_result"
    }
   ],
   "source": [
    "df.groupby('fit_of_user').size()"
   ]
  },
  {
   "cell_type": "code",
   "execution_count": 197,
   "metadata": {
    "colab": {
     "base_uri": "https://localhost:8080/"
    },
    "id": "l7NFr9sxbV94",
    "outputId": "5b59272a-cf51-4337-d91a-725d61fe89b9"
   },
   "outputs": [
    {
     "data": {
      "text/plain": [
       "user_attr\n",
       "Large    16686\n",
       "Small    61446\n",
       "dtype: int64"
      ]
     },
     "execution_count": 197,
     "metadata": {},
     "output_type": "execute_result"
    }
   ],
   "source": [
    "df.groupby('user_attr').size()"
   ]
  },
  {
   "cell_type": "code",
   "execution_count": 186,
   "metadata": {},
   "outputs": [
    {
     "name": "stdout",
     "output_type": "stream",
     "text": [
      "fit_of_user\n",
      "large     11745\n",
      "medium    32899\n",
      "small     33488\n",
      "dtype: int64\n"
     ]
    }
   ],
   "source": [
    "# a higher proportion of users belong to small and medium fit categories \n",
    "print(df.groupby('fit_of_user').size())"
   ]
  },
  {
   "cell_type": "code",
   "execution_count": 157,
   "metadata": {
    "colab": {
     "base_uri": "https://localhost:8080/",
     "height": 1000
    },
    "id": "CsefqVGOnmwe",
    "outputId": "19d87bb6-d7b0-4f48-acea-472f7f740dfd"
   },
   "outputs": [
    {
     "data": {
      "text/html": [
       "<div>\n",
       "<style scoped>\n",
       "    .dataframe tbody tr th:only-of-type {\n",
       "        vertical-align: middle;\n",
       "    }\n",
       "\n",
       "    .dataframe tbody tr th {\n",
       "        vertical-align: top;\n",
       "    }\n",
       "\n",
       "    .dataframe thead th {\n",
       "        text-align: right;\n",
       "    }\n",
       "</style>\n",
       "<table border=\"1\" class=\"dataframe\">\n",
       "  <thead>\n",
       "    <tr style=\"text-align: right;\">\n",
       "      <th></th>\n",
       "      <th></th>\n",
       "      <th>0</th>\n",
       "    </tr>\n",
       "    <tr>\n",
       "      <th>fit_of_user</th>\n",
       "      <th>model_attr</th>\n",
       "      <th></th>\n",
       "    </tr>\n",
       "  </thead>\n",
       "  <tbody>\n",
       "    <tr>\n",
       "      <th rowspan=\"2\" valign=\"top\">large</th>\n",
       "      <th>Small</th>\n",
       "      <td>4657</td>\n",
       "    </tr>\n",
       "    <tr>\n",
       "      <th>Small&amp;Large</th>\n",
       "      <td>7088</td>\n",
       "    </tr>\n",
       "    <tr>\n",
       "      <th rowspan=\"2\" valign=\"top\">medium</th>\n",
       "      <th>Small</th>\n",
       "      <td>13460</td>\n",
       "    </tr>\n",
       "    <tr>\n",
       "      <th>Small&amp;Large</th>\n",
       "      <td>19439</td>\n",
       "    </tr>\n",
       "    <tr>\n",
       "      <th rowspan=\"2\" valign=\"top\">small</th>\n",
       "      <th>Small</th>\n",
       "      <td>14019</td>\n",
       "    </tr>\n",
       "    <tr>\n",
       "      <th>Small&amp;Large</th>\n",
       "      <td>19469</td>\n",
       "    </tr>\n",
       "  </tbody>\n",
       "</table>\n",
       "</div>"
      ],
      "text/plain": [
       "                             0\n",
       "fit_of_user model_attr        \n",
       "large       Small         4657\n",
       "            Small&Large   7088\n",
       "medium      Small        13460\n",
       "            Small&Large  19439\n",
       "small       Small        14019\n",
       "            Small&Large  19469"
      ]
     },
     "execution_count": 157,
     "metadata": {},
     "output_type": "execute_result"
    }
   ],
   "source": [
    "mod1=df.groupby(['fit_of_user','model_attr']).size()\n",
    "type(mod1)\n",
    "cross=mod1.to_frame()\n",
    "cross"
   ]
  },
  {
   "cell_type": "code",
   "execution_count": 192,
   "metadata": {},
   "outputs": [
    {
     "data": {
      "text/plain": [
       "<matplotlib.axes._subplots.AxesSubplot at 0x1fc1837ce88>"
      ]
     },
     "execution_count": 192,
     "metadata": {},
     "output_type": "execute_result"
    },
    {
     "data": {
      "image/png": "[encoded data removed]",
      "text/plain": [
       "<Figure size 1440x720 with 2 Axes>"
      ]
     },
     "metadata": {},
     "output_type": "display_data"
    }
   ],
   "source": [
    "x, y, hue = \"fit_of_user\", \"prop\", \"model_attr\"\n",
    "\n",
    "f, axes = plt.subplots(1, 2)\n",
    "sns.countplot(x=x, hue=hue, data=df, ax=axes[0])\n",
    "f.set_size_inches(20, 10)\n",
    "prop_df = (df[x]\n",
    "           .groupby(df[hue])\n",
    "           .value_counts(normalize=True)\n",
    "           .rename(y)\n",
    "           .reset_index())\n",
    "\n",
    "sns.barplot(x=x, y=y, hue=hue, data=prop_df, ax=axes[1])"
   ]
  },
  {
   "cell_type": "markdown",
   "metadata": {},
   "source": [
    "- The table (crosstab) and bar charts above display that ads of small sized models are shown to users who have small, medium and large fit\n",
    "- It is interesting to note that the proportion of large sized models shown to small and medium fit users is significantly higher than that of large fit users\n",
    "- A small proportion of small sized models are also shown to large fit users"
   ]
  },
  {
   "cell_type": "code",
   "execution_count": 123,
   "metadata": {},
   "outputs": [
    {
     "data": {
      "text/html": [
       "<div>\n",
       "<style scoped>\n",
       "    .dataframe tbody tr th:only-of-type {\n",
       "        vertical-align: middle;\n",
       "    }\n",
       "\n",
       "    .dataframe tbody tr th {\n",
       "        vertical-align: top;\n",
       "    }\n",
       "\n",
       "    .dataframe thead th {\n",
       "        text-align: right;\n",
       "    }\n",
       "</style>\n",
       "<table border=\"1\" class=\"dataframe\">\n",
       "  <thead>\n",
       "    <tr style=\"text-align: right;\">\n",
       "      <th></th>\n",
       "      <th></th>\n",
       "      <th>0</th>\n",
       "    </tr>\n",
       "    <tr>\n",
       "      <th>user_attr</th>\n",
       "      <th>fit_of_user</th>\n",
       "      <th></th>\n",
       "    </tr>\n",
       "  </thead>\n",
       "  <tbody>\n",
       "    <tr>\n",
       "      <th rowspan=\"3\" valign=\"top\">Large</th>\n",
       "      <th>large</th>\n",
       "      <td>9234</td>\n",
       "    </tr>\n",
       "    <tr>\n",
       "      <th>medium</th>\n",
       "      <td>7144</td>\n",
       "    </tr>\n",
       "    <tr>\n",
       "      <th>small</th>\n",
       "      <td>308</td>\n",
       "    </tr>\n",
       "    <tr>\n",
       "      <th rowspan=\"3\" valign=\"top\">Small</th>\n",
       "      <th>large</th>\n",
       "      <td>2511</td>\n",
       "    </tr>\n",
       "    <tr>\n",
       "      <th>medium</th>\n",
       "      <td>25755</td>\n",
       "    </tr>\n",
       "    <tr>\n",
       "      <th>small</th>\n",
       "      <td>33180</td>\n",
       "    </tr>\n",
       "  </tbody>\n",
       "</table>\n",
       "</div>"
      ],
      "text/plain": [
       "                           0\n",
       "user_attr fit_of_user       \n",
       "Large     large         9234\n",
       "          medium        7144\n",
       "          small          308\n",
       "Small     large         2511\n",
       "          medium       25755\n",
       "          small        33180"
      ]
     },
     "execution_count": 123,
     "metadata": {},
     "output_type": "execute_result"
    }
   ],
   "source": [
    "mod1=df.groupby(['user_attr','fit_of_user']).size()\n",
    "type(mod1)\n",
    "cross=mod1.to_frame()\n",
    "cross"
   ]
  },
  {
   "cell_type": "code",
   "execution_count": 187,
   "metadata": {},
   "outputs": [
    {
     "data": {
      "image/png": "[encoded data removed]",
      "text/plain": [
       "<Figure size 720x432 with 1 Axes>"
      ]
     },
     "metadata": {},
     "output_type": "display_data"
    }
   ],
   "source": [
    "plt.style.use('fivethirtyeight')\n",
    "plt.figure(figsize=(10,6))\n",
    "sns.boxplot(y=\"size\",x ='user_attr' ,data = df)\n",
    "plt.title(\"Distribution of User Attribute by Size\")\n",
    "plt.xlabel('User Attribute',fontsize=15)\n",
    "plt.ylabel(\"Size\",fontsize=15)\n",
    "plt.show()"
   ]
  },
  {
   "cell_type": "markdown",
   "metadata": {},
   "source": [
    "The boxplot displays some outliers which indicates that users who on average purchase small sized clothing sometimes purchase clothing of medium and large sizes as well"
   ]
  },
  {
   "cell_type": "code",
   "execution_count": 204,
   "metadata": {
    "colab": {
     "base_uri": "https://localhost:8080/",
     "height": 155
    },
    "id": "ZAXNuh-anxU-",
    "outputId": "3c77eac1-2091-4ce0-ce6e-f3e0dc84560b"
   },
   "outputs": [
    {
     "data": {
      "text/plain": [
       "<matplotlib.axes._subplots.AxesSubplot at 0x1fc19ea4dc8>"
      ]
     },
     "execution_count": 204,
     "metadata": {},
     "output_type": "execute_result"
    },
    {
     "data": {
      "image/png": "[encoded data removed]",
      "text/plain": [
       "<Figure size 1440x720 with 2 Axes>"
      ]
     },
     "metadata": {},
     "output_type": "display_data"
    }
   ],
   "source": [
    "x, y, hue = \"user_attr\", \"prop\", \"fit_of_user\"\n",
    "\n",
    "f, axes = plt.subplots(1, 2)\n",
    "sns.countplot(x=x, hue=hue, data=df, ax=axes[0])\n",
    "f.set_size_inches(20, 10)\n",
    "prop_df = (df[x]\n",
    "           .groupby(df[hue])\n",
    "           .value_counts(normalize=True)\n",
    "           .rename(y)\n",
    "           .reset_index())\n",
    "\n",
    "sns.barplot(x=x, y=y, hue=hue, data=prop_df, ax=axes[1])"
   ]
  },
  {
   "cell_type": "markdown",
   "metadata": {},
   "source": [
    "User attributes refers to the average size purchased by a user. The above visualization displays that on average:\n",
    "- More than 95% of the users with a small size fit purchase small sized clothing\n",
    "- About 75% of the users with a medium size fit purchase small sized clothing\n",
    "- Approximately 25% of the users with a large size fit purchase small sized clothing as well. This could be attributed to peer pressure, or misrepresentation of clothing size based on models displayed in the ads (for example - a small built model displayed in an ad could influence a user with a large size fit to purchase small sized clothing). One more reason could be due to personal preferences, i.e. some users might prefer to wear tight fitted clothing.\n",
    "- Majority of the users with a large size fit opt for large sized clothing, while ~25% of the users opt for purchasing medium sized clothing as well. "
   ]
  },
  {
   "cell_type": "code",
   "execution_count": 205,
   "metadata": {
    "colab": {
     "base_uri": "https://localhost:8080/",
     "height": 351
    },
    "id": "DYuWvNYSeN9r",
    "outputId": "2b6cb82f-6b2b-419d-86d3-8e5b11656982"
   },
   "outputs": [
    {
     "data": {
      "text/plain": [
       "<matplotlib.axes._subplots.AxesSubplot at 0x1fc1965ac48>"
      ]
     },
     "execution_count": 205,
     "metadata": {},
     "output_type": "execute_result"
    },
    {
     "data": {
      "image/png": "[encoded data removed]",
      "text/plain": [
       "<Figure size 1440x720 with 2 Axes>"
      ]
     },
     "metadata": {},
     "output_type": "display_data"
    }
   ],
   "source": [
    "x, y, hue = \"category\", \"prop\", \"fit_of_user\"\n",
    "\n",
    "f, axes = plt.subplots(1, 2)\n",
    "sns.countplot(x=x, hue=hue, data=df, ax=axes[0])\n",
    "f.set_size_inches(20, 10)\n",
    "prop_df = (df[x]\n",
    "           .groupby(df[hue])\n",
    "           .value_counts(normalize=True)\n",
    "           .rename(y)\n",
    "           .reset_index())\n",
    "\n",
    "sns.barplot(x=x, y=y, hue=hue, data=prop_df, ax=axes[1])"
   ]
  },
  {
   "cell_type": "markdown",
   "metadata": {},
   "source": [
    "In the above visualization, we notice that:\n",
    "- Small and large sized users purchase more number of tops than medium sized users\n",
    "- About the same percentage (33%) of small and medium sized users purchase dresses\n",
    "- A greater proportion of large sized users purchase bottoms and approximately the same proportion of small, medium and large sized users purchase outerwear"
   ]
  },
  {
   "cell_type": "code",
   "execution_count": 206,
   "metadata": {
    "colab": {
     "base_uri": "https://localhost:8080/",
     "height": 352
    },
    "id": "fPOjLYyup_Ys",
    "outputId": "a9cacd16-3fa0-41a2-c7d2-c475c93e93c8"
   },
   "outputs": [
    {
     "data": {
      "text/plain": [
       "<matplotlib.axes._subplots.AxesSubplot at 0x1fc1968ccc8>"
      ]
     },
     "execution_count": 206,
     "metadata": {},
     "output_type": "execute_result"
    },
    {
     "data": {
      "image/png": "[encoded data removed]",
      "text/plain": [
       "<Figure size 1440x720 with 2 Axes>"
      ]
     },
     "metadata": {},
     "output_type": "display_data"
    }
   ],
   "source": [
    "x, y, hue = \"size\", \"prop\", \"fit_of_user\"\n",
    "\n",
    "f, axes = plt.subplots(1, 2)\n",
    "sns.countplot(x=x, hue=hue, data=df, ax=axes[0])\n",
    "f.set_size_inches(20, 10)\n",
    "prop_df = (df[x]\n",
    "           .groupby(df[hue])\n",
    "           .value_counts(normalize=True)\n",
    "           .rename(y)\n",
    "           .reset_index())\n",
    "\n",
    "sns.barplot(x=x, y=y, hue=hue, data=prop_df, ax=axes[1])"
   ]
  },
  {
   "cell_type": "markdown",
   "metadata": {},
   "source": [
    "The above visualization displays that:\n",
    "- Majority (> 50%) of the small sized users purchase clothes of size 2 and almost a negligible number of users purchase size 0\n",
    "- Majority (> 50%) of the medium sized users purchase clothes of size 3\n",
    "- Majority (> 50%) of large sized users purchase clothes of size 6"
   ]
  }
 ],
 "metadata": {
  "colab": {
   "name": "Electronic & modcloth_EDA.ipynb",
   "provenance": []
  },
  "kernelspec": {
   "display_name": "Python 3",
   "language": "python",
   "name": "python3"
  },
  "language_info": {
   "codemirror_mode": {
    "name": "ipython",
    "version": 3
   },
   "file_extension": ".py",
   "mimetype": "text/x-python",
   "name": "python",
   "nbconvert_exporter": "python",
   "pygments_lexer": "ipython3",
   "version": "3.7.6"
  }
 },
 "nbformat": 4,
 "nbformat_minor": 1
}
