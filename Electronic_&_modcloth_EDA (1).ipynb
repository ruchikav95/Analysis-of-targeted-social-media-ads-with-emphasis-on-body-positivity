{
  "nbformat": 4,
  "nbformat_minor": 0,
  "metadata": {
    "colab": {
      "name": "Electronic & modcloth_EDA.ipynb",
      "provenance": []
    },
    "kernelspec": {
      "name": "python3",
      "display_name": "Python 3"
    },
    "language_info": {
      "name": "python"
    }
  },
  "cells": [
    {
      "cell_type": "code",
      "metadata": {
        "id": "fxb7OOp7Td-0"
      },
      "source": [
        "import pandas as pd\n",
        "import numpy as np\n",
        "import seaborn as sns\n",
        "import matplotlib.pyplot as plt\n",
        "\n",
        "\n",
        "elc=pd.read_csv(\"electronics.csv\")\n",
        "mod=pd.read_csv(\"modcloth.csv\")"
      ],
      "execution_count": 96,
      "outputs": []
    },
    {
      "cell_type": "code",
      "metadata": {
        "colab": {
          "base_uri": "https://localhost:8080/"
        },
        "id": "EtEP5y3ZmTMA",
        "outputId": "08a5b91a-f22b-46cd-9171-c1a414faa4c0"
      },
      "source": [
        "# EDA for Electronic CSV\n",
        "\n",
        "# We have 213615 rows and 10 columns\n",
        "elc.shape "
      ],
      "execution_count": 97,
      "outputs": [
        {
          "output_type": "execute_result",
          "data": {
            "text/plain": [
              "(1292954, 10)"
            ]
          },
          "metadata": {
            "tags": []
          },
          "execution_count": 97
        }
      ]
    },
    {
      "cell_type": "code",
      "metadata": {
        "colab": {
          "base_uri": "https://localhost:8080/",
          "height": 204
        },
        "id": "kUK1hMifmqmC",
        "outputId": "d5750272-1659-4979-c851-bd85db4479de"
      },
      "source": [
        "elc.head()"
      ],
      "execution_count": 98,
      "outputs": [
        {
          "output_type": "execute_result",
          "data": {
            "text/html": [
              "<div>\n",
              "<style scoped>\n",
              "    .dataframe tbody tr th:only-of-type {\n",
              "        vertical-align: middle;\n",
              "    }\n",
              "\n",
              "    .dataframe tbody tr th {\n",
              "        vertical-align: top;\n",
              "    }\n",
              "\n",
              "    .dataframe thead th {\n",
              "        text-align: right;\n",
              "    }\n",
              "</style>\n",
              "<table border=\"1\" class=\"dataframe\">\n",
              "  <thead>\n",
              "    <tr style=\"text-align: right;\">\n",
              "      <th></th>\n",
              "      <th>item_id</th>\n",
              "      <th>user_id</th>\n",
              "      <th>rating</th>\n",
              "      <th>timestamp</th>\n",
              "      <th>model_attr</th>\n",
              "      <th>category</th>\n",
              "      <th>brand</th>\n",
              "      <th>year</th>\n",
              "      <th>user_attr</th>\n",
              "      <th>split</th>\n",
              "    </tr>\n",
              "  </thead>\n",
              "  <tbody>\n",
              "    <tr>\n",
              "      <th>0</th>\n",
              "      <td>0</td>\n",
              "      <td>0</td>\n",
              "      <td>5.0</td>\n",
              "      <td>1999-06-13</td>\n",
              "      <td>Female</td>\n",
              "      <td>Portable Audio &amp; Video</td>\n",
              "      <td>NaN</td>\n",
              "      <td>1999</td>\n",
              "      <td>NaN</td>\n",
              "      <td>0</td>\n",
              "    </tr>\n",
              "    <tr>\n",
              "      <th>1</th>\n",
              "      <td>0</td>\n",
              "      <td>1</td>\n",
              "      <td>5.0</td>\n",
              "      <td>1999-06-14</td>\n",
              "      <td>Female</td>\n",
              "      <td>Portable Audio &amp; Video</td>\n",
              "      <td>NaN</td>\n",
              "      <td>1999</td>\n",
              "      <td>NaN</td>\n",
              "      <td>0</td>\n",
              "    </tr>\n",
              "    <tr>\n",
              "      <th>2</th>\n",
              "      <td>0</td>\n",
              "      <td>2</td>\n",
              "      <td>3.0</td>\n",
              "      <td>1999-06-17</td>\n",
              "      <td>Female</td>\n",
              "      <td>Portable Audio &amp; Video</td>\n",
              "      <td>NaN</td>\n",
              "      <td>1999</td>\n",
              "      <td>NaN</td>\n",
              "      <td>0</td>\n",
              "    </tr>\n",
              "    <tr>\n",
              "      <th>3</th>\n",
              "      <td>0</td>\n",
              "      <td>3</td>\n",
              "      <td>1.0</td>\n",
              "      <td>1999-07-01</td>\n",
              "      <td>Female</td>\n",
              "      <td>Portable Audio &amp; Video</td>\n",
              "      <td>NaN</td>\n",
              "      <td>1999</td>\n",
              "      <td>NaN</td>\n",
              "      <td>0</td>\n",
              "    </tr>\n",
              "    <tr>\n",
              "      <th>4</th>\n",
              "      <td>0</td>\n",
              "      <td>4</td>\n",
              "      <td>2.0</td>\n",
              "      <td>1999-07-06</td>\n",
              "      <td>Female</td>\n",
              "      <td>Portable Audio &amp; Video</td>\n",
              "      <td>NaN</td>\n",
              "      <td>1999</td>\n",
              "      <td>NaN</td>\n",
              "      <td>0</td>\n",
              "    </tr>\n",
              "  </tbody>\n",
              "</table>\n",
              "</div>"
            ],
            "text/plain": [
              "   item_id  user_id  rating   timestamp  ... brand  year user_attr  split\n",
              "0        0        0     5.0  1999-06-13  ...   NaN  1999       NaN      0\n",
              "1        0        1     5.0  1999-06-14  ...   NaN  1999       NaN      0\n",
              "2        0        2     3.0  1999-06-17  ...   NaN  1999       NaN      0\n",
              "3        0        3     1.0  1999-07-01  ...   NaN  1999       NaN      0\n",
              "4        0        4     2.0  1999-07-06  ...   NaN  1999       NaN      0\n",
              "\n",
              "[5 rows x 10 columns]"
            ]
          },
          "metadata": {
            "tags": []
          },
          "execution_count": 98
        }
      ]
    },
    {
      "cell_type": "code",
      "metadata": {
        "colab": {
          "base_uri": "https://localhost:8080/"
        },
        "id": "olash-Gxmv2G",
        "outputId": "4f9430a8-27e9-49fe-fbbc-a074b57ab0f1"
      },
      "source": [
        "elc.info()\n",
        "# We do not have missing value for category and model_attr column"
      ],
      "execution_count": 99,
      "outputs": [
        {
          "output_type": "stream",
          "text": [
            "<class 'pandas.core.frame.DataFrame'>\n",
            "RangeIndex: 1292954 entries, 0 to 1292953\n",
            "Data columns (total 10 columns):\n",
            " #   Column      Non-Null Count    Dtype  \n",
            "---  ------      --------------    -----  \n",
            " 0   item_id     1292954 non-null  int64  \n",
            " 1   user_id     1292954 non-null  int64  \n",
            " 2   rating      1292954 non-null  float64\n",
            " 3   timestamp   1292954 non-null  object \n",
            " 4   model_attr  1292954 non-null  object \n",
            " 5   category    1292954 non-null  object \n",
            " 6   brand       331120 non-null   object \n",
            " 7   year        1292954 non-null  int64  \n",
            " 8   user_attr   174124 non-null   object \n",
            " 9   split       1292954 non-null  int64  \n",
            "dtypes: float64(1), int64(4), object(5)\n",
            "memory usage: 98.6+ MB\n"
          ],
          "name": "stdout"
        }
      ]
    },
    {
      "cell_type": "code",
      "metadata": {
        "id": "tJUb76nPm1IW"
      },
      "source": [
        "#Drop duplicates if any\n",
        "elc.drop_duplicates(inplace=True) "
      ],
      "execution_count": 100,
      "outputs": []
    },
    {
      "cell_type": "code",
      "metadata": {
        "colab": {
          "base_uri": "https://localhost:8080/"
        },
        "id": "542gvLSXm2za",
        "outputId": "74c5f4fc-11d6-4a5f-fdf0-d709b23b4b66"
      },
      "source": [
        "elc.shape"
      ],
      "execution_count": 101,
      "outputs": [
        {
          "output_type": "execute_result",
          "data": {
            "text/plain": [
              "(1292954, 10)"
            ]
          },
          "metadata": {
            "tags": []
          },
          "execution_count": 101
        }
      ]
    },
    {
      "cell_type": "code",
      "metadata": {
        "colab": {
          "base_uri": "https://localhost:8080/"
        },
        "id": "D5dzSlRAnPBI",
        "outputId": "adbb34fd-2902-4ea0-ba33-156ab5a0157b"
      },
      "source": [
        "elc.groupby('model_attr').size()\n",
        "# we have three different model attribution"
      ],
      "execution_count": 102,
      "outputs": [
        {
          "output_type": "execute_result",
          "data": {
            "text/plain": [
              "model_attr\n",
              "Female         481171\n",
              "Female&Male    382068\n",
              "Male           429715\n",
              "dtype: int64"
            ]
          },
          "metadata": {
            "tags": []
          },
          "execution_count": 102
        }
      ]
    },
    {
      "cell_type": "code",
      "metadata": {
        "colab": {
          "base_uri": "https://localhost:8080/",
          "height": 1000
        },
        "id": "CsefqVGOnmwe",
        "outputId": "19d87bb6-d7b0-4f48-acea-472f7f740dfd"
      },
      "source": [
        "elc_ads=elc.groupby(['model_attr','category']).size()\n",
        "type(elc_ads)\n",
        "cross=elc_ads.to_frame()\n",
        "cross\n",
        "# category situation for different model attribution"
      ],
      "execution_count": 103,
      "outputs": [
        {
          "output_type": "execute_result",
          "data": {
            "text/html": [
              "<div>\n",
              "<style scoped>\n",
              "    .dataframe tbody tr th:only-of-type {\n",
              "        vertical-align: middle;\n",
              "    }\n",
              "\n",
              "    .dataframe tbody tr th {\n",
              "        vertical-align: top;\n",
              "    }\n",
              "\n",
              "    .dataframe thead th {\n",
              "        text-align: right;\n",
              "    }\n",
              "</style>\n",
              "<table border=\"1\" class=\"dataframe\">\n",
              "  <thead>\n",
              "    <tr style=\"text-align: right;\">\n",
              "      <th></th>\n",
              "      <th></th>\n",
              "      <th>0</th>\n",
              "    </tr>\n",
              "    <tr>\n",
              "      <th>model_attr</th>\n",
              "      <th>category</th>\n",
              "      <th></th>\n",
              "    </tr>\n",
              "  </thead>\n",
              "  <tbody>\n",
              "    <tr>\n",
              "      <th rowspan=\"10\" valign=\"top\">Female</th>\n",
              "      <th>Accessories &amp; Supplies</th>\n",
              "      <td>81713</td>\n",
              "    </tr>\n",
              "    <tr>\n",
              "      <th>Camera &amp; Photo</th>\n",
              "      <td>80832</td>\n",
              "    </tr>\n",
              "    <tr>\n",
              "      <th>Car Electronics &amp; GPS</th>\n",
              "      <td>14300</td>\n",
              "    </tr>\n",
              "    <tr>\n",
              "      <th>Computers &amp; Accessories</th>\n",
              "      <td>141203</td>\n",
              "    </tr>\n",
              "    <tr>\n",
              "      <th>Headphones</th>\n",
              "      <td>95735</td>\n",
              "    </tr>\n",
              "    <tr>\n",
              "      <th>Home Audio</th>\n",
              "      <td>7506</td>\n",
              "    </tr>\n",
              "    <tr>\n",
              "      <th>Portable Audio &amp; Video</th>\n",
              "      <td>40671</td>\n",
              "    </tr>\n",
              "    <tr>\n",
              "      <th>Security &amp; Surveillance</th>\n",
              "      <td>4288</td>\n",
              "    </tr>\n",
              "    <tr>\n",
              "      <th>Television &amp; Video</th>\n",
              "      <td>10996</td>\n",
              "    </tr>\n",
              "    <tr>\n",
              "      <th>Wearable Technology</th>\n",
              "      <td>3927</td>\n",
              "    </tr>\n",
              "    <tr>\n",
              "      <th rowspan=\"10\" valign=\"top\">Female&amp;Male</th>\n",
              "      <th>Accessories &amp; Supplies</th>\n",
              "      <td>29757</td>\n",
              "    </tr>\n",
              "    <tr>\n",
              "      <th>Camera &amp; Photo</th>\n",
              "      <td>46113</td>\n",
              "    </tr>\n",
              "    <tr>\n",
              "      <th>Car Electronics &amp; GPS</th>\n",
              "      <td>7424</td>\n",
              "    </tr>\n",
              "    <tr>\n",
              "      <th>Computers &amp; Accessories</th>\n",
              "      <td>68043</td>\n",
              "    </tr>\n",
              "    <tr>\n",
              "      <th>Headphones</th>\n",
              "      <td>122006</td>\n",
              "    </tr>\n",
              "    <tr>\n",
              "      <th>Home Audio</th>\n",
              "      <td>11739</td>\n",
              "    </tr>\n",
              "    <tr>\n",
              "      <th>Portable Audio &amp; Video</th>\n",
              "      <td>75105</td>\n",
              "    </tr>\n",
              "    <tr>\n",
              "      <th>Security &amp; Surveillance</th>\n",
              "      <td>2409</td>\n",
              "    </tr>\n",
              "    <tr>\n",
              "      <th>Television &amp; Video</th>\n",
              "      <td>14097</td>\n",
              "    </tr>\n",
              "    <tr>\n",
              "      <th>Wearable Technology</th>\n",
              "      <td>5375</td>\n",
              "    </tr>\n",
              "    <tr>\n",
              "      <th rowspan=\"10\" valign=\"top\">Male</th>\n",
              "      <th>Accessories &amp; Supplies</th>\n",
              "      <td>47128</td>\n",
              "    </tr>\n",
              "    <tr>\n",
              "      <th>Camera &amp; Photo</th>\n",
              "      <td>65628</td>\n",
              "    </tr>\n",
              "    <tr>\n",
              "      <th>Car Electronics &amp; GPS</th>\n",
              "      <td>11346</td>\n",
              "    </tr>\n",
              "    <tr>\n",
              "      <th>Computers &amp; Accessories</th>\n",
              "      <td>113692</td>\n",
              "    </tr>\n",
              "    <tr>\n",
              "      <th>Headphones</th>\n",
              "      <td>141593</td>\n",
              "    </tr>\n",
              "    <tr>\n",
              "      <th>Home Audio</th>\n",
              "      <td>4948</td>\n",
              "    </tr>\n",
              "    <tr>\n",
              "      <th>Portable Audio &amp; Video</th>\n",
              "      <td>27594</td>\n",
              "    </tr>\n",
              "    <tr>\n",
              "      <th>Security &amp; Surveillance</th>\n",
              "      <td>4109</td>\n",
              "    </tr>\n",
              "    <tr>\n",
              "      <th>Television &amp; Video</th>\n",
              "      <td>6964</td>\n",
              "    </tr>\n",
              "    <tr>\n",
              "      <th>Wearable Technology</th>\n",
              "      <td>6713</td>\n",
              "    </tr>\n",
              "  </tbody>\n",
              "</table>\n",
              "</div>"
            ],
            "text/plain": [
              "                                          0\n",
              "model_attr  category                       \n",
              "Female      Accessories & Supplies    81713\n",
              "            Camera & Photo            80832\n",
              "            Car Electronics & GPS     14300\n",
              "            Computers & Accessories  141203\n",
              "            Headphones                95735\n",
              "            Home Audio                 7506\n",
              "            Portable Audio & Video    40671\n",
              "            Security & Surveillance    4288\n",
              "            Television & Video        10996\n",
              "            Wearable Technology        3927\n",
              "Female&Male Accessories & Supplies    29757\n",
              "            Camera & Photo            46113\n",
              "            Car Electronics & GPS      7424\n",
              "            Computers & Accessories   68043\n",
              "            Headphones               122006\n",
              "            Home Audio                11739\n",
              "            Portable Audio & Video    75105\n",
              "            Security & Surveillance    2409\n",
              "            Television & Video        14097\n",
              "            Wearable Technology        5375\n",
              "Male        Accessories & Supplies    47128\n",
              "            Camera & Photo            65628\n",
              "            Car Electronics & GPS     11346\n",
              "            Computers & Accessories  113692\n",
              "            Headphones               141593\n",
              "            Home Audio                 4948\n",
              "            Portable Audio & Video    27594\n",
              "            Security & Surveillance    4109\n",
              "            Television & Video         6964\n",
              "            Wearable Technology        6713"
            ]
          },
          "metadata": {
            "tags": []
          },
          "execution_count": 103
        }
      ]
    },
    {
      "cell_type": "code",
      "metadata": {
        "colab": {
          "base_uri": "https://localhost:8080/",
          "height": 155
        },
        "id": "ZAXNuh-anxU-",
        "outputId": "3c77eac1-2091-4ce0-ce6e-f3e0dc84560b"
      },
      "source": [
        "x, y, hue = \"category\", \"prop\", \"model_attr\"\n",
        "\n",
        "f, axes = plt.subplots(1, 2)\n",
        "sns.countplot(x=x, hue=hue, data=elc, ax=axes[0])\n",
        "f.set_size_inches(40, 5)\n",
        "prop_df = (elc[x]\n",
        "           .groupby(elc[hue])\n",
        "           .value_counts(normalize=True)\n",
        "           .rename(y)\n",
        "           .reset_index())\n",
        "\n",
        "sns.barplot(x=x, y=y, hue=hue, data=prop_df, ax=axes[1])\n",
        "# There is an apparent difference in camera & photo with headphones that more camera & photo recommendation to female and mroe headphones recommedation to male."
      ],
      "execution_count": 104,
      "outputs": [
        {
          "output_type": "execute_result",
          "data": {
            "text/plain": [
              "<matplotlib.axes._subplots.AxesSubplot at 0x7ff9e1a62ed0>"
            ]
          },
          "metadata": {
            "tags": []
          },
          "execution_count": 104
        },
        {
          "output_type": "display_data",
          "data": {
            "image/png": "[encoded data removed]",
            "text/plain": [
              "<Figure size 2880x360 with 2 Axes>"
            ]
          },
          "metadata": {
            "tags": [],
            "needs_background": "light"
          }
        }
      ]
    },
    {
      "cell_type": "code",
      "metadata": {
        "colab": {
          "base_uri": "https://localhost:8080/"
        },
        "id": "Ht_FO3WnUtU1",
        "outputId": "a25baf7e-cc9e-4991-cd28-d96eeed5d024"
      },
      "source": [
        "#EDA for modcloth\n",
        "\n",
        "# We have 99893 rows and 12 columns\n",
        "mod.shape "
      ],
      "execution_count": 105,
      "outputs": [
        {
          "output_type": "execute_result",
          "data": {
            "text/plain": [
              "(99893, 12)"
            ]
          },
          "metadata": {
            "tags": []
          },
          "execution_count": 105
        }
      ]
    },
    {
      "cell_type": "code",
      "metadata": {
        "colab": {
          "base_uri": "https://localhost:8080/",
          "height": 309
        },
        "id": "EBasfprmU4Gu",
        "outputId": "1f25f444-e141-4751-f4d3-e345a85a6e83"
      },
      "source": [
        "mod.head()"
      ],
      "execution_count": 106,
      "outputs": [
        {
          "output_type": "execute_result",
          "data": {
            "text/html": [
              "<div>\n",
              "<style scoped>\n",
              "    .dataframe tbody tr th:only-of-type {\n",
              "        vertical-align: middle;\n",
              "    }\n",
              "\n",
              "    .dataframe tbody tr th {\n",
              "        vertical-align: top;\n",
              "    }\n",
              "\n",
              "    .dataframe thead th {\n",
              "        text-align: right;\n",
              "    }\n",
              "</style>\n",
              "<table border=\"1\" class=\"dataframe\">\n",
              "  <thead>\n",
              "    <tr style=\"text-align: right;\">\n",
              "      <th></th>\n",
              "      <th>item_id</th>\n",
              "      <th>user_id</th>\n",
              "      <th>rating</th>\n",
              "      <th>timestamp</th>\n",
              "      <th>size</th>\n",
              "      <th>fit</th>\n",
              "      <th>user_attr</th>\n",
              "      <th>model_attr</th>\n",
              "      <th>category</th>\n",
              "      <th>brand</th>\n",
              "      <th>year</th>\n",
              "      <th>split</th>\n",
              "    </tr>\n",
              "  </thead>\n",
              "  <tbody>\n",
              "    <tr>\n",
              "      <th>0</th>\n",
              "      <td>7443</td>\n",
              "      <td>Alex</td>\n",
              "      <td>4</td>\n",
              "      <td>2010-01-21 08:00:00+00:00</td>\n",
              "      <td>NaN</td>\n",
              "      <td>NaN</td>\n",
              "      <td>Small</td>\n",
              "      <td>Small</td>\n",
              "      <td>Dresses</td>\n",
              "      <td>NaN</td>\n",
              "      <td>2012</td>\n",
              "      <td>0</td>\n",
              "    </tr>\n",
              "    <tr>\n",
              "      <th>1</th>\n",
              "      <td>7443</td>\n",
              "      <td>carolyn.agan</td>\n",
              "      <td>3</td>\n",
              "      <td>2010-01-27 08:00:00+00:00</td>\n",
              "      <td>NaN</td>\n",
              "      <td>NaN</td>\n",
              "      <td>NaN</td>\n",
              "      <td>Small</td>\n",
              "      <td>Dresses</td>\n",
              "      <td>NaN</td>\n",
              "      <td>2012</td>\n",
              "      <td>0</td>\n",
              "    </tr>\n",
              "    <tr>\n",
              "      <th>2</th>\n",
              "      <td>7443</td>\n",
              "      <td>Robyn</td>\n",
              "      <td>4</td>\n",
              "      <td>2010-01-29 08:00:00+00:00</td>\n",
              "      <td>NaN</td>\n",
              "      <td>NaN</td>\n",
              "      <td>Small</td>\n",
              "      <td>Small</td>\n",
              "      <td>Dresses</td>\n",
              "      <td>NaN</td>\n",
              "      <td>2012</td>\n",
              "      <td>0</td>\n",
              "    </tr>\n",
              "    <tr>\n",
              "      <th>3</th>\n",
              "      <td>7443</td>\n",
              "      <td>De</td>\n",
              "      <td>4</td>\n",
              "      <td>2010-02-13 08:00:00+00:00</td>\n",
              "      <td>NaN</td>\n",
              "      <td>NaN</td>\n",
              "      <td>NaN</td>\n",
              "      <td>Small</td>\n",
              "      <td>Dresses</td>\n",
              "      <td>NaN</td>\n",
              "      <td>2012</td>\n",
              "      <td>0</td>\n",
              "    </tr>\n",
              "    <tr>\n",
              "      <th>4</th>\n",
              "      <td>7443</td>\n",
              "      <td>tasha</td>\n",
              "      <td>4</td>\n",
              "      <td>2010-02-18 08:00:00+00:00</td>\n",
              "      <td>NaN</td>\n",
              "      <td>NaN</td>\n",
              "      <td>Small</td>\n",
              "      <td>Small</td>\n",
              "      <td>Dresses</td>\n",
              "      <td>NaN</td>\n",
              "      <td>2012</td>\n",
              "      <td>0</td>\n",
              "    </tr>\n",
              "  </tbody>\n",
              "</table>\n",
              "</div>"
            ],
            "text/plain": [
              "   item_id       user_id  rating  ... brand  year split\n",
              "0     7443          Alex       4  ...   NaN  2012     0\n",
              "1     7443  carolyn.agan       3  ...   NaN  2012     0\n",
              "2     7443         Robyn       4  ...   NaN  2012     0\n",
              "3     7443            De       4  ...   NaN  2012     0\n",
              "4     7443         tasha       4  ...   NaN  2012     0\n",
              "\n",
              "[5 rows x 12 columns]"
            ]
          },
          "metadata": {
            "tags": []
          },
          "execution_count": 106
        }
      ]
    },
    {
      "cell_type": "code",
      "metadata": {
        "colab": {
          "base_uri": "https://localhost:8080/"
        },
        "id": "v8Y0qJ_0U9tS",
        "outputId": "56d984a0-0dc1-416a-d081-f8374d086c12"
      },
      "source": [
        "mod.info()\n",
        "# There is missing value for user_attr column"
      ],
      "execution_count": 107,
      "outputs": [
        {
          "output_type": "stream",
          "text": [
            "<class 'pandas.core.frame.DataFrame'>\n",
            "RangeIndex: 99893 entries, 0 to 99892\n",
            "Data columns (total 12 columns):\n",
            " #   Column      Non-Null Count  Dtype  \n",
            "---  ------      --------------  -----  \n",
            " 0   item_id     99893 non-null  int64  \n",
            " 1   user_id     99892 non-null  object \n",
            " 2   rating      99893 non-null  int64  \n",
            " 3   timestamp   99893 non-null  object \n",
            " 4   size        78133 non-null  float64\n",
            " 5   fit         81387 non-null  object \n",
            " 6   user_attr   91526 non-null  object \n",
            " 7   model_attr  99893 non-null  object \n",
            " 8   category    99893 non-null  object \n",
            " 9   brand       25913 non-null  object \n",
            " 10  year        99893 non-null  int64  \n",
            " 11  split       99893 non-null  int64  \n",
            "dtypes: float64(1), int64(4), object(7)\n",
            "memory usage: 9.1+ MB\n"
          ],
          "name": "stdout"
        }
      ]
    },
    {
      "cell_type": "code",
      "metadata": {
        "id": "57_ao2RVVYjR"
      },
      "source": [
        "#Drop duplicates if any\n",
        "mod.drop_duplicates(inplace=True) "
      ],
      "execution_count": 108,
      "outputs": []
    },
    {
      "cell_type": "code",
      "metadata": {
        "colab": {
          "base_uri": "https://localhost:8080/"
        },
        "id": "6ieXqwkLVb7Y",
        "outputId": "f20511bb-c050-4ce6-e1c8-e8bd6986215c"
      },
      "source": [
        "mod.shape"
      ],
      "execution_count": 109,
      "outputs": [
        {
          "output_type": "execute_result",
          "data": {
            "text/plain": [
              "(99893, 12)"
            ]
          },
          "metadata": {
            "tags": []
          },
          "execution_count": 109
        }
      ]
    },
    {
      "cell_type": "code",
      "metadata": {
        "colab": {
          "base_uri": "https://localhost:8080/"
        },
        "id": "l7NFr9sxbV94",
        "outputId": "5b59272a-cf51-4337-d91a-725d61fe89b9"
      },
      "source": [
        "mod.groupby('user_attr').size()\n",
        "# we have two different user attribution"
      ],
      "execution_count": 110,
      "outputs": [
        {
          "output_type": "execute_result",
          "data": {
            "text/plain": [
              "user_attr\n",
              "Large    18365\n",
              "Small    73161\n",
              "dtype: int64"
            ]
          },
          "metadata": {
            "tags": []
          },
          "execution_count": 110
        }
      ]
    },
    {
      "cell_type": "code",
      "metadata": {
        "colab": {
          "base_uri": "https://localhost:8080/"
        },
        "id": "1ET8b6tTphPV",
        "outputId": "e58a931f-9a34-49b6-ec27-276c4642ad11"
      },
      "source": [
        "mod.groupby('fit').size()\n",
        "# we have two different model attribution"
      ],
      "execution_count": 111,
      "outputs": [
        {
          "output_type": "execute_result",
          "data": {
            "text/plain": [
              "fit\n",
              "Just right        55287\n",
              "Slightly large    11114\n",
              "Slightly small    10771\n",
              "Very large         2177\n",
              "Very small         2038\n",
              "dtype: int64"
            ]
          },
          "metadata": {
            "tags": []
          },
          "execution_count": 111
        }
      ]
    },
    {
      "cell_type": "code",
      "metadata": {
        "colab": {
          "base_uri": "https://localhost:8080/",
          "height": 328
        },
        "id": "-adovz09l4zy",
        "outputId": "1bca08de-b61b-4d25-ace2-80f839574694"
      },
      "source": [
        "mod_ads=mod.groupby(['user_attr','category']).size()\n",
        "type(mod_ads)\n",
        "cross=mod_ads.to_frame()\n",
        "cross\n",
        "# category situation for different model attribution"
      ],
      "execution_count": 112,
      "outputs": [
        {
          "output_type": "execute_result",
          "data": {
            "text/html": [
              "<div>\n",
              "<style scoped>\n",
              "    .dataframe tbody tr th:only-of-type {\n",
              "        vertical-align: middle;\n",
              "    }\n",
              "\n",
              "    .dataframe tbody tr th {\n",
              "        vertical-align: top;\n",
              "    }\n",
              "\n",
              "    .dataframe thead th {\n",
              "        text-align: right;\n",
              "    }\n",
              "</style>\n",
              "<table border=\"1\" class=\"dataframe\">\n",
              "  <thead>\n",
              "    <tr style=\"text-align: right;\">\n",
              "      <th></th>\n",
              "      <th></th>\n",
              "      <th>0</th>\n",
              "    </tr>\n",
              "    <tr>\n",
              "      <th>user_attr</th>\n",
              "      <th>category</th>\n",
              "      <th></th>\n",
              "    </tr>\n",
              "  </thead>\n",
              "  <tbody>\n",
              "    <tr>\n",
              "      <th rowspan=\"4\" valign=\"top\">Large</th>\n",
              "      <th>Bottoms</th>\n",
              "      <td>4297</td>\n",
              "    </tr>\n",
              "    <tr>\n",
              "      <th>Dresses</th>\n",
              "      <td>6083</td>\n",
              "    </tr>\n",
              "    <tr>\n",
              "      <th>Outerwear</th>\n",
              "      <td>1236</td>\n",
              "    </tr>\n",
              "    <tr>\n",
              "      <th>Tops</th>\n",
              "      <td>6749</td>\n",
              "    </tr>\n",
              "    <tr>\n",
              "      <th rowspan=\"4\" valign=\"top\">Small</th>\n",
              "      <th>Bottoms</th>\n",
              "      <td>17624</td>\n",
              "    </tr>\n",
              "    <tr>\n",
              "      <th>Dresses</th>\n",
              "      <td>25006</td>\n",
              "    </tr>\n",
              "    <tr>\n",
              "      <th>Outerwear</th>\n",
              "      <td>5277</td>\n",
              "    </tr>\n",
              "    <tr>\n",
              "      <th>Tops</th>\n",
              "      <td>25254</td>\n",
              "    </tr>\n",
              "  </tbody>\n",
              "</table>\n",
              "</div>"
            ],
            "text/plain": [
              "                         0\n",
              "user_attr category        \n",
              "Large     Bottoms     4297\n",
              "          Dresses     6083\n",
              "          Outerwear   1236\n",
              "          Tops        6749\n",
              "Small     Bottoms    17624\n",
              "          Dresses    25006\n",
              "          Outerwear   5277\n",
              "          Tops       25254"
            ]
          },
          "metadata": {
            "tags": []
          },
          "execution_count": 112
        }
      ]
    },
    {
      "cell_type": "code",
      "metadata": {
        "colab": {
          "base_uri": "https://localhost:8080/",
          "height": 700
        },
        "id": "XUHASLTVqgn_",
        "outputId": "e19a1613-ac7b-44d8-aa7f-2db357ca25c7"
      },
      "source": [
        "mod_ads=mod.groupby(['fit','category']).size()\n",
        "type(mod_ads)\n",
        "cross=mod_ads.to_frame()\n",
        "cross\n",
        "# category situation for different model attribution"
      ],
      "execution_count": 113,
      "outputs": [
        {
          "output_type": "execute_result",
          "data": {
            "text/html": [
              "<div>\n",
              "<style scoped>\n",
              "    .dataframe tbody tr th:only-of-type {\n",
              "        vertical-align: middle;\n",
              "    }\n",
              "\n",
              "    .dataframe tbody tr th {\n",
              "        vertical-align: top;\n",
              "    }\n",
              "\n",
              "    .dataframe thead th {\n",
              "        text-align: right;\n",
              "    }\n",
              "</style>\n",
              "<table border=\"1\" class=\"dataframe\">\n",
              "  <thead>\n",
              "    <tr style=\"text-align: right;\">\n",
              "      <th></th>\n",
              "      <th></th>\n",
              "      <th>0</th>\n",
              "    </tr>\n",
              "    <tr>\n",
              "      <th>fit</th>\n",
              "      <th>category</th>\n",
              "      <th></th>\n",
              "    </tr>\n",
              "  </thead>\n",
              "  <tbody>\n",
              "    <tr>\n",
              "      <th rowspan=\"4\" valign=\"top\">Just right</th>\n",
              "      <th>Bottoms</th>\n",
              "      <td>13567</td>\n",
              "    </tr>\n",
              "    <tr>\n",
              "      <th>Dresses</th>\n",
              "      <td>19271</td>\n",
              "    </tr>\n",
              "    <tr>\n",
              "      <th>Outerwear</th>\n",
              "      <td>3864</td>\n",
              "    </tr>\n",
              "    <tr>\n",
              "      <th>Tops</th>\n",
              "      <td>18585</td>\n",
              "    </tr>\n",
              "    <tr>\n",
              "      <th rowspan=\"4\" valign=\"top\">Slightly large</th>\n",
              "      <th>Bottoms</th>\n",
              "      <td>2308</td>\n",
              "    </tr>\n",
              "    <tr>\n",
              "      <th>Dresses</th>\n",
              "      <td>3287</td>\n",
              "    </tr>\n",
              "    <tr>\n",
              "      <th>Outerwear</th>\n",
              "      <td>875</td>\n",
              "    </tr>\n",
              "    <tr>\n",
              "      <th>Tops</th>\n",
              "      <td>4644</td>\n",
              "    </tr>\n",
              "    <tr>\n",
              "      <th rowspan=\"4\" valign=\"top\">Slightly small</th>\n",
              "      <th>Bottoms</th>\n",
              "      <td>2918</td>\n",
              "    </tr>\n",
              "    <tr>\n",
              "      <th>Dresses</th>\n",
              "      <td>3497</td>\n",
              "    </tr>\n",
              "    <tr>\n",
              "      <th>Outerwear</th>\n",
              "      <td>906</td>\n",
              "    </tr>\n",
              "    <tr>\n",
              "      <th>Tops</th>\n",
              "      <td>3450</td>\n",
              "    </tr>\n",
              "    <tr>\n",
              "      <th rowspan=\"4\" valign=\"top\">Very large</th>\n",
              "      <th>Bottoms</th>\n",
              "      <td>353</td>\n",
              "    </tr>\n",
              "    <tr>\n",
              "      <th>Dresses</th>\n",
              "      <td>506</td>\n",
              "    </tr>\n",
              "    <tr>\n",
              "      <th>Outerwear</th>\n",
              "      <td>186</td>\n",
              "    </tr>\n",
              "    <tr>\n",
              "      <th>Tops</th>\n",
              "      <td>1132</td>\n",
              "    </tr>\n",
              "    <tr>\n",
              "      <th rowspan=\"4\" valign=\"top\">Very small</th>\n",
              "      <th>Bottoms</th>\n",
              "      <td>754</td>\n",
              "    </tr>\n",
              "    <tr>\n",
              "      <th>Dresses</th>\n",
              "      <td>654</td>\n",
              "    </tr>\n",
              "    <tr>\n",
              "      <th>Outerwear</th>\n",
              "      <td>102</td>\n",
              "    </tr>\n",
              "    <tr>\n",
              "      <th>Tops</th>\n",
              "      <td>528</td>\n",
              "    </tr>\n",
              "  </tbody>\n",
              "</table>\n",
              "</div>"
            ],
            "text/plain": [
              "                              0\n",
              "fit            category        \n",
              "Just right     Bottoms    13567\n",
              "               Dresses    19271\n",
              "               Outerwear   3864\n",
              "               Tops       18585\n",
              "Slightly large Bottoms     2308\n",
              "               Dresses     3287\n",
              "               Outerwear    875\n",
              "               Tops        4644\n",
              "Slightly small Bottoms     2918\n",
              "               Dresses     3497\n",
              "               Outerwear    906\n",
              "               Tops        3450\n",
              "Very large     Bottoms      353\n",
              "               Dresses      506\n",
              "               Outerwear    186\n",
              "               Tops        1132\n",
              "Very small     Bottoms      754\n",
              "               Dresses      654\n",
              "               Outerwear    102\n",
              "               Tops         528"
            ]
          },
          "metadata": {
            "tags": []
          },
          "execution_count": 113
        }
      ]
    },
    {
      "cell_type": "code",
      "metadata": {
        "colab": {
          "base_uri": "https://localhost:8080/",
          "height": 351
        },
        "id": "DYuWvNYSeN9r",
        "outputId": "2b6cb82f-6b2b-419d-86d3-8e5b11656982"
      },
      "source": [
        "x, y, hue = \"category\", \"prop\", \"user_attr\"\n",
        "\n",
        "f, axes = plt.subplots(1, 2)\n",
        "sns.countplot(x=x, hue=hue, data=mod, ax=axes[0])\n",
        "f.set_size_inches(12, 5)\n",
        "prop_df = (mod[x]\n",
        "           .groupby(mod[hue])\n",
        "           .value_counts(normalize=True)\n",
        "           .rename(y)\n",
        "           .reset_index())\n",
        "\n",
        "sns.barplot(x=x, y=y, hue=hue, data=prop_df, ax=axes[1])\n",
        "# There is a similar cloth recommendation situation for small or large user attribution"
      ],
      "execution_count": 114,
      "outputs": [
        {
          "output_type": "execute_result",
          "data": {
            "text/plain": [
              "<matplotlib.axes._subplots.AxesSubplot at 0x7ff9e3227cd0>"
            ]
          },
          "metadata": {
            "tags": []
          },
          "execution_count": 114
        },
        {
          "output_type": "display_data",
          "data": {
            "image/png": "[encoded data removed]",
            "text/plain": [
              "<Figure size 864x360 with 2 Axes>"
            ]
          },
          "metadata": {
            "tags": [],
            "needs_background": "light"
          }
        }
      ]
    },
    {
      "cell_type": "code",
      "metadata": {
        "colab": {
          "base_uri": "https://localhost:8080/",
          "height": 352
        },
        "id": "fPOjLYyup_Ys",
        "outputId": "a9cacd16-3fa0-41a2-c7d2-c475c93e93c8"
      },
      "source": [
        "x, y, hue = \"category\", \"prop\", \"fit\"\n",
        "\n",
        "f, axes = plt.subplots(1, 2)\n",
        "sns.countplot(x=x, hue=hue, data=mod, ax=axes[0])\n",
        "f.set_size_inches(12, 5)\n",
        "prop_df = (mod[x]\n",
        "           .groupby(mod[hue])\n",
        "           .value_counts(normalize=True)\n",
        "           .rename(y)\n",
        "           .reset_index())\n",
        "\n",
        "sns.barplot(x=x, y=y, hue=hue, data=prop_df, ax=axes[1])\n",
        "# There is a big difference for cloth recommendation for fit situation in tops and bottoms. More tops recommendation to \"very large\", and more bottoms recommendation to \"very small\""
      ],
      "execution_count": 115,
      "outputs": [
        {
          "output_type": "execute_result",
          "data": {
            "text/plain": [
              "<matplotlib.axes._subplots.AxesSubplot at 0x7ff9e175b110>"
            ]
          },
          "metadata": {
            "tags": []
          },
          "execution_count": 115
        },
        {
          "output_type": "display_data",
          "data": {
            "image/png": "[encoded data removed]",
            "text/plain": [
              "<Figure size 864x360 with 2 Axes>"
            ]
          },
          "metadata": {
            "tags": [],
            "needs_background": "light"
          }
        }
      ]
    }
  ]
}