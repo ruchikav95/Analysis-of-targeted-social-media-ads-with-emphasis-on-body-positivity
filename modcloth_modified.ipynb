{
  "nbformat": 4,
  "nbformat_minor": 0,
  "metadata": {
    "colab": {
      "name": "modcloth_modified.ipynb",
      "provenance": [],
      "collapsed_sections": []
    },
    "kernelspec": {
      "display_name": "Python 3",
      "language": "python",
      "name": "python3"
    },
    "language_info": {
      "codemirror_mode": {
        "name": "ipython",
        "version": 3
      },
      "file_extension": ".py",
      "mimetype": "text/x-python",
      "name": "python",
      "nbconvert_exporter": "python",
      "pygments_lexer": "ipython3",
      "version": "3.7.6"
    }
  },
  "cells": [
    {
      "cell_type": "markdown",
      "metadata": {
        "id": "S__k9u_l7BD-"
      },
      "source": [
        "# Modcloth Exploratory Data Analysis"
      ]
    },
    {
      "cell_type": "markdown",
      "metadata": {
        "id": "3Nb6ECNT7BD_"
      },
      "source": [
        "Key Definitions:\n",
        "- User Attribute: Average size that the user purchases \n",
        "- Model Attribute: Size of models shown to users in pictures/websites/ads\n",
        "- Fit: Fit of the user \n",
        "- Size: Size of the user"
      ]
    },
    {
      "cell_type": "markdown",
      "metadata": {
        "id": "_Ujgoyqa7BEA"
      },
      "source": [
        "## Loading the Data"
      ]
    },
    {
      "cell_type": "code",
      "metadata": {
        "id": "fxb7OOp7Td-0"
      },
      "source": [
        "import pandas as pd\n",
        "import numpy as np\n",
        "import seaborn as sns\n",
        "import matplotlib.pyplot as plt\n",
        "\n",
        "mod=pd.read_csv(\"modcloth.csv\")"
      ],
      "execution_count": 1,
      "outputs": []
    },
    {
      "cell_type": "markdown",
      "metadata": {
        "id": "5JYivjhg7BEB"
      },
      "source": [
        "## Inspecting the Data"
      ]
    },
    {
      "cell_type": "code",
      "metadata": {
        "colab": {
          "base_uri": "https://localhost:8080/",
          "height": 204
        },
        "id": "OiOdSNlD7BEB",
        "outputId": "d0d15af2-7778-48be-b664-867d31dff24e"
      },
      "source": [
        "#viewing the first five rows\n",
        "mod.head(5)"
      ],
      "execution_count": 2,
      "outputs": [
        {
          "output_type": "execute_result",
          "data": {
            "text/html": [
              "<div>\n",
              "<style scoped>\n",
              "    .dataframe tbody tr th:only-of-type {\n",
              "        vertical-align: middle;\n",
              "    }\n",
              "\n",
              "    .dataframe tbody tr th {\n",
              "        vertical-align: top;\n",
              "    }\n",
              "\n",
              "    .dataframe thead th {\n",
              "        text-align: right;\n",
              "    }\n",
              "</style>\n",
              "<table border=\"1\" class=\"dataframe\">\n",
              "  <thead>\n",
              "    <tr style=\"text-align: right;\">\n",
              "      <th></th>\n",
              "      <th>item_id</th>\n",
              "      <th>user_id</th>\n",
              "      <th>rating</th>\n",
              "      <th>timestamp</th>\n",
              "      <th>size</th>\n",
              "      <th>fit</th>\n",
              "      <th>user_attr</th>\n",
              "      <th>model_attr</th>\n",
              "      <th>category</th>\n",
              "      <th>brand</th>\n",
              "      <th>year</th>\n",
              "      <th>split</th>\n",
              "    </tr>\n",
              "  </thead>\n",
              "  <tbody>\n",
              "    <tr>\n",
              "      <th>0</th>\n",
              "      <td>7443</td>\n",
              "      <td>Alex</td>\n",
              "      <td>4</td>\n",
              "      <td>2010-01-21 08:00:00+00:00</td>\n",
              "      <td>NaN</td>\n",
              "      <td>NaN</td>\n",
              "      <td>Small</td>\n",
              "      <td>Small</td>\n",
              "      <td>Dresses</td>\n",
              "      <td>NaN</td>\n",
              "      <td>2012</td>\n",
              "      <td>0</td>\n",
              "    </tr>\n",
              "    <tr>\n",
              "      <th>1</th>\n",
              "      <td>7443</td>\n",
              "      <td>carolyn.agan</td>\n",
              "      <td>3</td>\n",
              "      <td>2010-01-27 08:00:00+00:00</td>\n",
              "      <td>NaN</td>\n",
              "      <td>NaN</td>\n",
              "      <td>NaN</td>\n",
              "      <td>Small</td>\n",
              "      <td>Dresses</td>\n",
              "      <td>NaN</td>\n",
              "      <td>2012</td>\n",
              "      <td>0</td>\n",
              "    </tr>\n",
              "    <tr>\n",
              "      <th>2</th>\n",
              "      <td>7443</td>\n",
              "      <td>Robyn</td>\n",
              "      <td>4</td>\n",
              "      <td>2010-01-29 08:00:00+00:00</td>\n",
              "      <td>NaN</td>\n",
              "      <td>NaN</td>\n",
              "      <td>Small</td>\n",
              "      <td>Small</td>\n",
              "      <td>Dresses</td>\n",
              "      <td>NaN</td>\n",
              "      <td>2012</td>\n",
              "      <td>0</td>\n",
              "    </tr>\n",
              "    <tr>\n",
              "      <th>3</th>\n",
              "      <td>7443</td>\n",
              "      <td>De</td>\n",
              "      <td>4</td>\n",
              "      <td>2010-02-13 08:00:00+00:00</td>\n",
              "      <td>NaN</td>\n",
              "      <td>NaN</td>\n",
              "      <td>NaN</td>\n",
              "      <td>Small</td>\n",
              "      <td>Dresses</td>\n",
              "      <td>NaN</td>\n",
              "      <td>2012</td>\n",
              "      <td>0</td>\n",
              "    </tr>\n",
              "    <tr>\n",
              "      <th>4</th>\n",
              "      <td>7443</td>\n",
              "      <td>tasha</td>\n",
              "      <td>4</td>\n",
              "      <td>2010-02-18 08:00:00+00:00</td>\n",
              "      <td>NaN</td>\n",
              "      <td>NaN</td>\n",
              "      <td>Small</td>\n",
              "      <td>Small</td>\n",
              "      <td>Dresses</td>\n",
              "      <td>NaN</td>\n",
              "      <td>2012</td>\n",
              "      <td>0</td>\n",
              "    </tr>\n",
              "  </tbody>\n",
              "</table>\n",
              "</div>"
            ],
            "text/plain": [
              "   item_id       user_id  rating  ... brand  year split\n",
              "0     7443          Alex       4  ...   NaN  2012     0\n",
              "1     7443  carolyn.agan       3  ...   NaN  2012     0\n",
              "2     7443         Robyn       4  ...   NaN  2012     0\n",
              "3     7443            De       4  ...   NaN  2012     0\n",
              "4     7443         tasha       4  ...   NaN  2012     0\n",
              "\n",
              "[5 rows x 12 columns]"
            ]
          },
          "metadata": {
            "tags": []
          },
          "execution_count": 2
        }
      ]
    },
    {
      "cell_type": "code",
      "metadata": {
        "colab": {
          "base_uri": "https://localhost:8080/"
        },
        "id": "4zteAjQt7BEC",
        "outputId": "0f4b6942-7143-4744-e144-ce2c0a830c17"
      },
      "source": [
        "# inspecting the shape of the dataframe\n",
        "mod.shape"
      ],
      "execution_count": 3,
      "outputs": [
        {
          "output_type": "execute_result",
          "data": {
            "text/plain": [
              "(99893, 12)"
            ]
          },
          "metadata": {
            "tags": []
          },
          "execution_count": 3
        }
      ]
    },
    {
      "cell_type": "code",
      "metadata": {
        "colab": {
          "base_uri": "https://localhost:8080/"
        },
        "id": "oV0s3a437BEC",
        "outputId": "6b16e053-55bd-46b9-b32d-0bd4d044b168"
      },
      "source": [
        "# data types of mod\n",
        "mod.dtypes"
      ],
      "execution_count": 4,
      "outputs": [
        {
          "output_type": "execute_result",
          "data": {
            "text/plain": [
              "item_id         int64\n",
              "user_id        object\n",
              "rating          int64\n",
              "timestamp      object\n",
              "size          float64\n",
              "fit            object\n",
              "user_attr      object\n",
              "model_attr     object\n",
              "category       object\n",
              "brand          object\n",
              "year            int64\n",
              "split           int64\n",
              "dtype: object"
            ]
          },
          "metadata": {
            "tags": []
          },
          "execution_count": 4
        }
      ]
    },
    {
      "cell_type": "code",
      "metadata": {
        "colab": {
          "base_uri": "https://localhost:8080/"
        },
        "id": "zas85XmO7BED",
        "outputId": "2ac53be1-90bf-4b9c-fb95-7331f8099f8b"
      },
      "source": [
        "# checking the number of missing values\n",
        "mod.isnull().sum()"
      ],
      "execution_count": 5,
      "outputs": [
        {
          "output_type": "execute_result",
          "data": {
            "text/plain": [
              "item_id           0\n",
              "user_id           1\n",
              "rating            0\n",
              "timestamp         0\n",
              "size          21760\n",
              "fit           18506\n",
              "user_attr      8367\n",
              "model_attr        0\n",
              "category          0\n",
              "brand         73980\n",
              "year              0\n",
              "split             0\n",
              "dtype: int64"
            ]
          },
          "metadata": {
            "tags": []
          },
          "execution_count": 5
        }
      ]
    },
    {
      "cell_type": "code",
      "metadata": {
        "colab": {
          "base_uri": "https://localhost:8080/",
          "height": 297
        },
        "id": "i3pLyYlZ7BED",
        "outputId": "521334e3-015c-4d69-f720-f103ccd5675e"
      },
      "source": [
        "# inspecting the dataframe \n",
        "mod.describe()"
      ],
      "execution_count": 6,
      "outputs": [
        {
          "output_type": "execute_result",
          "data": {
            "text/html": [
              "<div>\n",
              "<style scoped>\n",
              "    .dataframe tbody tr th:only-of-type {\n",
              "        vertical-align: middle;\n",
              "    }\n",
              "\n",
              "    .dataframe tbody tr th {\n",
              "        vertical-align: top;\n",
              "    }\n",
              "\n",
              "    .dataframe thead th {\n",
              "        text-align: right;\n",
              "    }\n",
              "</style>\n",
              "<table border=\"1\" class=\"dataframe\">\n",
              "  <thead>\n",
              "    <tr style=\"text-align: right;\">\n",
              "      <th></th>\n",
              "      <th>item_id</th>\n",
              "      <th>rating</th>\n",
              "      <th>size</th>\n",
              "      <th>year</th>\n",
              "      <th>split</th>\n",
              "    </tr>\n",
              "  </thead>\n",
              "  <tbody>\n",
              "    <tr>\n",
              "      <th>count</th>\n",
              "      <td>99893.000000</td>\n",
              "      <td>99893.000000</td>\n",
              "      <td>78133.000000</td>\n",
              "      <td>99893.000000</td>\n",
              "      <td>99893.000000</td>\n",
              "    </tr>\n",
              "    <tr>\n",
              "      <th>mean</th>\n",
              "      <td>83944.091208</td>\n",
              "      <td>4.209594</td>\n",
              "      <td>3.217322</td>\n",
              "      <td>2015.476450</td>\n",
              "      <td>0.358564</td>\n",
              "    </tr>\n",
              "    <tr>\n",
              "      <th>std</th>\n",
              "      <td>43558.135979</td>\n",
              "      <td>1.080633</td>\n",
              "      <td>1.885934</td>\n",
              "      <td>1.970262</td>\n",
              "      <td>0.720993</td>\n",
              "    </tr>\n",
              "    <tr>\n",
              "      <th>min</th>\n",
              "      <td>6454.000000</td>\n",
              "      <td>1.000000</td>\n",
              "      <td>0.000000</td>\n",
              "      <td>2010.000000</td>\n",
              "      <td>0.000000</td>\n",
              "    </tr>\n",
              "    <tr>\n",
              "      <th>25%</th>\n",
              "      <td>48629.000000</td>\n",
              "      <td>4.000000</td>\n",
              "      <td>2.000000</td>\n",
              "      <td>2014.000000</td>\n",
              "      <td>0.000000</td>\n",
              "    </tr>\n",
              "    <tr>\n",
              "      <th>50%</th>\n",
              "      <td>77878.000000</td>\n",
              "      <td>5.000000</td>\n",
              "      <td>3.000000</td>\n",
              "      <td>2016.000000</td>\n",
              "      <td>0.000000</td>\n",
              "    </tr>\n",
              "    <tr>\n",
              "      <th>75%</th>\n",
              "      <td>120126.000000</td>\n",
              "      <td>5.000000</td>\n",
              "      <td>4.000000</td>\n",
              "      <td>2017.000000</td>\n",
              "      <td>0.000000</td>\n",
              "    </tr>\n",
              "    <tr>\n",
              "      <th>max</th>\n",
              "      <td>155950.000000</td>\n",
              "      <td>5.000000</td>\n",
              "      <td>8.000000</td>\n",
              "      <td>2019.000000</td>\n",
              "      <td>2.000000</td>\n",
              "    </tr>\n",
              "  </tbody>\n",
              "</table>\n",
              "</div>"
            ],
            "text/plain": [
              "             item_id        rating          size          year         split\n",
              "count   99893.000000  99893.000000  78133.000000  99893.000000  99893.000000\n",
              "mean    83944.091208      4.209594      3.217322   2015.476450      0.358564\n",
              "std     43558.135979      1.080633      1.885934      1.970262      0.720993\n",
              "min      6454.000000      1.000000      0.000000   2010.000000      0.000000\n",
              "25%     48629.000000      4.000000      2.000000   2014.000000      0.000000\n",
              "50%     77878.000000      5.000000      3.000000   2016.000000      0.000000\n",
              "75%    120126.000000      5.000000      4.000000   2017.000000      0.000000\n",
              "max    155950.000000      5.000000      8.000000   2019.000000      2.000000"
            ]
          },
          "metadata": {
            "tags": []
          },
          "execution_count": 6
        }
      ]
    },
    {
      "cell_type": "markdown",
      "metadata": {
        "id": "iTOvzE6_7BED"
      },
      "source": [
        "## Data Cleaning "
      ]
    },
    {
      "cell_type": "code",
      "metadata": {
        "id": "f65JNsC57BEE"
      },
      "source": [
        "#removing missing values for size and user id\n",
        "mod.dropna(subset=['size', 'user_id'], inplace = True)"
      ],
      "execution_count": 7,
      "outputs": []
    },
    {
      "cell_type": "code",
      "metadata": {
        "colab": {
          "base_uri": "https://localhost:8080/"
        },
        "id": "n46ATwm_7BEE",
        "outputId": "f7a0a14f-6093-47b9-9685-511f13329073"
      },
      "source": [
        "#unique values for fit \n",
        "mod['fit'].unique()"
      ],
      "execution_count": 8,
      "outputs": [
        {
          "output_type": "execute_result",
          "data": {
            "text/plain": [
              "array(['Just right', 'Slightly large', 'Slightly small', 'Very small',\n",
              "       'Very large', nan], dtype=object)"
            ]
          },
          "metadata": {
            "tags": []
          },
          "execution_count": 8
        }
      ]
    },
    {
      "cell_type": "code",
      "metadata": {
        "colab": {
          "base_uri": "https://localhost:8080/"
        },
        "id": "yHFf_9HB7BEE",
        "outputId": "e12f6c31-6881-4d77-f0a4-726954a8f408"
      },
      "source": [
        "# unique values for user attribute\n",
        "mod['user_attr'].unique()"
      ],
      "execution_count": 9,
      "outputs": [
        {
          "output_type": "execute_result",
          "data": {
            "text/plain": [
              "array(['Small', 'Large'], dtype=object)"
            ]
          },
          "metadata": {
            "tags": []
          },
          "execution_count": 9
        }
      ]
    },
    {
      "cell_type": "code",
      "metadata": {
        "colab": {
          "base_uri": "https://localhost:8080/"
        },
        "id": "0Ne2za1T7BEE",
        "outputId": "90c50fd3-a67e-4600-e1f8-fd743e000971"
      },
      "source": [
        "# unique values for model attribute\n",
        "mod['model_attr'].unique()"
      ],
      "execution_count": 10,
      "outputs": [
        {
          "output_type": "execute_result",
          "data": {
            "text/plain": [
              "array(['Small', 'Small&Large'], dtype=object)"
            ]
          },
          "metadata": {
            "tags": []
          },
          "execution_count": 10
        }
      ]
    },
    {
      "cell_type": "code",
      "metadata": {
        "id": "BXfVx0AD7BEF",
        "outputId": "837c3955-b2b7-4fda-f5e8-908ce9158456"
      },
      "source": [
        "# after removing null values for size, we are only left with missing values for fit and brand\n",
        "# since more than half of the dataset consists of missing values for brand, we won't be removing those observations \n",
        "mod.isnull().sum()"
      ],
      "execution_count": null,
      "outputs": [
        {
          "output_type": "execute_result",
          "data": {
            "text/plain": [
              "item_id           0\n",
              "user_id           0\n",
              "rating            0\n",
              "timestamp         0\n",
              "size              0\n",
              "fit            7213\n",
              "user_attr         0\n",
              "model_attr        0\n",
              "category          0\n",
              "brand         59575\n",
              "year              0\n",
              "split             0\n",
              "dtype: int64"
            ]
          },
          "metadata": {
            "tags": []
          },
          "execution_count": 84
        }
      ]
    },
    {
      "cell_type": "code",
      "metadata": {
        "colab": {
          "base_uri": "https://localhost:8080/"
        },
        "id": "dcBW5-SN7BEF",
        "outputId": "1ff5db86-a44a-46fa-db82-ffc1ea423fac"
      },
      "source": [
        "# inspecting unique values of fit for each size\n",
        "for i in mod['size'].unique():\n",
        "    print('size', i)\n",
        "    print(mod[mod['size'] == i].fit.unique())\n",
        "    print('-------')"
      ],
      "execution_count": 11,
      "outputs": [
        {
          "output_type": "stream",
          "text": [
            "size 1.0\n",
            "['Just right' 'Slightly small' 'Slightly large' 'Very large' 'Very small'\n",
            " nan]\n",
            "-------\n",
            "size 2.0\n",
            "['Just right' 'Slightly small' 'Slightly large' 'Very large' 'Very small'\n",
            " nan]\n",
            "-------\n",
            "size 3.0\n",
            "['Just right' 'Slightly large' 'Slightly small' 'Very small' 'Very large'\n",
            " nan]\n",
            "-------\n",
            "size 7.0\n",
            "['Just right' 'Very small' 'Slightly small' 'Slightly large' 'Very large'\n",
            " nan]\n",
            "-------\n",
            "size 4.0\n",
            "['Slightly small' 'Just right' 'Very small' 'Slightly large' 'Very large'\n",
            " nan]\n",
            "-------\n",
            "size 6.0\n",
            "['Very small' 'Just right' 'Slightly small' 'Slightly large' 'Very large'\n",
            " nan]\n",
            "-------\n",
            "size 5.0\n",
            "['Just right' 'Slightly large' 'Very small' 'Slightly small' 'Very large'\n",
            " nan]\n",
            "-------\n",
            "size 8.0\n",
            "['Very small' 'Slightly small' 'Slightly large' 'Very large' 'Just right'\n",
            " nan]\n",
            "-------\n",
            "size 0.0\n",
            "['Just right' 'Slightly large' 'Very large' 'Slightly small' nan]\n",
            "-------\n"
          ],
          "name": "stdout"
        }
      ]
    },
    {
      "cell_type": "markdown",
      "metadata": {
        "id": "xfMLFWvI7BEF"
      },
      "source": [
        "The above loop displays that all sizes have fit values ranging from small to large which does not provide an accurate representation of the user fit. An example is also provided below, where 104 users of size 8 have a 'very small' fit which is misleading."
      ]
    },
    {
      "cell_type": "code",
      "metadata": {
        "colab": {
          "base_uri": "https://localhost:8080/",
          "height": 419
        },
        "id": "jAgewkt07BEG",
        "outputId": "152cd085-660e-4e65-f815-4860acd6a4fa"
      },
      "source": [
        "# 104 users of size 8 have a 'very small' fit \n",
        "mod[(mod['size'] == 8) & (mod['fit'] == 'Very small')]"
      ],
      "execution_count": 14,
      "outputs": [
        {
          "output_type": "execute_result",
          "data": {
            "text/html": [
              "<div>\n",
              "<style scoped>\n",
              "    .dataframe tbody tr th:only-of-type {\n",
              "        vertical-align: middle;\n",
              "    }\n",
              "\n",
              "    .dataframe tbody tr th {\n",
              "        vertical-align: top;\n",
              "    }\n",
              "\n",
              "    .dataframe thead th {\n",
              "        text-align: right;\n",
              "    }\n",
              "</style>\n",
              "<table border=\"1\" class=\"dataframe\">\n",
              "  <thead>\n",
              "    <tr style=\"text-align: right;\">\n",
              "      <th></th>\n",
              "      <th>item_id</th>\n",
              "      <th>user_id</th>\n",
              "      <th>rating</th>\n",
              "      <th>timestamp</th>\n",
              "      <th>size</th>\n",
              "      <th>fit</th>\n",
              "      <th>user_attr</th>\n",
              "      <th>model_attr</th>\n",
              "      <th>category</th>\n",
              "      <th>brand</th>\n",
              "      <th>year</th>\n",
              "      <th>split</th>\n",
              "    </tr>\n",
              "  </thead>\n",
              "  <tbody>\n",
              "    <tr>\n",
              "      <th>1760</th>\n",
              "      <td>27590</td>\n",
              "      <td>Cattie</td>\n",
              "      <td>3</td>\n",
              "      <td>2012-02-26 08:00:00+00:00</td>\n",
              "      <td>8.0</td>\n",
              "      <td>Very small</td>\n",
              "      <td>Large</td>\n",
              "      <td>Small</td>\n",
              "      <td>Bottoms</td>\n",
              "      <td>NaN</td>\n",
              "      <td>2016</td>\n",
              "      <td>1</td>\n",
              "    </tr>\n",
              "    <tr>\n",
              "      <th>6417</th>\n",
              "      <td>7443</td>\n",
              "      <td>ericanrainey</td>\n",
              "      <td>1</td>\n",
              "      <td>2013-05-31 07:00:00+00:00</td>\n",
              "      <td>8.0</td>\n",
              "      <td>Very small</td>\n",
              "      <td>Large</td>\n",
              "      <td>Small</td>\n",
              "      <td>Dresses</td>\n",
              "      <td>NaN</td>\n",
              "      <td>2012</td>\n",
              "      <td>0</td>\n",
              "    </tr>\n",
              "    <tr>\n",
              "      <th>6818</th>\n",
              "      <td>7443</td>\n",
              "      <td>muneca0801</td>\n",
              "      <td>1</td>\n",
              "      <td>2013-06-20 07:00:00+00:00</td>\n",
              "      <td>8.0</td>\n",
              "      <td>Very small</td>\n",
              "      <td>Large</td>\n",
              "      <td>Small</td>\n",
              "      <td>Dresses</td>\n",
              "      <td>NaN</td>\n",
              "      <td>2012</td>\n",
              "      <td>0</td>\n",
              "    </tr>\n",
              "    <tr>\n",
              "      <th>6966</th>\n",
              "      <td>7443</td>\n",
              "      <td>Lorraine</td>\n",
              "      <td>4</td>\n",
              "      <td>2013-06-28 07:00:00+00:00</td>\n",
              "      <td>8.0</td>\n",
              "      <td>Very small</td>\n",
              "      <td>Large</td>\n",
              "      <td>Small</td>\n",
              "      <td>Dresses</td>\n",
              "      <td>NaN</td>\n",
              "      <td>2012</td>\n",
              "      <td>0</td>\n",
              "    </tr>\n",
              "    <tr>\n",
              "      <th>8016</th>\n",
              "      <td>27590</td>\n",
              "      <td>muelle_de_luz</td>\n",
              "      <td>5</td>\n",
              "      <td>2013-08-18 07:00:00+00:00</td>\n",
              "      <td>8.0</td>\n",
              "      <td>Very small</td>\n",
              "      <td>Large</td>\n",
              "      <td>Small</td>\n",
              "      <td>Bottoms</td>\n",
              "      <td>NaN</td>\n",
              "      <td>2016</td>\n",
              "      <td>0</td>\n",
              "    </tr>\n",
              "    <tr>\n",
              "      <th>...</th>\n",
              "      <td>...</td>\n",
              "      <td>...</td>\n",
              "      <td>...</td>\n",
              "      <td>...</td>\n",
              "      <td>...</td>\n",
              "      <td>...</td>\n",
              "      <td>...</td>\n",
              "      <td>...</td>\n",
              "      <td>...</td>\n",
              "      <td>...</td>\n",
              "      <td>...</td>\n",
              "      <td>...</td>\n",
              "    </tr>\n",
              "    <tr>\n",
              "      <th>77427</th>\n",
              "      <td>154538</td>\n",
              "      <td>Leannel</td>\n",
              "      <td>2</td>\n",
              "      <td>2017-10-14 07:00:00+00:00</td>\n",
              "      <td>8.0</td>\n",
              "      <td>Very small</td>\n",
              "      <td>Large</td>\n",
              "      <td>Small</td>\n",
              "      <td>Dresses</td>\n",
              "      <td>Banned</td>\n",
              "      <td>2017</td>\n",
              "      <td>0</td>\n",
              "    </tr>\n",
              "    <tr>\n",
              "      <th>93174</th>\n",
              "      <td>150043</td>\n",
              "      <td>Swedegirl</td>\n",
              "      <td>2</td>\n",
              "      <td>2018-08-13 20:51:00.358000+00:00</td>\n",
              "      <td>8.0</td>\n",
              "      <td>Very small</td>\n",
              "      <td>Large</td>\n",
              "      <td>Small&amp;Large</td>\n",
              "      <td>Tops</td>\n",
              "      <td>NaN</td>\n",
              "      <td>2018</td>\n",
              "      <td>0</td>\n",
              "    </tr>\n",
              "    <tr>\n",
              "      <th>93871</th>\n",
              "      <td>36172</td>\n",
              "      <td>Sherman</td>\n",
              "      <td>1</td>\n",
              "      <td>2018-09-21 17:20:45.303000+00:00</td>\n",
              "      <td>8.0</td>\n",
              "      <td>Very small</td>\n",
              "      <td>Large</td>\n",
              "      <td>Small&amp;Large</td>\n",
              "      <td>Tops</td>\n",
              "      <td>NaN</td>\n",
              "      <td>2016</td>\n",
              "      <td>2</td>\n",
              "    </tr>\n",
              "    <tr>\n",
              "      <th>96414</th>\n",
              "      <td>36172</td>\n",
              "      <td>Marlins</td>\n",
              "      <td>2</td>\n",
              "      <td>2018-12-10 03:51:36.779000+00:00</td>\n",
              "      <td>8.0</td>\n",
              "      <td>Very small</td>\n",
              "      <td>Large</td>\n",
              "      <td>Small&amp;Large</td>\n",
              "      <td>Tops</td>\n",
              "      <td>NaN</td>\n",
              "      <td>2016</td>\n",
              "      <td>0</td>\n",
              "    </tr>\n",
              "    <tr>\n",
              "      <th>96914</th>\n",
              "      <td>121272</td>\n",
              "      <td>HDinLA</td>\n",
              "      <td>3</td>\n",
              "      <td>2018-12-20 17:34:38.503000+00:00</td>\n",
              "      <td>8.0</td>\n",
              "      <td>Very small</td>\n",
              "      <td>Large</td>\n",
              "      <td>Small&amp;Large</td>\n",
              "      <td>Bottoms</td>\n",
              "      <td>Miss Candyfloss</td>\n",
              "      <td>2018</td>\n",
              "      <td>0</td>\n",
              "    </tr>\n",
              "  </tbody>\n",
              "</table>\n",
              "<p>104 rows × 12 columns</p>\n",
              "</div>"
            ],
            "text/plain": [
              "       item_id        user_id  rating  ...            brand  year split\n",
              "1760     27590         Cattie       3  ...              NaN  2016     1\n",
              "6417      7443   ericanrainey       1  ...              NaN  2012     0\n",
              "6818      7443     muneca0801       1  ...              NaN  2012     0\n",
              "6966      7443       Lorraine       4  ...              NaN  2012     0\n",
              "8016     27590  muelle_de_luz       5  ...              NaN  2016     0\n",
              "...        ...            ...     ...  ...              ...   ...   ...\n",
              "77427   154538        Leannel       2  ...           Banned  2017     0\n",
              "93174   150043      Swedegirl       2  ...              NaN  2018     0\n",
              "93871    36172        Sherman       1  ...              NaN  2016     2\n",
              "96414    36172        Marlins       2  ...              NaN  2016     0\n",
              "96914   121272         HDinLA       3  ...  Miss Candyfloss  2018     0\n",
              "\n",
              "[104 rows x 12 columns]"
            ]
          },
          "metadata": {
            "tags": []
          },
          "execution_count": 14
        }
      ]
    },
    {
      "cell_type": "code",
      "metadata": {
        "colab": {
          "base_uri": "https://localhost:8080/"
        },
        "id": "OERxoDcl-Ha2",
        "outputId": "069007df-34ca-4264-be5e-d020de2c1285"
      },
      "source": [
        "(mod[(mod['size'] == 8) & (mod['fit'] == 'Very small') & (mod['model_attr'] == 'Small')]).shape"
      ],
      "execution_count": 24,
      "outputs": [
        {
          "output_type": "execute_result",
          "data": {
            "text/plain": [
              "(41, 12)"
            ]
          },
          "metadata": {
            "tags": []
          },
          "execution_count": 24
        }
      ]
    },
    {
      "cell_type": "code",
      "metadata": {
        "colab": {
          "base_uri": "https://localhost:8080/",
          "height": 419
        },
        "id": "S4ac3qo__GiD",
        "outputId": "9b757e3a-354d-42b7-9e19-0d954a102852"
      },
      "source": [
        "mod[(mod['size'] == 7) & (mod['fit'] == 'Very small')]"
      ],
      "execution_count": 25,
      "outputs": [
        {
          "output_type": "execute_result",
          "data": {
            "text/html": [
              "<div>\n",
              "<style scoped>\n",
              "    .dataframe tbody tr th:only-of-type {\n",
              "        vertical-align: middle;\n",
              "    }\n",
              "\n",
              "    .dataframe tbody tr th {\n",
              "        vertical-align: top;\n",
              "    }\n",
              "\n",
              "    .dataframe thead th {\n",
              "        text-align: right;\n",
              "    }\n",
              "</style>\n",
              "<table border=\"1\" class=\"dataframe\">\n",
              "  <thead>\n",
              "    <tr style=\"text-align: right;\">\n",
              "      <th></th>\n",
              "      <th>item_id</th>\n",
              "      <th>user_id</th>\n",
              "      <th>rating</th>\n",
              "      <th>timestamp</th>\n",
              "      <th>size</th>\n",
              "      <th>fit</th>\n",
              "      <th>user_attr</th>\n",
              "      <th>model_attr</th>\n",
              "      <th>category</th>\n",
              "      <th>brand</th>\n",
              "      <th>year</th>\n",
              "      <th>split</th>\n",
              "    </tr>\n",
              "  </thead>\n",
              "  <tbody>\n",
              "    <tr>\n",
              "      <th>344</th>\n",
              "      <td>7443</td>\n",
              "      <td>rachael.margarita</td>\n",
              "      <td>1</td>\n",
              "      <td>2011-02-24 08:00:00+00:00</td>\n",
              "      <td>7.0</td>\n",
              "      <td>Very small</td>\n",
              "      <td>Large</td>\n",
              "      <td>Small</td>\n",
              "      <td>Dresses</td>\n",
              "      <td>NaN</td>\n",
              "      <td>2012</td>\n",
              "      <td>0</td>\n",
              "    </tr>\n",
              "    <tr>\n",
              "      <th>1786</th>\n",
              "      <td>16411</td>\n",
              "      <td>Leeny</td>\n",
              "      <td>2</td>\n",
              "      <td>2012-02-29 08:00:00+00:00</td>\n",
              "      <td>7.0</td>\n",
              "      <td>Very small</td>\n",
              "      <td>Large</td>\n",
              "      <td>Small</td>\n",
              "      <td>Dresses</td>\n",
              "      <td>NaN</td>\n",
              "      <td>2011</td>\n",
              "      <td>0</td>\n",
              "    </tr>\n",
              "    <tr>\n",
              "      <th>2236</th>\n",
              "      <td>16411</td>\n",
              "      <td>jcpollutra</td>\n",
              "      <td>1</td>\n",
              "      <td>2012-05-22 07:00:00+00:00</td>\n",
              "      <td>7.0</td>\n",
              "      <td>Very small</td>\n",
              "      <td>Large</td>\n",
              "      <td>Small</td>\n",
              "      <td>Dresses</td>\n",
              "      <td>NaN</td>\n",
              "      <td>2011</td>\n",
              "      <td>0</td>\n",
              "    </tr>\n",
              "    <tr>\n",
              "      <th>6482</th>\n",
              "      <td>21296</td>\n",
              "      <td>milonde</td>\n",
              "      <td>3</td>\n",
              "      <td>2013-06-05 07:00:00+00:00</td>\n",
              "      <td>7.0</td>\n",
              "      <td>Very small</td>\n",
              "      <td>Large</td>\n",
              "      <td>Small</td>\n",
              "      <td>Bottoms</td>\n",
              "      <td>ModCloth</td>\n",
              "      <td>2013</td>\n",
              "      <td>0</td>\n",
              "    </tr>\n",
              "    <tr>\n",
              "      <th>7246</th>\n",
              "      <td>21296</td>\n",
              "      <td>dani_elley05</td>\n",
              "      <td>2</td>\n",
              "      <td>2013-07-12 07:00:00+00:00</td>\n",
              "      <td>7.0</td>\n",
              "      <td>Very small</td>\n",
              "      <td>Large</td>\n",
              "      <td>Small</td>\n",
              "      <td>Bottoms</td>\n",
              "      <td>ModCloth</td>\n",
              "      <td>2013</td>\n",
              "      <td>0</td>\n",
              "    </tr>\n",
              "    <tr>\n",
              "      <th>...</th>\n",
              "      <td>...</td>\n",
              "      <td>...</td>\n",
              "      <td>...</td>\n",
              "      <td>...</td>\n",
              "      <td>...</td>\n",
              "      <td>...</td>\n",
              "      <td>...</td>\n",
              "      <td>...</td>\n",
              "      <td>...</td>\n",
              "      <td>...</td>\n",
              "      <td>...</td>\n",
              "      <td>...</td>\n",
              "    </tr>\n",
              "    <tr>\n",
              "      <th>98023</th>\n",
              "      <td>32134</td>\n",
              "      <td>MarathonMama</td>\n",
              "      <td>5</td>\n",
              "      <td>2019-02-04 17:54:59.592000+00:00</td>\n",
              "      <td>7.0</td>\n",
              "      <td>Very small</td>\n",
              "      <td>Large</td>\n",
              "      <td>Small&amp;Large</td>\n",
              "      <td>Dresses</td>\n",
              "      <td>NaN</td>\n",
              "      <td>2018</td>\n",
              "      <td>0</td>\n",
              "    </tr>\n",
              "    <tr>\n",
              "      <th>98113</th>\n",
              "      <td>32134</td>\n",
              "      <td>Raleigh</td>\n",
              "      <td>2</td>\n",
              "      <td>2019-02-07 05:20:41.316000+00:00</td>\n",
              "      <td>7.0</td>\n",
              "      <td>Very small</td>\n",
              "      <td>Large</td>\n",
              "      <td>Small&amp;Large</td>\n",
              "      <td>Dresses</td>\n",
              "      <td>NaN</td>\n",
              "      <td>2018</td>\n",
              "      <td>0</td>\n",
              "    </tr>\n",
              "    <tr>\n",
              "      <th>98949</th>\n",
              "      <td>32134</td>\n",
              "      <td>Sewingmamaof3</td>\n",
              "      <td>5</td>\n",
              "      <td>2019-03-26 22:15:34.553000+00:00</td>\n",
              "      <td>7.0</td>\n",
              "      <td>Very small</td>\n",
              "      <td>Large</td>\n",
              "      <td>Small&amp;Large</td>\n",
              "      <td>Dresses</td>\n",
              "      <td>NaN</td>\n",
              "      <td>2018</td>\n",
              "      <td>2</td>\n",
              "    </tr>\n",
              "    <tr>\n",
              "      <th>99065</th>\n",
              "      <td>133399</td>\n",
              "      <td>ny</td>\n",
              "      <td>1</td>\n",
              "      <td>2019-04-06 02:50:01.063000+00:00</td>\n",
              "      <td>7.0</td>\n",
              "      <td>Very small</td>\n",
              "      <td>Large</td>\n",
              "      <td>Small&amp;Large</td>\n",
              "      <td>Bottoms</td>\n",
              "      <td>Miss Candyfloss</td>\n",
              "      <td>2016</td>\n",
              "      <td>0</td>\n",
              "    </tr>\n",
              "    <tr>\n",
              "      <th>99519</th>\n",
              "      <td>6454</td>\n",
              "      <td>Queen</td>\n",
              "      <td>2</td>\n",
              "      <td>2019-05-18 02:54:44.894000+00:00</td>\n",
              "      <td>7.0</td>\n",
              "      <td>Very small</td>\n",
              "      <td>Small</td>\n",
              "      <td>Small&amp;Large</td>\n",
              "      <td>Dresses</td>\n",
              "      <td>ModCloth</td>\n",
              "      <td>2017</td>\n",
              "      <td>2</td>\n",
              "    </tr>\n",
              "  </tbody>\n",
              "</table>\n",
              "<p>226 rows × 12 columns</p>\n",
              "</div>"
            ],
            "text/plain": [
              "       item_id            user_id  rating  ...            brand  year split\n",
              "344       7443  rachael.margarita       1  ...              NaN  2012     0\n",
              "1786     16411              Leeny       2  ...              NaN  2011     0\n",
              "2236     16411         jcpollutra       1  ...              NaN  2011     0\n",
              "6482     21296            milonde       3  ...         ModCloth  2013     0\n",
              "7246     21296       dani_elley05       2  ...         ModCloth  2013     0\n",
              "...        ...                ...     ...  ...              ...   ...   ...\n",
              "98023    32134       MarathonMama       5  ...              NaN  2018     0\n",
              "98113    32134            Raleigh       2  ...              NaN  2018     0\n",
              "98949    32134      Sewingmamaof3       5  ...              NaN  2018     2\n",
              "99065   133399                 ny       1  ...  Miss Candyfloss  2016     0\n",
              "99519     6454              Queen       2  ...         ModCloth  2017     2\n",
              "\n",
              "[226 rows x 12 columns]"
            ]
          },
          "metadata": {
            "tags": []
          },
          "execution_count": 25
        }
      ]
    },
    {
      "cell_type": "code",
      "metadata": {
        "colab": {
          "base_uri": "https://localhost:8080/"
        },
        "id": "3ha8pf1R_GrE",
        "outputId": "bd17b1aa-41c8-4640-e518-2cc1f6eddb01"
      },
      "source": [
        "(mod[(mod['size'] == 7) & (mod['fit'] == 'Very small') & (mod['model_attr'] == 'Small')]).shape"
      ],
      "execution_count": 32,
      "outputs": [
        {
          "output_type": "execute_result",
          "data": {
            "text/plain": [
              "(156, 12)"
            ]
          },
          "metadata": {
            "tags": []
          },
          "execution_count": 32
        }
      ]
    },
    {
      "cell_type": "code",
      "metadata": {
        "colab": {
          "base_uri": "https://localhost:8080/",
          "height": 419
        },
        "id": "CDtSaaUH943C",
        "outputId": "51a0bac0-ff65-4eb4-8add-dd5d1ebe6cf2"
      },
      "source": [
        "mod[(mod['size'] == 1) & (mod['fit'] == 'Very large')]"
      ],
      "execution_count": 29,
      "outputs": [
        {
          "output_type": "execute_result",
          "data": {
            "text/html": [
              "<div>\n",
              "<style scoped>\n",
              "    .dataframe tbody tr th:only-of-type {\n",
              "        vertical-align: middle;\n",
              "    }\n",
              "\n",
              "    .dataframe tbody tr th {\n",
              "        vertical-align: top;\n",
              "    }\n",
              "\n",
              "    .dataframe thead th {\n",
              "        text-align: right;\n",
              "    }\n",
              "</style>\n",
              "<table border=\"1\" class=\"dataframe\">\n",
              "  <thead>\n",
              "    <tr style=\"text-align: right;\">\n",
              "      <th></th>\n",
              "      <th>item_id</th>\n",
              "      <th>user_id</th>\n",
              "      <th>rating</th>\n",
              "      <th>timestamp</th>\n",
              "      <th>size</th>\n",
              "      <th>fit</th>\n",
              "      <th>user_attr</th>\n",
              "      <th>model_attr</th>\n",
              "      <th>category</th>\n",
              "      <th>brand</th>\n",
              "      <th>year</th>\n",
              "      <th>split</th>\n",
              "    </tr>\n",
              "  </thead>\n",
              "  <tbody>\n",
              "    <tr>\n",
              "      <th>462</th>\n",
              "      <td>16411</td>\n",
              "      <td>releceb</td>\n",
              "      <td>1</td>\n",
              "      <td>2011-06-15 07:00:00+00:00</td>\n",
              "      <td>1.0</td>\n",
              "      <td>Very large</td>\n",
              "      <td>Small</td>\n",
              "      <td>Small</td>\n",
              "      <td>Dresses</td>\n",
              "      <td>NaN</td>\n",
              "      <td>2011</td>\n",
              "      <td>0</td>\n",
              "    </tr>\n",
              "    <tr>\n",
              "      <th>1210</th>\n",
              "      <td>16411</td>\n",
              "      <td>nerual86</td>\n",
              "      <td>5</td>\n",
              "      <td>2011-12-05 08:00:00+00:00</td>\n",
              "      <td>1.0</td>\n",
              "      <td>Very large</td>\n",
              "      <td>Small</td>\n",
              "      <td>Small</td>\n",
              "      <td>Dresses</td>\n",
              "      <td>NaN</td>\n",
              "      <td>2011</td>\n",
              "      <td>0</td>\n",
              "    </tr>\n",
              "    <tr>\n",
              "      <th>1410</th>\n",
              "      <td>31644</td>\n",
              "      <td>Lori</td>\n",
              "      <td>2</td>\n",
              "      <td>2012-01-03 08:00:00+00:00</td>\n",
              "      <td>1.0</td>\n",
              "      <td>Very large</td>\n",
              "      <td>Small</td>\n",
              "      <td>Small&amp;Large</td>\n",
              "      <td>Dresses</td>\n",
              "      <td>NaN</td>\n",
              "      <td>2015</td>\n",
              "      <td>0</td>\n",
              "    </tr>\n",
              "    <tr>\n",
              "      <th>1698</th>\n",
              "      <td>22563</td>\n",
              "      <td>lauren</td>\n",
              "      <td>1</td>\n",
              "      <td>2012-02-18 08:00:00+00:00</td>\n",
              "      <td>1.0</td>\n",
              "      <td>Very large</td>\n",
              "      <td>Small</td>\n",
              "      <td>Small</td>\n",
              "      <td>Tops</td>\n",
              "      <td>NaN</td>\n",
              "      <td>2014</td>\n",
              "      <td>0</td>\n",
              "    </tr>\n",
              "    <tr>\n",
              "      <th>2337</th>\n",
              "      <td>22563</td>\n",
              "      <td>Venecia</td>\n",
              "      <td>3</td>\n",
              "      <td>2012-06-06 07:00:00+00:00</td>\n",
              "      <td>1.0</td>\n",
              "      <td>Very large</td>\n",
              "      <td>Small</td>\n",
              "      <td>Small</td>\n",
              "      <td>Tops</td>\n",
              "      <td>NaN</td>\n",
              "      <td>2014</td>\n",
              "      <td>0</td>\n",
              "    </tr>\n",
              "    <tr>\n",
              "      <th>...</th>\n",
              "      <td>...</td>\n",
              "      <td>...</td>\n",
              "      <td>...</td>\n",
              "      <td>...</td>\n",
              "      <td>...</td>\n",
              "      <td>...</td>\n",
              "      <td>...</td>\n",
              "      <td>...</td>\n",
              "      <td>...</td>\n",
              "      <td>...</td>\n",
              "      <td>...</td>\n",
              "      <td>...</td>\n",
              "    </tr>\n",
              "    <tr>\n",
              "      <th>97213</th>\n",
              "      <td>140525</td>\n",
              "      <td>Ashley</td>\n",
              "      <td>3</td>\n",
              "      <td>2018-12-31 14:26:54.088000+00:00</td>\n",
              "      <td>1.0</td>\n",
              "      <td>Very large</td>\n",
              "      <td>Small</td>\n",
              "      <td>Small&amp;Large</td>\n",
              "      <td>Tops</td>\n",
              "      <td>NaN</td>\n",
              "      <td>2017</td>\n",
              "      <td>0</td>\n",
              "    </tr>\n",
              "    <tr>\n",
              "      <th>97214</th>\n",
              "      <td>146475</td>\n",
              "      <td>Ashley</td>\n",
              "      <td>5</td>\n",
              "      <td>2018-12-31 14:36:01.783000+00:00</td>\n",
              "      <td>1.0</td>\n",
              "      <td>Very large</td>\n",
              "      <td>Small</td>\n",
              "      <td>Small&amp;Large</td>\n",
              "      <td>Tops</td>\n",
              "      <td>NaN</td>\n",
              "      <td>2018</td>\n",
              "      <td>0</td>\n",
              "    </tr>\n",
              "    <tr>\n",
              "      <th>97295</th>\n",
              "      <td>143422</td>\n",
              "      <td>SF</td>\n",
              "      <td>3</td>\n",
              "      <td>2019-01-04 04:07:00.155000+00:00</td>\n",
              "      <td>1.0</td>\n",
              "      <td>Very large</td>\n",
              "      <td>Small</td>\n",
              "      <td>Small</td>\n",
              "      <td>Outerwear</td>\n",
              "      <td>NaN</td>\n",
              "      <td>2017</td>\n",
              "      <td>2</td>\n",
              "    </tr>\n",
              "    <tr>\n",
              "      <th>98765</th>\n",
              "      <td>27439</td>\n",
              "      <td>Chicago</td>\n",
              "      <td>3</td>\n",
              "      <td>2019-03-12 17:06:40.878000+00:00</td>\n",
              "      <td>1.0</td>\n",
              "      <td>Very large</td>\n",
              "      <td>Small</td>\n",
              "      <td>Small&amp;Large</td>\n",
              "      <td>Outerwear</td>\n",
              "      <td>Steve Madden</td>\n",
              "      <td>2018</td>\n",
              "      <td>0</td>\n",
              "    </tr>\n",
              "    <tr>\n",
              "      <th>98988</th>\n",
              "      <td>153643</td>\n",
              "      <td>Terry</td>\n",
              "      <td>3</td>\n",
              "      <td>2019-03-31 00:40:08.806000+00:00</td>\n",
              "      <td>1.0</td>\n",
              "      <td>Very large</td>\n",
              "      <td>Small</td>\n",
              "      <td>Small&amp;Large</td>\n",
              "      <td>Dresses</td>\n",
              "      <td>NaN</td>\n",
              "      <td>2019</td>\n",
              "      <td>2</td>\n",
              "    </tr>\n",
              "  </tbody>\n",
              "</table>\n",
              "<p>422 rows × 12 columns</p>\n",
              "</div>"
            ],
            "text/plain": [
              "       item_id   user_id  rating  ...         brand  year split\n",
              "462      16411   releceb       1  ...           NaN  2011     0\n",
              "1210     16411  nerual86       5  ...           NaN  2011     0\n",
              "1410     31644      Lori       2  ...           NaN  2015     0\n",
              "1698     22563    lauren       1  ...           NaN  2014     0\n",
              "2337     22563   Venecia       3  ...           NaN  2014     0\n",
              "...        ...       ...     ...  ...           ...   ...   ...\n",
              "97213   140525    Ashley       3  ...           NaN  2017     0\n",
              "97214   146475    Ashley       5  ...           NaN  2018     0\n",
              "97295   143422        SF       3  ...           NaN  2017     2\n",
              "98765    27439   Chicago       3  ...  Steve Madden  2018     0\n",
              "98988   153643     Terry       3  ...           NaN  2019     2\n",
              "\n",
              "[422 rows x 12 columns]"
            ]
          },
          "metadata": {
            "tags": []
          },
          "execution_count": 29
        }
      ]
    },
    {
      "cell_type": "code",
      "metadata": {
        "colab": {
          "base_uri": "https://localhost:8080/",
          "height": 419
        },
        "id": "uJIY2SFS9PZI",
        "outputId": "469892b3-4a61-4eb9-a559-333e56009205"
      },
      "source": [
        "mod[(mod['size'] == 1) & (mod['fit'] == 'Very large') & (mod['model_attr'] == 'Small&Large')]"
      ],
      "execution_count": 30,
      "outputs": [
        {
          "output_type": "execute_result",
          "data": {
            "text/html": [
              "<div>\n",
              "<style scoped>\n",
              "    .dataframe tbody tr th:only-of-type {\n",
              "        vertical-align: middle;\n",
              "    }\n",
              "\n",
              "    .dataframe tbody tr th {\n",
              "        vertical-align: top;\n",
              "    }\n",
              "\n",
              "    .dataframe thead th {\n",
              "        text-align: right;\n",
              "    }\n",
              "</style>\n",
              "<table border=\"1\" class=\"dataframe\">\n",
              "  <thead>\n",
              "    <tr style=\"text-align: right;\">\n",
              "      <th></th>\n",
              "      <th>item_id</th>\n",
              "      <th>user_id</th>\n",
              "      <th>rating</th>\n",
              "      <th>timestamp</th>\n",
              "      <th>size</th>\n",
              "      <th>fit</th>\n",
              "      <th>user_attr</th>\n",
              "      <th>model_attr</th>\n",
              "      <th>category</th>\n",
              "      <th>brand</th>\n",
              "      <th>year</th>\n",
              "      <th>split</th>\n",
              "    </tr>\n",
              "  </thead>\n",
              "  <tbody>\n",
              "    <tr>\n",
              "      <th>1410</th>\n",
              "      <td>31644</td>\n",
              "      <td>Lori</td>\n",
              "      <td>2</td>\n",
              "      <td>2012-01-03 08:00:00+00:00</td>\n",
              "      <td>1.0</td>\n",
              "      <td>Very large</td>\n",
              "      <td>Small</td>\n",
              "      <td>Small&amp;Large</td>\n",
              "      <td>Dresses</td>\n",
              "      <td>NaN</td>\n",
              "      <td>2015</td>\n",
              "      <td>0</td>\n",
              "    </tr>\n",
              "    <tr>\n",
              "      <th>2635</th>\n",
              "      <td>44893</td>\n",
              "      <td>Pooja</td>\n",
              "      <td>2</td>\n",
              "      <td>2012-07-22 07:00:00+00:00</td>\n",
              "      <td>1.0</td>\n",
              "      <td>Very large</td>\n",
              "      <td>Small</td>\n",
              "      <td>Small&amp;Large</td>\n",
              "      <td>Tops</td>\n",
              "      <td>NaN</td>\n",
              "      <td>2012</td>\n",
              "      <td>0</td>\n",
              "    </tr>\n",
              "    <tr>\n",
              "      <th>2676</th>\n",
              "      <td>50818</td>\n",
              "      <td>Harmony</td>\n",
              "      <td>3</td>\n",
              "      <td>2012-07-29 07:00:00+00:00</td>\n",
              "      <td>1.0</td>\n",
              "      <td>Very large</td>\n",
              "      <td>Small</td>\n",
              "      <td>Small&amp;Large</td>\n",
              "      <td>Bottoms</td>\n",
              "      <td>NaN</td>\n",
              "      <td>2016</td>\n",
              "      <td>0</td>\n",
              "    </tr>\n",
              "    <tr>\n",
              "      <th>2959</th>\n",
              "      <td>44261</td>\n",
              "      <td>Allie</td>\n",
              "      <td>4</td>\n",
              "      <td>2012-09-15 07:00:00+00:00</td>\n",
              "      <td>1.0</td>\n",
              "      <td>Very large</td>\n",
              "      <td>Small</td>\n",
              "      <td>Small&amp;Large</td>\n",
              "      <td>Tops</td>\n",
              "      <td>NaN</td>\n",
              "      <td>2014</td>\n",
              "      <td>0</td>\n",
              "    </tr>\n",
              "    <tr>\n",
              "      <th>3199</th>\n",
              "      <td>49587</td>\n",
              "      <td>ModNicole</td>\n",
              "      <td>2</td>\n",
              "      <td>2012-10-02 07:00:00+00:00</td>\n",
              "      <td>1.0</td>\n",
              "      <td>Very large</td>\n",
              "      <td>Small</td>\n",
              "      <td>Small&amp;Large</td>\n",
              "      <td>Dresses</td>\n",
              "      <td>NaN</td>\n",
              "      <td>2014</td>\n",
              "      <td>0</td>\n",
              "    </tr>\n",
              "    <tr>\n",
              "      <th>...</th>\n",
              "      <td>...</td>\n",
              "      <td>...</td>\n",
              "      <td>...</td>\n",
              "      <td>...</td>\n",
              "      <td>...</td>\n",
              "      <td>...</td>\n",
              "      <td>...</td>\n",
              "      <td>...</td>\n",
              "      <td>...</td>\n",
              "      <td>...</td>\n",
              "      <td>...</td>\n",
              "      <td>...</td>\n",
              "    </tr>\n",
              "    <tr>\n",
              "      <th>96651</th>\n",
              "      <td>144543</td>\n",
              "      <td>JDK</td>\n",
              "      <td>1</td>\n",
              "      <td>2018-12-14 17:06:20.477000+00:00</td>\n",
              "      <td>1.0</td>\n",
              "      <td>Very large</td>\n",
              "      <td>Small</td>\n",
              "      <td>Small&amp;Large</td>\n",
              "      <td>Tops</td>\n",
              "      <td>NaN</td>\n",
              "      <td>2019</td>\n",
              "      <td>0</td>\n",
              "    </tr>\n",
              "    <tr>\n",
              "      <th>97213</th>\n",
              "      <td>140525</td>\n",
              "      <td>Ashley</td>\n",
              "      <td>3</td>\n",
              "      <td>2018-12-31 14:26:54.088000+00:00</td>\n",
              "      <td>1.0</td>\n",
              "      <td>Very large</td>\n",
              "      <td>Small</td>\n",
              "      <td>Small&amp;Large</td>\n",
              "      <td>Tops</td>\n",
              "      <td>NaN</td>\n",
              "      <td>2017</td>\n",
              "      <td>0</td>\n",
              "    </tr>\n",
              "    <tr>\n",
              "      <th>97214</th>\n",
              "      <td>146475</td>\n",
              "      <td>Ashley</td>\n",
              "      <td>5</td>\n",
              "      <td>2018-12-31 14:36:01.783000+00:00</td>\n",
              "      <td>1.0</td>\n",
              "      <td>Very large</td>\n",
              "      <td>Small</td>\n",
              "      <td>Small&amp;Large</td>\n",
              "      <td>Tops</td>\n",
              "      <td>NaN</td>\n",
              "      <td>2018</td>\n",
              "      <td>0</td>\n",
              "    </tr>\n",
              "    <tr>\n",
              "      <th>98765</th>\n",
              "      <td>27439</td>\n",
              "      <td>Chicago</td>\n",
              "      <td>3</td>\n",
              "      <td>2019-03-12 17:06:40.878000+00:00</td>\n",
              "      <td>1.0</td>\n",
              "      <td>Very large</td>\n",
              "      <td>Small</td>\n",
              "      <td>Small&amp;Large</td>\n",
              "      <td>Outerwear</td>\n",
              "      <td>Steve Madden</td>\n",
              "      <td>2018</td>\n",
              "      <td>0</td>\n",
              "    </tr>\n",
              "    <tr>\n",
              "      <th>98988</th>\n",
              "      <td>153643</td>\n",
              "      <td>Terry</td>\n",
              "      <td>3</td>\n",
              "      <td>2019-03-31 00:40:08.806000+00:00</td>\n",
              "      <td>1.0</td>\n",
              "      <td>Very large</td>\n",
              "      <td>Small</td>\n",
              "      <td>Small&amp;Large</td>\n",
              "      <td>Dresses</td>\n",
              "      <td>NaN</td>\n",
              "      <td>2019</td>\n",
              "      <td>2</td>\n",
              "    </tr>\n",
              "  </tbody>\n",
              "</table>\n",
              "<p>232 rows × 12 columns</p>\n",
              "</div>"
            ],
            "text/plain": [
              "       item_id    user_id  rating  ...         brand  year split\n",
              "1410     31644       Lori       2  ...           NaN  2015     0\n",
              "2635     44893      Pooja       2  ...           NaN  2012     0\n",
              "2676     50818    Harmony       3  ...           NaN  2016     0\n",
              "2959     44261      Allie       4  ...           NaN  2014     0\n",
              "3199     49587  ModNicole       2  ...           NaN  2014     0\n",
              "...        ...        ...     ...  ...           ...   ...   ...\n",
              "96651   144543        JDK       1  ...           NaN  2019     0\n",
              "97213   140525     Ashley       3  ...           NaN  2017     0\n",
              "97214   146475     Ashley       5  ...           NaN  2018     0\n",
              "98765    27439    Chicago       3  ...  Steve Madden  2018     0\n",
              "98988   153643      Terry       3  ...           NaN  2019     2\n",
              "\n",
              "[232 rows x 12 columns]"
            ]
          },
          "metadata": {
            "tags": []
          },
          "execution_count": 30
        }
      ]
    },
    {
      "cell_type": "markdown",
      "metadata": {
        "id": "BwQ5H_Hv_VNy"
      },
      "source": [
        "The model pictures used to demonstrate the cloths may cause misunderstanding to customers. People tend to buy smaller sizes when they are browsing cloths with small size model pictures. In contrast, people are more likely to buy larger sizes when they are given both the small and large size model pictures. For instance, for customers who wear size 8, almost 40% of the 'Very small' fit feedback provided with a small size model attribution picture. Similarly, for customers who wear size 7, almost 70% of the 'Very small' fit feedback provided with a small size model attribution picture. For customers who wear size 1, almost 55% of the 'Very large' fit feedback provided with both Small&Large model attribution pictures. "
      ]
    },
    {
      "cell_type": "markdown",
      "metadata": {
        "id": "zi1TqSM97BEG"
      },
      "source": [
        "For this reason, we create a new column which accurately represents the fit of each user\n",
        "- Size 0-2: Small\n",
        "- Size 3-5: Medium\n",
        "- Size 6-8: Large "
      ]
    },
    {
      "cell_type": "code",
      "metadata": {
        "colab": {
          "base_uri": "https://localhost:8080/",
          "height": 204
        },
        "id": "Mry7D3uD7BEG",
        "outputId": "3c512add-28df-4b10-fe50-ba625c25dd53"
      },
      "source": [
        "# a new column 'fit_of_user' provides an accurate representation of user fit \n",
        "col = []\n",
        "for i in mod['size']:\n",
        "    if i <= 2:\n",
        "        col.append('small')\n",
        "    elif (i >= 3) & (i <= 5):\n",
        "        col.append('medium')\n",
        "    else:\n",
        "        col.append('large')\n",
        "        \n",
        "mod['fit_of_user'] = col\n",
        "#inspecting the dataframe with the new column\n",
        "mod.sample(5)"
      ],
      "execution_count": 33,
      "outputs": [
        {
          "output_type": "execute_result",
          "data": {
            "text/html": [
              "<div>\n",
              "<style scoped>\n",
              "    .dataframe tbody tr th:only-of-type {\n",
              "        vertical-align: middle;\n",
              "    }\n",
              "\n",
              "    .dataframe tbody tr th {\n",
              "        vertical-align: top;\n",
              "    }\n",
              "\n",
              "    .dataframe thead th {\n",
              "        text-align: right;\n",
              "    }\n",
              "</style>\n",
              "<table border=\"1\" class=\"dataframe\">\n",
              "  <thead>\n",
              "    <tr style=\"text-align: right;\">\n",
              "      <th></th>\n",
              "      <th>item_id</th>\n",
              "      <th>user_id</th>\n",
              "      <th>rating</th>\n",
              "      <th>timestamp</th>\n",
              "      <th>size</th>\n",
              "      <th>fit</th>\n",
              "      <th>user_attr</th>\n",
              "      <th>model_attr</th>\n",
              "      <th>category</th>\n",
              "      <th>brand</th>\n",
              "      <th>year</th>\n",
              "      <th>split</th>\n",
              "      <th>fit_of_user</th>\n",
              "    </tr>\n",
              "  </thead>\n",
              "  <tbody>\n",
              "    <tr>\n",
              "      <th>35792</th>\n",
              "      <td>70538</td>\n",
              "      <td>lrbouchard</td>\n",
              "      <td>5</td>\n",
              "      <td>2015-06-03 07:00:00+00:00</td>\n",
              "      <td>4.0</td>\n",
              "      <td>Just right</td>\n",
              "      <td>Small</td>\n",
              "      <td>Small&amp;Large</td>\n",
              "      <td>Dresses</td>\n",
              "      <td>ModCloth</td>\n",
              "      <td>2017</td>\n",
              "      <td>0</td>\n",
              "      <td>medium</td>\n",
              "    </tr>\n",
              "    <tr>\n",
              "      <th>52844</th>\n",
              "      <td>31644</td>\n",
              "      <td>I.</td>\n",
              "      <td>5</td>\n",
              "      <td>2016-03-14 07:00:00+00:00</td>\n",
              "      <td>2.0</td>\n",
              "      <td>Just right</td>\n",
              "      <td>Small</td>\n",
              "      <td>Small&amp;Large</td>\n",
              "      <td>Dresses</td>\n",
              "      <td>NaN</td>\n",
              "      <td>2015</td>\n",
              "      <td>2</td>\n",
              "      <td>small</td>\n",
              "    </tr>\n",
              "    <tr>\n",
              "      <th>55846</th>\n",
              "      <td>59176</td>\n",
              "      <td>kristirae1</td>\n",
              "      <td>5</td>\n",
              "      <td>2016-04-29 07:00:00+00:00</td>\n",
              "      <td>3.0</td>\n",
              "      <td>Just right</td>\n",
              "      <td>Small</td>\n",
              "      <td>Small&amp;Large</td>\n",
              "      <td>Tops</td>\n",
              "      <td>ModCloth</td>\n",
              "      <td>2013</td>\n",
              "      <td>2</td>\n",
              "      <td>medium</td>\n",
              "    </tr>\n",
              "    <tr>\n",
              "      <th>46673</th>\n",
              "      <td>107927</td>\n",
              "      <td>adaranyx</td>\n",
              "      <td>5</td>\n",
              "      <td>2015-12-04 08:00:00+00:00</td>\n",
              "      <td>6.0</td>\n",
              "      <td>Just right</td>\n",
              "      <td>Large</td>\n",
              "      <td>Small&amp;Large</td>\n",
              "      <td>Dresses</td>\n",
              "      <td>NaN</td>\n",
              "      <td>2016</td>\n",
              "      <td>0</td>\n",
              "      <td>large</td>\n",
              "    </tr>\n",
              "    <tr>\n",
              "      <th>93090</th>\n",
              "      <td>153517</td>\n",
              "      <td>Nat</td>\n",
              "      <td>4</td>\n",
              "      <td>2018-08-12 18:54:26.862000+00:00</td>\n",
              "      <td>3.0</td>\n",
              "      <td>Slightly large</td>\n",
              "      <td>Large</td>\n",
              "      <td>Small&amp;Large</td>\n",
              "      <td>Tops</td>\n",
              "      <td>ModCloth</td>\n",
              "      <td>2019</td>\n",
              "      <td>2</td>\n",
              "      <td>medium</td>\n",
              "    </tr>\n",
              "  </tbody>\n",
              "</table>\n",
              "</div>"
            ],
            "text/plain": [
              "       item_id     user_id  rating  ...  year  split fit_of_user\n",
              "35792    70538  lrbouchard       5  ...  2017      0      medium\n",
              "52844    31644          I.       5  ...  2015      2       small\n",
              "55846    59176  kristirae1       5  ...  2013      2      medium\n",
              "46673   107927    adaranyx       5  ...  2016      0       large\n",
              "93090   153517         Nat       4  ...  2019      2      medium\n",
              "\n",
              "[5 rows x 13 columns]"
            ]
          },
          "metadata": {
            "tags": []
          },
          "execution_count": 33
        }
      ]
    },
    {
      "cell_type": "code",
      "metadata": {
        "colab": {
          "base_uri": "https://localhost:8080/",
          "height": 204
        },
        "id": "Y1QIjj0O7BEG",
        "outputId": "df6e8048-6c68-494e-b773-fbb2d39e581d"
      },
      "source": [
        "# a new dataframe has been created to only filter for features that will be used in EDA\n",
        "df = mod[['item_id', 'user_id', 'size', 'fit_of_user', 'user_attr', 'model_attr', 'category']]\n",
        "df.head(5)"
      ],
      "execution_count": 34,
      "outputs": [
        {
          "output_type": "execute_result",
          "data": {
            "text/html": [
              "<div>\n",
              "<style scoped>\n",
              "    .dataframe tbody tr th:only-of-type {\n",
              "        vertical-align: middle;\n",
              "    }\n",
              "\n",
              "    .dataframe tbody tr th {\n",
              "        vertical-align: top;\n",
              "    }\n",
              "\n",
              "    .dataframe thead th {\n",
              "        text-align: right;\n",
              "    }\n",
              "</style>\n",
              "<table border=\"1\" class=\"dataframe\">\n",
              "  <thead>\n",
              "    <tr style=\"text-align: right;\">\n",
              "      <th></th>\n",
              "      <th>item_id</th>\n",
              "      <th>user_id</th>\n",
              "      <th>size</th>\n",
              "      <th>fit_of_user</th>\n",
              "      <th>user_attr</th>\n",
              "      <th>model_attr</th>\n",
              "      <th>category</th>\n",
              "    </tr>\n",
              "  </thead>\n",
              "  <tbody>\n",
              "    <tr>\n",
              "      <th>119</th>\n",
              "      <td>7443</td>\n",
              "      <td>Mona</td>\n",
              "      <td>1.0</td>\n",
              "      <td>small</td>\n",
              "      <td>Small</td>\n",
              "      <td>Small</td>\n",
              "      <td>Dresses</td>\n",
              "    </tr>\n",
              "    <tr>\n",
              "      <th>121</th>\n",
              "      <td>11960</td>\n",
              "      <td>Devon</td>\n",
              "      <td>2.0</td>\n",
              "      <td>small</td>\n",
              "      <td>Small</td>\n",
              "      <td>Small&amp;Large</td>\n",
              "      <td>Outerwear</td>\n",
              "    </tr>\n",
              "    <tr>\n",
              "      <th>123</th>\n",
              "      <td>11960</td>\n",
              "      <td>Cara</td>\n",
              "      <td>2.0</td>\n",
              "      <td>small</td>\n",
              "      <td>Small</td>\n",
              "      <td>Small&amp;Large</td>\n",
              "      <td>Outerwear</td>\n",
              "    </tr>\n",
              "    <tr>\n",
              "      <th>125</th>\n",
              "      <td>11960</td>\n",
              "      <td>Hanaa</td>\n",
              "      <td>3.0</td>\n",
              "      <td>medium</td>\n",
              "      <td>Small</td>\n",
              "      <td>Small&amp;Large</td>\n",
              "      <td>Outerwear</td>\n",
              "    </tr>\n",
              "    <tr>\n",
              "      <th>129</th>\n",
              "      <td>16411</td>\n",
              "      <td>Cecilia</td>\n",
              "      <td>3.0</td>\n",
              "      <td>medium</td>\n",
              "      <td>Small</td>\n",
              "      <td>Small</td>\n",
              "      <td>Dresses</td>\n",
              "    </tr>\n",
              "  </tbody>\n",
              "</table>\n",
              "</div>"
            ],
            "text/plain": [
              "     item_id  user_id  size fit_of_user user_attr   model_attr   category\n",
              "119     7443     Mona   1.0       small     Small        Small    Dresses\n",
              "121    11960    Devon   2.0       small     Small  Small&Large  Outerwear\n",
              "123    11960     Cara   2.0       small     Small  Small&Large  Outerwear\n",
              "125    11960    Hanaa   3.0      medium     Small  Small&Large  Outerwear\n",
              "129    16411  Cecilia   3.0      medium     Small        Small    Dresses"
            ]
          },
          "metadata": {
            "tags": []
          },
          "execution_count": 34
        }
      ]
    },
    {
      "cell_type": "code",
      "metadata": {
        "colab": {
          "base_uri": "https://localhost:8080/"
        },
        "id": "9Q8wSrIx7BEH",
        "outputId": "0a3a39a4-8110-4171-abca-69e46e134372"
      },
      "source": [
        "df.shape"
      ],
      "execution_count": 35,
      "outputs": [
        {
          "output_type": "execute_result",
          "data": {
            "text/plain": [
              "(78132, 7)"
            ]
          },
          "metadata": {
            "tags": []
          },
          "execution_count": 35
        }
      ]
    },
    {
      "cell_type": "code",
      "metadata": {
        "colab": {
          "base_uri": "https://localhost:8080/"
        },
        "id": "p7itK4xP7BEH",
        "outputId": "7f4960e2-c617-4bd6-9c75-2e066f0401e0"
      },
      "source": [
        "df.isnull().sum()"
      ],
      "execution_count": 36,
      "outputs": [
        {
          "output_type": "execute_result",
          "data": {
            "text/plain": [
              "item_id        0\n",
              "user_id        0\n",
              "size           0\n",
              "fit_of_user    0\n",
              "user_attr      0\n",
              "model_attr     0\n",
              "category       0\n",
              "dtype: int64"
            ]
          },
          "metadata": {
            "tags": []
          },
          "execution_count": 36
        }
      ]
    },
    {
      "cell_type": "markdown",
      "metadata": {
        "id": "L7LeVI2k7BEH"
      },
      "source": [
        "## Exploratory Data Analysis "
      ]
    },
    {
      "cell_type": "code",
      "metadata": {
        "colab": {
          "base_uri": "https://localhost:8080/"
        },
        "id": "1ET8b6tTphPV",
        "outputId": "b25fdd48-1fb8-4b19-c225-1a479889244d"
      },
      "source": [
        "df.groupby('fit_of_user').size()"
      ],
      "execution_count": 37,
      "outputs": [
        {
          "output_type": "execute_result",
          "data": {
            "text/plain": [
              "fit_of_user\n",
              "large     11745\n",
              "medium    32899\n",
              "small     33488\n",
              "dtype: int64"
            ]
          },
          "metadata": {
            "tags": []
          },
          "execution_count": 37
        }
      ]
    },
    {
      "cell_type": "code",
      "metadata": {
        "colab": {
          "base_uri": "https://localhost:8080/"
        },
        "id": "l7NFr9sxbV94",
        "outputId": "ab46b803-d491-4140-bfea-b7aac6ac4537"
      },
      "source": [
        "df.groupby('user_attr').size()"
      ],
      "execution_count": 38,
      "outputs": [
        {
          "output_type": "execute_result",
          "data": {
            "text/plain": [
              "user_attr\n",
              "Large    16686\n",
              "Small    61446\n",
              "dtype: int64"
            ]
          },
          "metadata": {
            "tags": []
          },
          "execution_count": 38
        }
      ]
    },
    {
      "cell_type": "code",
      "metadata": {
        "colab": {
          "base_uri": "https://localhost:8080/"
        },
        "id": "o3YCd8yl7BEI",
        "outputId": "74c4854a-a146-4563-dc04-356d17a910da"
      },
      "source": [
        "# a higher proportion of users belong to small and medium fit categories \n",
        "print(df.groupby('fit_of_user').size())"
      ],
      "execution_count": 39,
      "outputs": [
        {
          "output_type": "stream",
          "text": [
            "fit_of_user\n",
            "large     11745\n",
            "medium    32899\n",
            "small     33488\n",
            "dtype: int64\n"
          ],
          "name": "stdout"
        }
      ]
    },
    {
      "cell_type": "code",
      "metadata": {
        "colab": {
          "base_uri": "https://localhost:8080/",
          "height": 266
        },
        "id": "CsefqVGOnmwe",
        "outputId": "666d78a8-7eca-475c-d798-383bf0c1b1c6"
      },
      "source": [
        "mod1=df.groupby(['fit_of_user','model_attr']).size()\n",
        "type(mod1)\n",
        "cross=mod1.to_frame()\n",
        "cross"
      ],
      "execution_count": 42,
      "outputs": [
        {
          "output_type": "execute_result",
          "data": {
            "text/html": [
              "<div>\n",
              "<style scoped>\n",
              "    .dataframe tbody tr th:only-of-type {\n",
              "        vertical-align: middle;\n",
              "    }\n",
              "\n",
              "    .dataframe tbody tr th {\n",
              "        vertical-align: top;\n",
              "    }\n",
              "\n",
              "    .dataframe thead th {\n",
              "        text-align: right;\n",
              "    }\n",
              "</style>\n",
              "<table border=\"1\" class=\"dataframe\">\n",
              "  <thead>\n",
              "    <tr style=\"text-align: right;\">\n",
              "      <th></th>\n",
              "      <th></th>\n",
              "      <th>0</th>\n",
              "    </tr>\n",
              "    <tr>\n",
              "      <th>fit_of_user</th>\n",
              "      <th>model_attr</th>\n",
              "      <th></th>\n",
              "    </tr>\n",
              "  </thead>\n",
              "  <tbody>\n",
              "    <tr>\n",
              "      <th rowspan=\"2\" valign=\"top\">large</th>\n",
              "      <th>Small</th>\n",
              "      <td>4657</td>\n",
              "    </tr>\n",
              "    <tr>\n",
              "      <th>Small&amp;Large</th>\n",
              "      <td>7088</td>\n",
              "    </tr>\n",
              "    <tr>\n",
              "      <th rowspan=\"2\" valign=\"top\">medium</th>\n",
              "      <th>Small</th>\n",
              "      <td>13460</td>\n",
              "    </tr>\n",
              "    <tr>\n",
              "      <th>Small&amp;Large</th>\n",
              "      <td>19439</td>\n",
              "    </tr>\n",
              "    <tr>\n",
              "      <th rowspan=\"2\" valign=\"top\">small</th>\n",
              "      <th>Small</th>\n",
              "      <td>14019</td>\n",
              "    </tr>\n",
              "    <tr>\n",
              "      <th>Small&amp;Large</th>\n",
              "      <td>19469</td>\n",
              "    </tr>\n",
              "  </tbody>\n",
              "</table>\n",
              "</div>"
            ],
            "text/plain": [
              "                             0\n",
              "fit_of_user model_attr        \n",
              "large       Small         4657\n",
              "            Small&Large   7088\n",
              "medium      Small        13460\n",
              "            Small&Large  19439\n",
              "small       Small        14019\n",
              "            Small&Large  19469"
            ]
          },
          "metadata": {
            "tags": []
          },
          "execution_count": 42
        }
      ]
    },
    {
      "cell_type": "code",
      "metadata": {
        "colab": {
          "base_uri": "https://localhost:8080/",
          "height": 235
        },
        "id": "ItgFELHHF0Wk",
        "outputId": "a6c8cc36-07cf-4bca-ecd4-6e8e3bb579d6"
      },
      "source": [
        "prop_df"
      ],
      "execution_count": 46,
      "outputs": [
        {
          "output_type": "execute_result",
          "data": {
            "text/html": [
              "<div>\n",
              "<style scoped>\n",
              "    .dataframe tbody tr th:only-of-type {\n",
              "        vertical-align: middle;\n",
              "    }\n",
              "\n",
              "    .dataframe tbody tr th {\n",
              "        vertical-align: top;\n",
              "    }\n",
              "\n",
              "    .dataframe thead th {\n",
              "        text-align: right;\n",
              "    }\n",
              "</style>\n",
              "<table border=\"1\" class=\"dataframe\">\n",
              "  <thead>\n",
              "    <tr style=\"text-align: right;\">\n",
              "      <th></th>\n",
              "      <th>fit_of_user</th>\n",
              "      <th>model_attr</th>\n",
              "      <th>prop</th>\n",
              "    </tr>\n",
              "  </thead>\n",
              "  <tbody>\n",
              "    <tr>\n",
              "      <th>0</th>\n",
              "      <td>large</td>\n",
              "      <td>Small&amp;Large</td>\n",
              "      <td>0.603491</td>\n",
              "    </tr>\n",
              "    <tr>\n",
              "      <th>1</th>\n",
              "      <td>large</td>\n",
              "      <td>Small</td>\n",
              "      <td>0.396509</td>\n",
              "    </tr>\n",
              "    <tr>\n",
              "      <th>2</th>\n",
              "      <td>medium</td>\n",
              "      <td>Small&amp;Large</td>\n",
              "      <td>0.590869</td>\n",
              "    </tr>\n",
              "    <tr>\n",
              "      <th>3</th>\n",
              "      <td>medium</td>\n",
              "      <td>Small</td>\n",
              "      <td>0.409131</td>\n",
              "    </tr>\n",
              "    <tr>\n",
              "      <th>4</th>\n",
              "      <td>small</td>\n",
              "      <td>Small&amp;Large</td>\n",
              "      <td>0.581372</td>\n",
              "    </tr>\n",
              "    <tr>\n",
              "      <th>5</th>\n",
              "      <td>small</td>\n",
              "      <td>Small</td>\n",
              "      <td>0.418628</td>\n",
              "    </tr>\n",
              "  </tbody>\n",
              "</table>\n",
              "</div>"
            ],
            "text/plain": [
              "  fit_of_user   model_attr      prop\n",
              "0       large  Small&Large  0.603491\n",
              "1       large        Small  0.396509\n",
              "2      medium  Small&Large  0.590869\n",
              "3      medium        Small  0.409131\n",
              "4       small  Small&Large  0.581372\n",
              "5       small        Small  0.418628"
            ]
          },
          "metadata": {
            "tags": []
          },
          "execution_count": 46
        }
      ]
    },
    {
      "cell_type": "code",
      "metadata": {
        "colab": {
          "base_uri": "https://localhost:8080/",
          "height": 623
        },
        "id": "6bVKiQ3n7BEI",
        "outputId": "e76f9af9-07fa-4d43-eb08-145216209561"
      },
      "source": [
        "x, y, hue = \"fit_of_user\", \"prop\", \"model_attr\"\n",
        "\n",
        "f, axes = plt.subplots(1, 2)\n",
        "sns.countplot(x=x, hue=hue, data=df, ax=axes[0], palette=[\"#fb5607\", \"#3a86ff\"])\n",
        "f.set_size_inches(20, 10)\n",
        "prop_df = (df[hue]\n",
        "           .groupby(df[x])\n",
        "           .value_counts(normalize=True)\n",
        "           .rename(y)\n",
        "           .reset_index())\n",
        "\n",
        "sns.barplot(x=x, y=y, hue=hue, data=prop_df, ax=axes[1], palette=[\"#3a86ff\", \"#fb5607\"])"
      ],
      "execution_count": 64,
      "outputs": [
        {
          "output_type": "execute_result",
          "data": {
            "text/plain": [
              "<matplotlib.axes._subplots.AxesSubplot at 0x7f741b532750>"
            ]
          },
          "metadata": {
            "tags": []
          },
          "execution_count": 64
        },
        {
          "output_type": "display_data",
          "data": {
            "image/png": "[encoded data removed]",
            "text/plain": [
              "<Figure size 1440x720 with 2 Axes>"
            ]
          },
          "metadata": {
            "tags": [],
            "needs_background": "light"
          }
        }
      ]
    },
    {
      "cell_type": "markdown",
      "metadata": {
        "id": "dQry-uXz7BEJ"
      },
      "source": [
        "- The table (crosstab) and bar charts above display that ads of small sized models are shown to users who have small, medium and large fit\n",
        "- The proportion of large sized models shown to small, medium and large fit users are almost the same, with the large fit users is a slighly higher than the other groups. "
      ]
    },
    {
      "cell_type": "code",
      "metadata": {
        "id": "q0TX5Sao7BEJ",
        "outputId": "f79ece7e-c807-45ce-9d8d-eca11c517627"
      },
      "source": [
        "mod1=df.groupby(['user_attr','fit_of_user']).size()\n",
        "type(mod1)\n",
        "cross=mod1.to_frame()\n",
        "cross"
      ],
      "execution_count": null,
      "outputs": [
        {
          "output_type": "execute_result",
          "data": {
            "text/html": [
              "<div>\n",
              "<style scoped>\n",
              "    .dataframe tbody tr th:only-of-type {\n",
              "        vertical-align: middle;\n",
              "    }\n",
              "\n",
              "    .dataframe tbody tr th {\n",
              "        vertical-align: top;\n",
              "    }\n",
              "\n",
              "    .dataframe thead th {\n",
              "        text-align: right;\n",
              "    }\n",
              "</style>\n",
              "<table border=\"1\" class=\"dataframe\">\n",
              "  <thead>\n",
              "    <tr style=\"text-align: right;\">\n",
              "      <th></th>\n",
              "      <th></th>\n",
              "      <th>0</th>\n",
              "    </tr>\n",
              "    <tr>\n",
              "      <th>user_attr</th>\n",
              "      <th>fit_of_user</th>\n",
              "      <th></th>\n",
              "    </tr>\n",
              "  </thead>\n",
              "  <tbody>\n",
              "    <tr>\n",
              "      <th rowspan=\"3\" valign=\"top\">Large</th>\n",
              "      <th>large</th>\n",
              "      <td>9234</td>\n",
              "    </tr>\n",
              "    <tr>\n",
              "      <th>medium</th>\n",
              "      <td>7144</td>\n",
              "    </tr>\n",
              "    <tr>\n",
              "      <th>small</th>\n",
              "      <td>308</td>\n",
              "    </tr>\n",
              "    <tr>\n",
              "      <th rowspan=\"3\" valign=\"top\">Small</th>\n",
              "      <th>large</th>\n",
              "      <td>2511</td>\n",
              "    </tr>\n",
              "    <tr>\n",
              "      <th>medium</th>\n",
              "      <td>25755</td>\n",
              "    </tr>\n",
              "    <tr>\n",
              "      <th>small</th>\n",
              "      <td>33180</td>\n",
              "    </tr>\n",
              "  </tbody>\n",
              "</table>\n",
              "</div>"
            ],
            "text/plain": [
              "                           0\n",
              "user_attr fit_of_user       \n",
              "Large     large         9234\n",
              "          medium        7144\n",
              "          small          308\n",
              "Small     large         2511\n",
              "          medium       25755\n",
              "          small        33180"
            ]
          },
          "metadata": {
            "tags": []
          },
          "execution_count": 123
        }
      ]
    },
    {
      "cell_type": "code",
      "metadata": {
        "id": "t1lywJGI7BEJ",
        "outputId": "7652e0bb-d62d-458d-dc71-c44cddd14617"
      },
      "source": [
        "plt.style.use('fivethirtyeight')\n",
        "plt.figure(figsize=(10,6))\n",
        "sns.boxplot(y=\"size\",x ='user_attr' ,data = df)\n",
        "plt.title(\"Distribution of User Attribute by Size\")\n",
        "plt.xlabel('User Attribute',fontsize=15)\n",
        "plt.ylabel(\"Size\",fontsize=15)\n",
        "plt.show()"
      ],
      "execution_count": null,
      "outputs": [
        {
          "output_type": "display_data",
          "data": {
            "image/png": "[encoded data removed]",
            "text/plain": [
              "<Figure size 720x432 with 1 Axes>"
            ]
          },
          "metadata": {
            "tags": []
          }
        }
      ]
    },
    {
      "cell_type": "markdown",
      "metadata": {
        "id": "G4sz5cAQ7BEJ"
      },
      "source": [
        "The boxplot displays some outliers which indicates that users who on average purchase small sized clothing sometimes purchase clothing of medium and large sizes as well"
      ]
    },
    {
      "cell_type": "code",
      "metadata": {
        "colab": {
          "base_uri": "https://localhost:8080/",
          "height": 155
        },
        "id": "ZAXNuh-anxU-",
        "outputId": "3c77eac1-2091-4ce0-ce6e-f3e0dc84560b"
      },
      "source": [
        "x, y, hue = \"user_attr\", \"prop\", \"fit_of_user\"\n",
        "\n",
        "f, axes = plt.subplots(1, 2)\n",
        "sns.countplot(x=x, hue=hue, data=df, ax=axes[0])\n",
        "f.set_size_inches(20, 10)\n",
        "prop_df = (df[x]\n",
        "           .groupby(df[hue])\n",
        "           .value_counts(normalize=True)\n",
        "           .rename(y)\n",
        "           .reset_index())\n",
        "\n",
        "sns.barplot(x=x, y=y, hue=hue, data=prop_df, ax=axes[1])"
      ],
      "execution_count": null,
      "outputs": [
        {
          "output_type": "execute_result",
          "data": {
            "text/plain": [
              "<matplotlib.axes._subplots.AxesSubplot at 0x1fc19ea4dc8>"
            ]
          },
          "metadata": {
            "tags": []
          },
          "execution_count": 204
        },
        {
          "output_type": "display_data",
          "data": {
            "image/png": "[encoded data removed]",
            "text/plain": [
              "<Figure size 1440x720 with 2 Axes>"
            ]
          },
          "metadata": {
            "tags": []
          }
        }
      ]
    },
    {
      "cell_type": "markdown",
      "metadata": {
        "id": "CtUyyRkY7BEK"
      },
      "source": [
        "User attributes refers to the average size purchased by a user. The above visualization displays that on average:\n",
        "- More than 95% of the users with a small size fit purchase small sized clothing\n",
        "- About 75% of the users with a medium size fit purchase small sized clothing\n",
        "- Approximately 25% of the users with a large size fit purchase small sized clothing as well. This could be attributed to peer pressure, or misrepresentation of clothing size based on models displayed in the ads (for example - a small built model displayed in an ad could influence a user with a large size fit to purchase small sized clothing). One more reason could be due to personal preferences, i.e. some users might prefer to wear tight fitted clothing.\n",
        "- Majority of the users with a large size fit opt for large sized clothing, while ~25% of the users opt for purchasing medium sized clothing as well. "
      ]
    },
    {
      "cell_type": "code",
      "metadata": {
        "colab": {
          "base_uri": "https://localhost:8080/",
          "height": 351
        },
        "id": "DYuWvNYSeN9r",
        "outputId": "2b6cb82f-6b2b-419d-86d3-8e5b11656982"
      },
      "source": [
        "x, y, hue = \"category\", \"prop\", \"fit_of_user\"\n",
        "\n",
        "f, axes = plt.subplots(1, 2)\n",
        "sns.countplot(x=x, hue=hue, data=df, ax=axes[0])\n",
        "f.set_size_inches(20, 10)\n",
        "prop_df = (df[x]\n",
        "           .groupby(df[hue])\n",
        "           .value_counts(normalize=True)\n",
        "           .rename(y)\n",
        "           .reset_index())\n",
        "\n",
        "sns.barplot(x=x, y=y, hue=hue, data=prop_df, ax=axes[1])"
      ],
      "execution_count": null,
      "outputs": [
        {
          "output_type": "execute_result",
          "data": {
            "text/plain": [
              "<matplotlib.axes._subplots.AxesSubplot at 0x1fc1965ac48>"
            ]
          },
          "metadata": {
            "tags": []
          },
          "execution_count": 205
        },
        {
          "output_type": "display_data",
          "data": {
            "image/png": "[encoded data removed]",
            "text/plain": [
              "<Figure size 1440x720 with 2 Axes>"
            ]
          },
          "metadata": {
            "tags": []
          }
        }
      ]
    },
    {
      "cell_type": "markdown",
      "metadata": {
        "id": "NfJOwrH87BEL"
      },
      "source": [
        "In the above visualization, we notice that:\n",
        "- Small and large sized users purchase more number of tops than medium sized users\n",
        "- About the same percentage (33%) of small and medium sized users purchase dresses\n",
        "- A greater proportion of large sized users purchase bottoms and approximately the same proportion of small, medium and large sized users purchase outerwear"
      ]
    },
    {
      "cell_type": "code",
      "metadata": {
        "colab": {
          "base_uri": "https://localhost:8080/",
          "height": 623
        },
        "id": "Y7Ou7f0qMj6K",
        "outputId": "f72ecab9-b2cd-415e-96b7-f3dd36f615c8"
      },
      "source": [
        "x, y, hue = \"category\", \"prop\", \"user_attr\"\n",
        "\n",
        "f, axes = plt.subplots(1, 2)\n",
        "sns.countplot(x=x, hue=hue, data=df, ax=axes[0], palette=[\"#fb5607\", \"#3a86ff\"])\n",
        "f.set_size_inches(20, 10)\n",
        "prop_df = (df[x]\n",
        "           .groupby(df[hue])\n",
        "           .value_counts(normalize=True)\n",
        "           .rename(y)\n",
        "           .reset_index())\n",
        "\n",
        "sns.barplot(x=x, y=y, hue=hue, data=prop_df, ax=axes[1], palette=[\"#3a86ff\", \"#fb5607\"])"
      ],
      "execution_count": 66,
      "outputs": [
        {
          "output_type": "execute_result",
          "data": {
            "text/plain": [
              "<matplotlib.axes._subplots.AxesSubplot at 0x7f741b35e510>"
            ]
          },
          "metadata": {
            "tags": []
          },
          "execution_count": 66
        },
        {
          "output_type": "display_data",
          "data": {
            "image/png": "[encoded data removed]",
            "text/plain": [
              "<Figure size 1440x720 with 2 Axes>"
            ]
          },
          "metadata": {
            "tags": [],
            "needs_background": "light"
          }
        }
      ]
    },
    {
      "cell_type": "markdown",
      "metadata": {
        "id": "DqUm7c6PQo8h"
      },
      "source": [
        "Compared to small size customers, a larger proportion of large size customers like to buy Tops. "
      ]
    },
    {
      "cell_type": "code",
      "metadata": {
        "colab": {
          "base_uri": "https://localhost:8080/",
          "height": 623
        },
        "id": "jpWoYcB7QGW9",
        "outputId": "71480639-0eaf-4181-9f85-a692d9a9f04f"
      },
      "source": [
        "x, y, hue = \"category\", \"prop\", \"user_attr\"\n",
        "\n",
        "f, axes = plt.subplots(1, 2)\n",
        "sns.countplot(x=x, hue=hue, data=df, ax=axes[0], palette=[\"#fb5607\", \"#3a86ff\"])\n",
        "f.set_size_inches(20, 10)\n",
        "prop_df = (df[hue]\n",
        "           .groupby(df[x])\n",
        "           .value_counts(normalize=True)\n",
        "           .rename(y)\n",
        "           .reset_index())\n",
        "\n",
        "sns.barplot(x=x, y=y, hue=hue, data=prop_df, ax=axes[1], palette=[\"#fb5607\", \"#3a86ff\"])"
      ],
      "execution_count": 68,
      "outputs": [
        {
          "output_type": "execute_result",
          "data": {
            "text/plain": [
              "<matplotlib.axes._subplots.AxesSubplot at 0x7f741b0a7c90>"
            ]
          },
          "metadata": {
            "tags": []
          },
          "execution_count": 68
        },
        {
          "output_type": "display_data",
          "data": {
            "image/png": "[encoded data removed]",
            "text/plain": [
              "<Figure size 1440x720 with 2 Axes>"
            ]
          },
          "metadata": {
            "tags": [],
            "needs_background": "light"
          }
        }
      ]
    },
    {
      "cell_type": "markdown",
      "metadata": {
        "id": "seHuFg7YQvnp"
      },
      "source": [
        "All cloth categories are overwhelmingly dominated by small size people. Almost 80% of the buyers are small size customers across all categories. The website should include more large size model pictures to attract more potential large size customers. "
      ]
    },
    {
      "cell_type": "code",
      "metadata": {
        "colab": {
          "base_uri": "https://localhost:8080/",
          "height": 352
        },
        "id": "fPOjLYyup_Ys",
        "outputId": "a9cacd16-3fa0-41a2-c7d2-c475c93e93c8"
      },
      "source": [
        "x, y, hue = \"size\", \"prop\", \"fit_of_user\"\n",
        "\n",
        "f, axes = plt.subplots(1, 2)\n",
        "sns.countplot(x=x, hue=hue, data=df, ax=axes[0])\n",
        "f.set_size_inches(20, 10)\n",
        "prop_df = (df[x]\n",
        "           .groupby(df[hue])\n",
        "           .value_counts(normalize=True)\n",
        "           .rename(y)\n",
        "           .reset_index())\n",
        "\n",
        "sns.barplot(x=x, y=y, hue=hue, data=prop_df, ax=axes[1])"
      ],
      "execution_count": null,
      "outputs": [
        {
          "output_type": "execute_result",
          "data": {
            "text/plain": [
              "<matplotlib.axes._subplots.AxesSubplot at 0x1fc1968ccc8>"
            ]
          },
          "metadata": {
            "tags": []
          },
          "execution_count": 206
        },
        {
          "output_type": "display_data",
          "data": {
            "image/png": "[encoded data removed]",
            "text/plain": [
              "<Figure size 1440x720 with 2 Axes>"
            ]
          },
          "metadata": {
            "tags": []
          }
        }
      ]
    },
    {
      "cell_type": "markdown",
      "metadata": {
        "id": "7YE6kAkG7BEL"
      },
      "source": [
        "The above visualization displays that:\n",
        "- Majority (> 50%) of the small sized users purchase clothes of size 2 and almost a negligible number of users purchase size 0\n",
        "- Majority (> 50%) of the medium sized users purchase clothes of size 3\n",
        "- Majority (> 50%) of large sized users purchase clothes of size 6"
      ]
    }
  ]
}