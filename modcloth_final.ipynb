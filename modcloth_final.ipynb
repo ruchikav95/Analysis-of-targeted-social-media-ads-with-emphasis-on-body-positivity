{
  "nbformat": 4,
  "nbformat_minor": 0,
  "metadata": {
    "colab": {
      "name": "modcloth_final.ipynb",
      "provenance": [],
      "collapsed_sections": []
    },
    "kernelspec": {
      "display_name": "Python 3",
      "language": "python",
      "name": "python3"
    },
    "language_info": {
      "codemirror_mode": {
        "name": "ipython",
        "version": 3
      },
      "file_extension": ".py",
      "mimetype": "text/x-python",
      "name": "python",
      "nbconvert_exporter": "python",
      "pygments_lexer": "ipython3",
      "version": "3.7.6"
    }
  },
  "cells": [
    {
      "cell_type": "markdown",
      "metadata": {
        "id": "S__k9u_l7BD-"
      },
      "source": [
        "# Modcloth Exploratory Data Analysis"
      ]
    },
    {
      "cell_type": "markdown",
      "metadata": {
        "id": "E0CYXIq0kshb"
      },
      "source": [
        "###Team 4: Yujia Cao, Ruchika Venkateswaran, Ryan Veytsman, Phoenix Wang, Amber Wu\n"
      ]
    },
    {
      "cell_type": "markdown",
      "metadata": {
        "id": "3Nb6ECNT7BD_"
      },
      "source": [
        "Key Definitions:\n",
        "- User Attribute: Average size that the user purchases \n",
        "- Model Attribute: Size of models shown to users in pictures/websites/ads\n",
        "- Fit: Feedback on the fit of the clothing\n",
        "- Size: Size of clothing ordered"
      ]
    },
    {
      "cell_type": "markdown",
      "metadata": {
        "id": "_Ujgoyqa7BEA"
      },
      "source": [
        "## Loading the Data"
      ]
    },
    {
      "cell_type": "code",
      "metadata": {
        "id": "fxb7OOp7Td-0"
      },
      "source": [
        "import pandas as pd\n",
        "import numpy as np\n",
        "import seaborn as sns\n",
        "import matplotlib.pyplot as plt\n",
        "\n",
        "mod=pd.read_csv(\"modcloth.csv\")"
      ],
      "execution_count": 1,
      "outputs": []
    },
    {
      "cell_type": "markdown",
      "metadata": {
        "id": "5JYivjhg7BEB"
      },
      "source": [
        "## Inspecting the Data"
      ]
    },
    {
      "cell_type": "code",
      "metadata": {
        "colab": {
          "base_uri": "https://localhost:8080/",
          "height": 204
        },
        "id": "OiOdSNlD7BEB",
        "outputId": "f0e5dd24-0637-4014-d724-33ecc280292d"
      },
      "source": [
        "#viewing the first five rows\n",
        "mod.head(5)"
      ],
      "execution_count": 2,
      "outputs": [
        {
          "output_type": "execute_result",
          "data": {
            "text/html": [
              "<div>\n",
              "<style scoped>\n",
              "    .dataframe tbody tr th:only-of-type {\n",
              "        vertical-align: middle;\n",
              "    }\n",
              "\n",
              "    .dataframe tbody tr th {\n",
              "        vertical-align: top;\n",
              "    }\n",
              "\n",
              "    .dataframe thead th {\n",
              "        text-align: right;\n",
              "    }\n",
              "</style>\n",
              "<table border=\"1\" class=\"dataframe\">\n",
              "  <thead>\n",
              "    <tr style=\"text-align: right;\">\n",
              "      <th></th>\n",
              "      <th>item_id</th>\n",
              "      <th>user_id</th>\n",
              "      <th>rating</th>\n",
              "      <th>timestamp</th>\n",
              "      <th>size</th>\n",
              "      <th>fit</th>\n",
              "      <th>user_attr</th>\n",
              "      <th>model_attr</th>\n",
              "      <th>category</th>\n",
              "      <th>brand</th>\n",
              "      <th>year</th>\n",
              "      <th>split</th>\n",
              "    </tr>\n",
              "  </thead>\n",
              "  <tbody>\n",
              "    <tr>\n",
              "      <th>0</th>\n",
              "      <td>7443</td>\n",
              "      <td>Alex</td>\n",
              "      <td>4</td>\n",
              "      <td>2010-01-21 08:00:00+00:00</td>\n",
              "      <td>NaN</td>\n",
              "      <td>NaN</td>\n",
              "      <td>Small</td>\n",
              "      <td>Small</td>\n",
              "      <td>Dresses</td>\n",
              "      <td>NaN</td>\n",
              "      <td>2012</td>\n",
              "      <td>0</td>\n",
              "    </tr>\n",
              "    <tr>\n",
              "      <th>1</th>\n",
              "      <td>7443</td>\n",
              "      <td>carolyn.agan</td>\n",
              "      <td>3</td>\n",
              "      <td>2010-01-27 08:00:00+00:00</td>\n",
              "      <td>NaN</td>\n",
              "      <td>NaN</td>\n",
              "      <td>NaN</td>\n",
              "      <td>Small</td>\n",
              "      <td>Dresses</td>\n",
              "      <td>NaN</td>\n",
              "      <td>2012</td>\n",
              "      <td>0</td>\n",
              "    </tr>\n",
              "    <tr>\n",
              "      <th>2</th>\n",
              "      <td>7443</td>\n",
              "      <td>Robyn</td>\n",
              "      <td>4</td>\n",
              "      <td>2010-01-29 08:00:00+00:00</td>\n",
              "      <td>NaN</td>\n",
              "      <td>NaN</td>\n",
              "      <td>Small</td>\n",
              "      <td>Small</td>\n",
              "      <td>Dresses</td>\n",
              "      <td>NaN</td>\n",
              "      <td>2012</td>\n",
              "      <td>0</td>\n",
              "    </tr>\n",
              "    <tr>\n",
              "      <th>3</th>\n",
              "      <td>7443</td>\n",
              "      <td>De</td>\n",
              "      <td>4</td>\n",
              "      <td>2010-02-13 08:00:00+00:00</td>\n",
              "      <td>NaN</td>\n",
              "      <td>NaN</td>\n",
              "      <td>NaN</td>\n",
              "      <td>Small</td>\n",
              "      <td>Dresses</td>\n",
              "      <td>NaN</td>\n",
              "      <td>2012</td>\n",
              "      <td>0</td>\n",
              "    </tr>\n",
              "    <tr>\n",
              "      <th>4</th>\n",
              "      <td>7443</td>\n",
              "      <td>tasha</td>\n",
              "      <td>4</td>\n",
              "      <td>2010-02-18 08:00:00+00:00</td>\n",
              "      <td>NaN</td>\n",
              "      <td>NaN</td>\n",
              "      <td>Small</td>\n",
              "      <td>Small</td>\n",
              "      <td>Dresses</td>\n",
              "      <td>NaN</td>\n",
              "      <td>2012</td>\n",
              "      <td>0</td>\n",
              "    </tr>\n",
              "  </tbody>\n",
              "</table>\n",
              "</div>"
            ],
            "text/plain": [
              "   item_id       user_id  rating  ... brand  year split\n",
              "0     7443          Alex       4  ...   NaN  2012     0\n",
              "1     7443  carolyn.agan       3  ...   NaN  2012     0\n",
              "2     7443         Robyn       4  ...   NaN  2012     0\n",
              "3     7443            De       4  ...   NaN  2012     0\n",
              "4     7443         tasha       4  ...   NaN  2012     0\n",
              "\n",
              "[5 rows x 12 columns]"
            ]
          },
          "metadata": {
            "tags": []
          },
          "execution_count": 2
        }
      ]
    },
    {
      "cell_type": "code",
      "metadata": {
        "colab": {
          "base_uri": "https://localhost:8080/"
        },
        "id": "4zteAjQt7BEC",
        "outputId": "ef101d36-5f9d-4342-c306-c387a51d76f9"
      },
      "source": [
        "# inspecting the shape of the dataframe\n",
        "mod.shape"
      ],
      "execution_count": 3,
      "outputs": [
        {
          "output_type": "execute_result",
          "data": {
            "text/plain": [
              "(99893, 12)"
            ]
          },
          "metadata": {
            "tags": []
          },
          "execution_count": 3
        }
      ]
    },
    {
      "cell_type": "code",
      "metadata": {
        "colab": {
          "base_uri": "https://localhost:8080/"
        },
        "id": "oV0s3a437BEC",
        "outputId": "36b45320-a06f-47c0-97cd-49bd40b5c770"
      },
      "source": [
        "# data types of mod\n",
        "mod.dtypes"
      ],
      "execution_count": 4,
      "outputs": [
        {
          "output_type": "execute_result",
          "data": {
            "text/plain": [
              "item_id         int64\n",
              "user_id        object\n",
              "rating          int64\n",
              "timestamp      object\n",
              "size          float64\n",
              "fit            object\n",
              "user_attr      object\n",
              "model_attr     object\n",
              "category       object\n",
              "brand          object\n",
              "year            int64\n",
              "split           int64\n",
              "dtype: object"
            ]
          },
          "metadata": {
            "tags": []
          },
          "execution_count": 4
        }
      ]
    },
    {
      "cell_type": "code",
      "metadata": {
        "colab": {
          "base_uri": "https://localhost:8080/"
        },
        "id": "zas85XmO7BED",
        "outputId": "ed99d5ba-dc01-4db8-eb08-83fa3ab22853"
      },
      "source": [
        "# checking the number of missing values\n",
        "mod.isnull().sum()"
      ],
      "execution_count": 5,
      "outputs": [
        {
          "output_type": "execute_result",
          "data": {
            "text/plain": [
              "item_id           0\n",
              "user_id           1\n",
              "rating            0\n",
              "timestamp         0\n",
              "size          21760\n",
              "fit           18506\n",
              "user_attr      8367\n",
              "model_attr        0\n",
              "category          0\n",
              "brand         73980\n",
              "year              0\n",
              "split             0\n",
              "dtype: int64"
            ]
          },
          "metadata": {
            "tags": []
          },
          "execution_count": 5
        }
      ]
    },
    {
      "cell_type": "code",
      "metadata": {
        "colab": {
          "base_uri": "https://localhost:8080/",
          "height": 297
        },
        "id": "i3pLyYlZ7BED",
        "outputId": "3722fd69-da30-47b3-f1b3-996ab1cc3e76"
      },
      "source": [
        "# inspecting the dataframe \n",
        "mod.describe()"
      ],
      "execution_count": 6,
      "outputs": [
        {
          "output_type": "execute_result",
          "data": {
            "text/html": [
              "<div>\n",
              "<style scoped>\n",
              "    .dataframe tbody tr th:only-of-type {\n",
              "        vertical-align: middle;\n",
              "    }\n",
              "\n",
              "    .dataframe tbody tr th {\n",
              "        vertical-align: top;\n",
              "    }\n",
              "\n",
              "    .dataframe thead th {\n",
              "        text-align: right;\n",
              "    }\n",
              "</style>\n",
              "<table border=\"1\" class=\"dataframe\">\n",
              "  <thead>\n",
              "    <tr style=\"text-align: right;\">\n",
              "      <th></th>\n",
              "      <th>item_id</th>\n",
              "      <th>rating</th>\n",
              "      <th>size</th>\n",
              "      <th>year</th>\n",
              "      <th>split</th>\n",
              "    </tr>\n",
              "  </thead>\n",
              "  <tbody>\n",
              "    <tr>\n",
              "      <th>count</th>\n",
              "      <td>99893.000000</td>\n",
              "      <td>99893.000000</td>\n",
              "      <td>78133.000000</td>\n",
              "      <td>99893.000000</td>\n",
              "      <td>99893.000000</td>\n",
              "    </tr>\n",
              "    <tr>\n",
              "      <th>mean</th>\n",
              "      <td>83944.091208</td>\n",
              "      <td>4.209594</td>\n",
              "      <td>3.217322</td>\n",
              "      <td>2015.476450</td>\n",
              "      <td>0.358564</td>\n",
              "    </tr>\n",
              "    <tr>\n",
              "      <th>std</th>\n",
              "      <td>43558.135979</td>\n",
              "      <td>1.080633</td>\n",
              "      <td>1.885934</td>\n",
              "      <td>1.970262</td>\n",
              "      <td>0.720993</td>\n",
              "    </tr>\n",
              "    <tr>\n",
              "      <th>min</th>\n",
              "      <td>6454.000000</td>\n",
              "      <td>1.000000</td>\n",
              "      <td>0.000000</td>\n",
              "      <td>2010.000000</td>\n",
              "      <td>0.000000</td>\n",
              "    </tr>\n",
              "    <tr>\n",
              "      <th>25%</th>\n",
              "      <td>48629.000000</td>\n",
              "      <td>4.000000</td>\n",
              "      <td>2.000000</td>\n",
              "      <td>2014.000000</td>\n",
              "      <td>0.000000</td>\n",
              "    </tr>\n",
              "    <tr>\n",
              "      <th>50%</th>\n",
              "      <td>77878.000000</td>\n",
              "      <td>5.000000</td>\n",
              "      <td>3.000000</td>\n",
              "      <td>2016.000000</td>\n",
              "      <td>0.000000</td>\n",
              "    </tr>\n",
              "    <tr>\n",
              "      <th>75%</th>\n",
              "      <td>120126.000000</td>\n",
              "      <td>5.000000</td>\n",
              "      <td>4.000000</td>\n",
              "      <td>2017.000000</td>\n",
              "      <td>0.000000</td>\n",
              "    </tr>\n",
              "    <tr>\n",
              "      <th>max</th>\n",
              "      <td>155950.000000</td>\n",
              "      <td>5.000000</td>\n",
              "      <td>8.000000</td>\n",
              "      <td>2019.000000</td>\n",
              "      <td>2.000000</td>\n",
              "    </tr>\n",
              "  </tbody>\n",
              "</table>\n",
              "</div>"
            ],
            "text/plain": [
              "             item_id        rating          size          year         split\n",
              "count   99893.000000  99893.000000  78133.000000  99893.000000  99893.000000\n",
              "mean    83944.091208      4.209594      3.217322   2015.476450      0.358564\n",
              "std     43558.135979      1.080633      1.885934      1.970262      0.720993\n",
              "min      6454.000000      1.000000      0.000000   2010.000000      0.000000\n",
              "25%     48629.000000      4.000000      2.000000   2014.000000      0.000000\n",
              "50%     77878.000000      5.000000      3.000000   2016.000000      0.000000\n",
              "75%    120126.000000      5.000000      4.000000   2017.000000      0.000000\n",
              "max    155950.000000      5.000000      8.000000   2019.000000      2.000000"
            ]
          },
          "metadata": {
            "tags": []
          },
          "execution_count": 6
        }
      ]
    },
    {
      "cell_type": "markdown",
      "metadata": {
        "id": "iTOvzE6_7BED"
      },
      "source": [
        "## Data Cleaning "
      ]
    },
    {
      "cell_type": "code",
      "metadata": {
        "id": "f65JNsC57BEE"
      },
      "source": [
        "#removing missing values for size and user id\n",
        "mod.dropna(subset=['size', 'user_id'], inplace = True)"
      ],
      "execution_count": 7,
      "outputs": []
    },
    {
      "cell_type": "code",
      "metadata": {
        "colab": {
          "base_uri": "https://localhost:8080/"
        },
        "id": "n46ATwm_7BEE",
        "outputId": "a3b7e64e-215d-46a3-ed7b-78bf293e662e"
      },
      "source": [
        "#unique values for fit \n",
        "mod['fit'].unique()"
      ],
      "execution_count": 8,
      "outputs": [
        {
          "output_type": "execute_result",
          "data": {
            "text/plain": [
              "array(['Just right', 'Slightly large', 'Slightly small', 'Very small',\n",
              "       'Very large', nan], dtype=object)"
            ]
          },
          "metadata": {
            "tags": []
          },
          "execution_count": 8
        }
      ]
    },
    {
      "cell_type": "code",
      "metadata": {
        "colab": {
          "base_uri": "https://localhost:8080/"
        },
        "id": "yHFf_9HB7BEE",
        "outputId": "150af516-c7a9-43a8-f7c9-98a2bdfdd3d1"
      },
      "source": [
        "# unique values for user attribute\n",
        "mod['user_attr'].unique()"
      ],
      "execution_count": 9,
      "outputs": [
        {
          "output_type": "execute_result",
          "data": {
            "text/plain": [
              "array(['Small', 'Large'], dtype=object)"
            ]
          },
          "metadata": {
            "tags": []
          },
          "execution_count": 9
        }
      ]
    },
    {
      "cell_type": "code",
      "metadata": {
        "colab": {
          "base_uri": "https://localhost:8080/"
        },
        "id": "0Ne2za1T7BEE",
        "outputId": "7603e25f-b7b8-4456-a8a5-3bf5fbedecd8"
      },
      "source": [
        "# unique values for model attribute\n",
        "mod['model_attr'].unique()"
      ],
      "execution_count": 10,
      "outputs": [
        {
          "output_type": "execute_result",
          "data": {
            "text/plain": [
              "array(['Small', 'Small&Large'], dtype=object)"
            ]
          },
          "metadata": {
            "tags": []
          },
          "execution_count": 10
        }
      ]
    },
    {
      "cell_type": "code",
      "metadata": {
        "id": "BXfVx0AD7BEF",
        "colab": {
          "base_uri": "https://localhost:8080/"
        },
        "outputId": "8c4b77d3-4ddd-4183-8ab9-6858e8be8aca"
      },
      "source": [
        "# after removing null values for size, we are only left with missing values for fit and brand\n",
        "# since more than half of the dataset consists of missing values for brand, we won't be removing those observations \n",
        "mod.isnull().sum()"
      ],
      "execution_count": 11,
      "outputs": [
        {
          "output_type": "execute_result",
          "data": {
            "text/plain": [
              "item_id           0\n",
              "user_id           0\n",
              "rating            0\n",
              "timestamp         0\n",
              "size              0\n",
              "fit            7213\n",
              "user_attr         0\n",
              "model_attr        0\n",
              "category          0\n",
              "brand         59575\n",
              "year              0\n",
              "split             0\n",
              "dtype: int64"
            ]
          },
          "metadata": {
            "tags": []
          },
          "execution_count": 11
        }
      ]
    },
    {
      "cell_type": "code",
      "metadata": {
        "colab": {
          "base_uri": "https://localhost:8080/"
        },
        "id": "dcBW5-SN7BEF",
        "outputId": "528d5d2c-bfeb-42d6-c554-ba438901b21e"
      },
      "source": [
        "# inspecting unique values of fit for each size\n",
        "for i in mod['size'].unique():\n",
        "    print('size', i)\n",
        "    print(mod[mod['size'] == i].fit.unique())\n",
        "    print('-------')"
      ],
      "execution_count": 12,
      "outputs": [
        {
          "output_type": "stream",
          "text": [
            "size 1.0\n",
            "['Just right' 'Slightly small' 'Slightly large' 'Very large' 'Very small'\n",
            " nan]\n",
            "-------\n",
            "size 2.0\n",
            "['Just right' 'Slightly small' 'Slightly large' 'Very large' 'Very small'\n",
            " nan]\n",
            "-------\n",
            "size 3.0\n",
            "['Just right' 'Slightly large' 'Slightly small' 'Very small' 'Very large'\n",
            " nan]\n",
            "-------\n",
            "size 7.0\n",
            "['Just right' 'Very small' 'Slightly small' 'Slightly large' 'Very large'\n",
            " nan]\n",
            "-------\n",
            "size 4.0\n",
            "['Slightly small' 'Just right' 'Very small' 'Slightly large' 'Very large'\n",
            " nan]\n",
            "-------\n",
            "size 6.0\n",
            "['Very small' 'Just right' 'Slightly small' 'Slightly large' 'Very large'\n",
            " nan]\n",
            "-------\n",
            "size 5.0\n",
            "['Just right' 'Slightly large' 'Very small' 'Slightly small' 'Very large'\n",
            " nan]\n",
            "-------\n",
            "size 8.0\n",
            "['Very small' 'Slightly small' 'Slightly large' 'Very large' 'Just right'\n",
            " nan]\n",
            "-------\n",
            "size 0.0\n",
            "['Just right' 'Slightly large' 'Very large' 'Slightly small' nan]\n",
            "-------\n"
          ],
          "name": "stdout"
        }
      ]
    },
    {
      "cell_type": "markdown",
      "metadata": {
        "id": "xfMLFWvI7BEF"
      },
      "source": [
        "The above loop displays that all sizes have fit values ranging from small to large which does not provide an accurate representation of the user fit. An example is also provided below, where 104 users of size 8 have a 'very small' fit which is misleading."
      ]
    },
    {
      "cell_type": "markdown",
      "metadata": {
        "id": "L7LeVI2k7BEH"
      },
      "source": [
        "## Exploratory Data Analysis "
      ]
    },
    {
      "cell_type": "code",
      "metadata": {
        "colab": {
          "base_uri": "https://localhost:8080/",
          "height": 609
        },
        "id": "jAgewkt07BEG",
        "outputId": "e4d84dd0-afaf-4362-e5dc-75e5780bb489"
      },
      "source": [
        "# 104 users of size 8 have a 'very small' fit \n",
        "mod[(mod['size'] == 8) & (mod['fit'] == 'Very small')]"
      ],
      "execution_count": 13,
      "outputs": [
        {
          "output_type": "execute_result",
          "data": {
            "text/html": [
              "<div>\n",
              "<style scoped>\n",
              "    .dataframe tbody tr th:only-of-type {\n",
              "        vertical-align: middle;\n",
              "    }\n",
              "\n",
              "    .dataframe tbody tr th {\n",
              "        vertical-align: top;\n",
              "    }\n",
              "\n",
              "    .dataframe thead th {\n",
              "        text-align: right;\n",
              "    }\n",
              "</style>\n",
              "<table border=\"1\" class=\"dataframe\">\n",
              "  <thead>\n",
              "    <tr style=\"text-align: right;\">\n",
              "      <th></th>\n",
              "      <th>item_id</th>\n",
              "      <th>user_id</th>\n",
              "      <th>rating</th>\n",
              "      <th>timestamp</th>\n",
              "      <th>size</th>\n",
              "      <th>fit</th>\n",
              "      <th>user_attr</th>\n",
              "      <th>model_attr</th>\n",
              "      <th>category</th>\n",
              "      <th>brand</th>\n",
              "      <th>year</th>\n",
              "      <th>split</th>\n",
              "    </tr>\n",
              "  </thead>\n",
              "  <tbody>\n",
              "    <tr>\n",
              "      <th>1760</th>\n",
              "      <td>27590</td>\n",
              "      <td>Cattie</td>\n",
              "      <td>3</td>\n",
              "      <td>2012-02-26 08:00:00+00:00</td>\n",
              "      <td>8.0</td>\n",
              "      <td>Very small</td>\n",
              "      <td>Large</td>\n",
              "      <td>Small</td>\n",
              "      <td>Bottoms</td>\n",
              "      <td>NaN</td>\n",
              "      <td>2016</td>\n",
              "      <td>1</td>\n",
              "    </tr>\n",
              "    <tr>\n",
              "      <th>6417</th>\n",
              "      <td>7443</td>\n",
              "      <td>ericanrainey</td>\n",
              "      <td>1</td>\n",
              "      <td>2013-05-31 07:00:00+00:00</td>\n",
              "      <td>8.0</td>\n",
              "      <td>Very small</td>\n",
              "      <td>Large</td>\n",
              "      <td>Small</td>\n",
              "      <td>Dresses</td>\n",
              "      <td>NaN</td>\n",
              "      <td>2012</td>\n",
              "      <td>0</td>\n",
              "    </tr>\n",
              "    <tr>\n",
              "      <th>6818</th>\n",
              "      <td>7443</td>\n",
              "      <td>muneca0801</td>\n",
              "      <td>1</td>\n",
              "      <td>2013-06-20 07:00:00+00:00</td>\n",
              "      <td>8.0</td>\n",
              "      <td>Very small</td>\n",
              "      <td>Large</td>\n",
              "      <td>Small</td>\n",
              "      <td>Dresses</td>\n",
              "      <td>NaN</td>\n",
              "      <td>2012</td>\n",
              "      <td>0</td>\n",
              "    </tr>\n",
              "    <tr>\n",
              "      <th>6966</th>\n",
              "      <td>7443</td>\n",
              "      <td>Lorraine</td>\n",
              "      <td>4</td>\n",
              "      <td>2013-06-28 07:00:00+00:00</td>\n",
              "      <td>8.0</td>\n",
              "      <td>Very small</td>\n",
              "      <td>Large</td>\n",
              "      <td>Small</td>\n",
              "      <td>Dresses</td>\n",
              "      <td>NaN</td>\n",
              "      <td>2012</td>\n",
              "      <td>0</td>\n",
              "    </tr>\n",
              "    <tr>\n",
              "      <th>8016</th>\n",
              "      <td>27590</td>\n",
              "      <td>muelle_de_luz</td>\n",
              "      <td>5</td>\n",
              "      <td>2013-08-18 07:00:00+00:00</td>\n",
              "      <td>8.0</td>\n",
              "      <td>Very small</td>\n",
              "      <td>Large</td>\n",
              "      <td>Small</td>\n",
              "      <td>Bottoms</td>\n",
              "      <td>NaN</td>\n",
              "      <td>2016</td>\n",
              "      <td>0</td>\n",
              "    </tr>\n",
              "    <tr>\n",
              "      <th>...</th>\n",
              "      <td>...</td>\n",
              "      <td>...</td>\n",
              "      <td>...</td>\n",
              "      <td>...</td>\n",
              "      <td>...</td>\n",
              "      <td>...</td>\n",
              "      <td>...</td>\n",
              "      <td>...</td>\n",
              "      <td>...</td>\n",
              "      <td>...</td>\n",
              "      <td>...</td>\n",
              "      <td>...</td>\n",
              "    </tr>\n",
              "    <tr>\n",
              "      <th>77427</th>\n",
              "      <td>154538</td>\n",
              "      <td>Leannel</td>\n",
              "      <td>2</td>\n",
              "      <td>2017-10-14 07:00:00+00:00</td>\n",
              "      <td>8.0</td>\n",
              "      <td>Very small</td>\n",
              "      <td>Large</td>\n",
              "      <td>Small</td>\n",
              "      <td>Dresses</td>\n",
              "      <td>Banned</td>\n",
              "      <td>2017</td>\n",
              "      <td>0</td>\n",
              "    </tr>\n",
              "    <tr>\n",
              "      <th>93174</th>\n",
              "      <td>150043</td>\n",
              "      <td>Swedegirl</td>\n",
              "      <td>2</td>\n",
              "      <td>2018-08-13 20:51:00.358000+00:00</td>\n",
              "      <td>8.0</td>\n",
              "      <td>Very small</td>\n",
              "      <td>Large</td>\n",
              "      <td>Small&amp;Large</td>\n",
              "      <td>Tops</td>\n",
              "      <td>NaN</td>\n",
              "      <td>2018</td>\n",
              "      <td>0</td>\n",
              "    </tr>\n",
              "    <tr>\n",
              "      <th>93871</th>\n",
              "      <td>36172</td>\n",
              "      <td>Sherman</td>\n",
              "      <td>1</td>\n",
              "      <td>2018-09-21 17:20:45.303000+00:00</td>\n",
              "      <td>8.0</td>\n",
              "      <td>Very small</td>\n",
              "      <td>Large</td>\n",
              "      <td>Small&amp;Large</td>\n",
              "      <td>Tops</td>\n",
              "      <td>NaN</td>\n",
              "      <td>2016</td>\n",
              "      <td>2</td>\n",
              "    </tr>\n",
              "    <tr>\n",
              "      <th>96414</th>\n",
              "      <td>36172</td>\n",
              "      <td>Marlins</td>\n",
              "      <td>2</td>\n",
              "      <td>2018-12-10 03:51:36.779000+00:00</td>\n",
              "      <td>8.0</td>\n",
              "      <td>Very small</td>\n",
              "      <td>Large</td>\n",
              "      <td>Small&amp;Large</td>\n",
              "      <td>Tops</td>\n",
              "      <td>NaN</td>\n",
              "      <td>2016</td>\n",
              "      <td>0</td>\n",
              "    </tr>\n",
              "    <tr>\n",
              "      <th>96914</th>\n",
              "      <td>121272</td>\n",
              "      <td>HDinLA</td>\n",
              "      <td>3</td>\n",
              "      <td>2018-12-20 17:34:38.503000+00:00</td>\n",
              "      <td>8.0</td>\n",
              "      <td>Very small</td>\n",
              "      <td>Large</td>\n",
              "      <td>Small&amp;Large</td>\n",
              "      <td>Bottoms</td>\n",
              "      <td>Miss Candyfloss</td>\n",
              "      <td>2018</td>\n",
              "      <td>0</td>\n",
              "    </tr>\n",
              "  </tbody>\n",
              "</table>\n",
              "<p>104 rows × 12 columns</p>\n",
              "</div>"
            ],
            "text/plain": [
              "       item_id        user_id  rating  ...            brand  year split\n",
              "1760     27590         Cattie       3  ...              NaN  2016     1\n",
              "6417      7443   ericanrainey       1  ...              NaN  2012     0\n",
              "6818      7443     muneca0801       1  ...              NaN  2012     0\n",
              "6966      7443       Lorraine       4  ...              NaN  2012     0\n",
              "8016     27590  muelle_de_luz       5  ...              NaN  2016     0\n",
              "...        ...            ...     ...  ...              ...   ...   ...\n",
              "77427   154538        Leannel       2  ...           Banned  2017     0\n",
              "93174   150043      Swedegirl       2  ...              NaN  2018     0\n",
              "93871    36172        Sherman       1  ...              NaN  2016     2\n",
              "96414    36172        Marlins       2  ...              NaN  2016     0\n",
              "96914   121272         HDinLA       3  ...  Miss Candyfloss  2018     0\n",
              "\n",
              "[104 rows x 12 columns]"
            ]
          },
          "metadata": {
            "tags": []
          },
          "execution_count": 13
        }
      ]
    },
    {
      "cell_type": "code",
      "metadata": {
        "colab": {
          "base_uri": "https://localhost:8080/"
        },
        "id": "OERxoDcl-Ha2",
        "outputId": "19715631-df64-4aaf-aa04-56d62da19c81"
      },
      "source": [
        "(mod[(mod['size'] == 8) & (mod['fit'] == 'Very small') & (mod['model_attr'] == 'Small')]).shape"
      ],
      "execution_count": 14,
      "outputs": [
        {
          "output_type": "execute_result",
          "data": {
            "text/plain": [
              "(41, 12)"
            ]
          },
          "metadata": {
            "tags": []
          },
          "execution_count": 14
        }
      ]
    },
    {
      "cell_type": "code",
      "metadata": {
        "colab": {
          "base_uri": "https://localhost:8080/",
          "height": 609
        },
        "id": "S4ac3qo__GiD",
        "outputId": "3e9dbdb1-ff55-4a9d-9ba8-5c594cd8b5ae"
      },
      "source": [
        "mod[(mod['size'] == 7) & (mod['fit'] == 'Very small')]"
      ],
      "execution_count": 15,
      "outputs": [
        {
          "output_type": "execute_result",
          "data": {
            "text/html": [
              "<div>\n",
              "<style scoped>\n",
              "    .dataframe tbody tr th:only-of-type {\n",
              "        vertical-align: middle;\n",
              "    }\n",
              "\n",
              "    .dataframe tbody tr th {\n",
              "        vertical-align: top;\n",
              "    }\n",
              "\n",
              "    .dataframe thead th {\n",
              "        text-align: right;\n",
              "    }\n",
              "</style>\n",
              "<table border=\"1\" class=\"dataframe\">\n",
              "  <thead>\n",
              "    <tr style=\"text-align: right;\">\n",
              "      <th></th>\n",
              "      <th>item_id</th>\n",
              "      <th>user_id</th>\n",
              "      <th>rating</th>\n",
              "      <th>timestamp</th>\n",
              "      <th>size</th>\n",
              "      <th>fit</th>\n",
              "      <th>user_attr</th>\n",
              "      <th>model_attr</th>\n",
              "      <th>category</th>\n",
              "      <th>brand</th>\n",
              "      <th>year</th>\n",
              "      <th>split</th>\n",
              "    </tr>\n",
              "  </thead>\n",
              "  <tbody>\n",
              "    <tr>\n",
              "      <th>344</th>\n",
              "      <td>7443</td>\n",
              "      <td>rachael.margarita</td>\n",
              "      <td>1</td>\n",
              "      <td>2011-02-24 08:00:00+00:00</td>\n",
              "      <td>7.0</td>\n",
              "      <td>Very small</td>\n",
              "      <td>Large</td>\n",
              "      <td>Small</td>\n",
              "      <td>Dresses</td>\n",
              "      <td>NaN</td>\n",
              "      <td>2012</td>\n",
              "      <td>0</td>\n",
              "    </tr>\n",
              "    <tr>\n",
              "      <th>1786</th>\n",
              "      <td>16411</td>\n",
              "      <td>Leeny</td>\n",
              "      <td>2</td>\n",
              "      <td>2012-02-29 08:00:00+00:00</td>\n",
              "      <td>7.0</td>\n",
              "      <td>Very small</td>\n",
              "      <td>Large</td>\n",
              "      <td>Small</td>\n",
              "      <td>Dresses</td>\n",
              "      <td>NaN</td>\n",
              "      <td>2011</td>\n",
              "      <td>0</td>\n",
              "    </tr>\n",
              "    <tr>\n",
              "      <th>2236</th>\n",
              "      <td>16411</td>\n",
              "      <td>jcpollutra</td>\n",
              "      <td>1</td>\n",
              "      <td>2012-05-22 07:00:00+00:00</td>\n",
              "      <td>7.0</td>\n",
              "      <td>Very small</td>\n",
              "      <td>Large</td>\n",
              "      <td>Small</td>\n",
              "      <td>Dresses</td>\n",
              "      <td>NaN</td>\n",
              "      <td>2011</td>\n",
              "      <td>0</td>\n",
              "    </tr>\n",
              "    <tr>\n",
              "      <th>6482</th>\n",
              "      <td>21296</td>\n",
              "      <td>milonde</td>\n",
              "      <td>3</td>\n",
              "      <td>2013-06-05 07:00:00+00:00</td>\n",
              "      <td>7.0</td>\n",
              "      <td>Very small</td>\n",
              "      <td>Large</td>\n",
              "      <td>Small</td>\n",
              "      <td>Bottoms</td>\n",
              "      <td>ModCloth</td>\n",
              "      <td>2013</td>\n",
              "      <td>0</td>\n",
              "    </tr>\n",
              "    <tr>\n",
              "      <th>7246</th>\n",
              "      <td>21296</td>\n",
              "      <td>dani_elley05</td>\n",
              "      <td>2</td>\n",
              "      <td>2013-07-12 07:00:00+00:00</td>\n",
              "      <td>7.0</td>\n",
              "      <td>Very small</td>\n",
              "      <td>Large</td>\n",
              "      <td>Small</td>\n",
              "      <td>Bottoms</td>\n",
              "      <td>ModCloth</td>\n",
              "      <td>2013</td>\n",
              "      <td>0</td>\n",
              "    </tr>\n",
              "    <tr>\n",
              "      <th>...</th>\n",
              "      <td>...</td>\n",
              "      <td>...</td>\n",
              "      <td>...</td>\n",
              "      <td>...</td>\n",
              "      <td>...</td>\n",
              "      <td>...</td>\n",
              "      <td>...</td>\n",
              "      <td>...</td>\n",
              "      <td>...</td>\n",
              "      <td>...</td>\n",
              "      <td>...</td>\n",
              "      <td>...</td>\n",
              "    </tr>\n",
              "    <tr>\n",
              "      <th>98023</th>\n",
              "      <td>32134</td>\n",
              "      <td>MarathonMama</td>\n",
              "      <td>5</td>\n",
              "      <td>2019-02-04 17:54:59.592000+00:00</td>\n",
              "      <td>7.0</td>\n",
              "      <td>Very small</td>\n",
              "      <td>Large</td>\n",
              "      <td>Small&amp;Large</td>\n",
              "      <td>Dresses</td>\n",
              "      <td>NaN</td>\n",
              "      <td>2018</td>\n",
              "      <td>0</td>\n",
              "    </tr>\n",
              "    <tr>\n",
              "      <th>98113</th>\n",
              "      <td>32134</td>\n",
              "      <td>Raleigh</td>\n",
              "      <td>2</td>\n",
              "      <td>2019-02-07 05:20:41.316000+00:00</td>\n",
              "      <td>7.0</td>\n",
              "      <td>Very small</td>\n",
              "      <td>Large</td>\n",
              "      <td>Small&amp;Large</td>\n",
              "      <td>Dresses</td>\n",
              "      <td>NaN</td>\n",
              "      <td>2018</td>\n",
              "      <td>0</td>\n",
              "    </tr>\n",
              "    <tr>\n",
              "      <th>98949</th>\n",
              "      <td>32134</td>\n",
              "      <td>Sewingmamaof3</td>\n",
              "      <td>5</td>\n",
              "      <td>2019-03-26 22:15:34.553000+00:00</td>\n",
              "      <td>7.0</td>\n",
              "      <td>Very small</td>\n",
              "      <td>Large</td>\n",
              "      <td>Small&amp;Large</td>\n",
              "      <td>Dresses</td>\n",
              "      <td>NaN</td>\n",
              "      <td>2018</td>\n",
              "      <td>2</td>\n",
              "    </tr>\n",
              "    <tr>\n",
              "      <th>99065</th>\n",
              "      <td>133399</td>\n",
              "      <td>ny</td>\n",
              "      <td>1</td>\n",
              "      <td>2019-04-06 02:50:01.063000+00:00</td>\n",
              "      <td>7.0</td>\n",
              "      <td>Very small</td>\n",
              "      <td>Large</td>\n",
              "      <td>Small&amp;Large</td>\n",
              "      <td>Bottoms</td>\n",
              "      <td>Miss Candyfloss</td>\n",
              "      <td>2016</td>\n",
              "      <td>0</td>\n",
              "    </tr>\n",
              "    <tr>\n",
              "      <th>99519</th>\n",
              "      <td>6454</td>\n",
              "      <td>Queen</td>\n",
              "      <td>2</td>\n",
              "      <td>2019-05-18 02:54:44.894000+00:00</td>\n",
              "      <td>7.0</td>\n",
              "      <td>Very small</td>\n",
              "      <td>Small</td>\n",
              "      <td>Small&amp;Large</td>\n",
              "      <td>Dresses</td>\n",
              "      <td>ModCloth</td>\n",
              "      <td>2017</td>\n",
              "      <td>2</td>\n",
              "    </tr>\n",
              "  </tbody>\n",
              "</table>\n",
              "<p>226 rows × 12 columns</p>\n",
              "</div>"
            ],
            "text/plain": [
              "       item_id            user_id  rating  ...            brand  year split\n",
              "344       7443  rachael.margarita       1  ...              NaN  2012     0\n",
              "1786     16411              Leeny       2  ...              NaN  2011     0\n",
              "2236     16411         jcpollutra       1  ...              NaN  2011     0\n",
              "6482     21296            milonde       3  ...         ModCloth  2013     0\n",
              "7246     21296       dani_elley05       2  ...         ModCloth  2013     0\n",
              "...        ...                ...     ...  ...              ...   ...   ...\n",
              "98023    32134       MarathonMama       5  ...              NaN  2018     0\n",
              "98113    32134            Raleigh       2  ...              NaN  2018     0\n",
              "98949    32134      Sewingmamaof3       5  ...              NaN  2018     2\n",
              "99065   133399                 ny       1  ...  Miss Candyfloss  2016     0\n",
              "99519     6454              Queen       2  ...         ModCloth  2017     2\n",
              "\n",
              "[226 rows x 12 columns]"
            ]
          },
          "metadata": {
            "tags": []
          },
          "execution_count": 15
        }
      ]
    },
    {
      "cell_type": "code",
      "metadata": {
        "colab": {
          "base_uri": "https://localhost:8080/"
        },
        "id": "3ha8pf1R_GrE",
        "outputId": "3afcc16a-76a5-427e-f78f-ad265e816ab2"
      },
      "source": [
        "(mod[(mod['size'] == 7) & (mod['fit'] == 'Very small') & (mod['model_attr'] == 'Small')]).shape"
      ],
      "execution_count": 16,
      "outputs": [
        {
          "output_type": "execute_result",
          "data": {
            "text/plain": [
              "(156, 12)"
            ]
          },
          "metadata": {
            "tags": []
          },
          "execution_count": 16
        }
      ]
    },
    {
      "cell_type": "code",
      "metadata": {
        "colab": {
          "base_uri": "https://localhost:8080/",
          "height": 589
        },
        "id": "CDtSaaUH943C",
        "outputId": "a0c55514-40ce-4b1b-89ea-399413c44150"
      },
      "source": [
        "mod[(mod['size'] == 1) & (mod['fit'] == 'Very large')]"
      ],
      "execution_count": 17,
      "outputs": [
        {
          "output_type": "execute_result",
          "data": {
            "text/html": [
              "<div>\n",
              "<style scoped>\n",
              "    .dataframe tbody tr th:only-of-type {\n",
              "        vertical-align: middle;\n",
              "    }\n",
              "\n",
              "    .dataframe tbody tr th {\n",
              "        vertical-align: top;\n",
              "    }\n",
              "\n",
              "    .dataframe thead th {\n",
              "        text-align: right;\n",
              "    }\n",
              "</style>\n",
              "<table border=\"1\" class=\"dataframe\">\n",
              "  <thead>\n",
              "    <tr style=\"text-align: right;\">\n",
              "      <th></th>\n",
              "      <th>item_id</th>\n",
              "      <th>user_id</th>\n",
              "      <th>rating</th>\n",
              "      <th>timestamp</th>\n",
              "      <th>size</th>\n",
              "      <th>fit</th>\n",
              "      <th>user_attr</th>\n",
              "      <th>model_attr</th>\n",
              "      <th>category</th>\n",
              "      <th>brand</th>\n",
              "      <th>year</th>\n",
              "      <th>split</th>\n",
              "    </tr>\n",
              "  </thead>\n",
              "  <tbody>\n",
              "    <tr>\n",
              "      <th>462</th>\n",
              "      <td>16411</td>\n",
              "      <td>releceb</td>\n",
              "      <td>1</td>\n",
              "      <td>2011-06-15 07:00:00+00:00</td>\n",
              "      <td>1.0</td>\n",
              "      <td>Very large</td>\n",
              "      <td>Small</td>\n",
              "      <td>Small</td>\n",
              "      <td>Dresses</td>\n",
              "      <td>NaN</td>\n",
              "      <td>2011</td>\n",
              "      <td>0</td>\n",
              "    </tr>\n",
              "    <tr>\n",
              "      <th>1210</th>\n",
              "      <td>16411</td>\n",
              "      <td>nerual86</td>\n",
              "      <td>5</td>\n",
              "      <td>2011-12-05 08:00:00+00:00</td>\n",
              "      <td>1.0</td>\n",
              "      <td>Very large</td>\n",
              "      <td>Small</td>\n",
              "      <td>Small</td>\n",
              "      <td>Dresses</td>\n",
              "      <td>NaN</td>\n",
              "      <td>2011</td>\n",
              "      <td>0</td>\n",
              "    </tr>\n",
              "    <tr>\n",
              "      <th>1410</th>\n",
              "      <td>31644</td>\n",
              "      <td>Lori</td>\n",
              "      <td>2</td>\n",
              "      <td>2012-01-03 08:00:00+00:00</td>\n",
              "      <td>1.0</td>\n",
              "      <td>Very large</td>\n",
              "      <td>Small</td>\n",
              "      <td>Small&amp;Large</td>\n",
              "      <td>Dresses</td>\n",
              "      <td>NaN</td>\n",
              "      <td>2015</td>\n",
              "      <td>0</td>\n",
              "    </tr>\n",
              "    <tr>\n",
              "      <th>1698</th>\n",
              "      <td>22563</td>\n",
              "      <td>lauren</td>\n",
              "      <td>1</td>\n",
              "      <td>2012-02-18 08:00:00+00:00</td>\n",
              "      <td>1.0</td>\n",
              "      <td>Very large</td>\n",
              "      <td>Small</td>\n",
              "      <td>Small</td>\n",
              "      <td>Tops</td>\n",
              "      <td>NaN</td>\n",
              "      <td>2014</td>\n",
              "      <td>0</td>\n",
              "    </tr>\n",
              "    <tr>\n",
              "      <th>2337</th>\n",
              "      <td>22563</td>\n",
              "      <td>Venecia</td>\n",
              "      <td>3</td>\n",
              "      <td>2012-06-06 07:00:00+00:00</td>\n",
              "      <td>1.0</td>\n",
              "      <td>Very large</td>\n",
              "      <td>Small</td>\n",
              "      <td>Small</td>\n",
              "      <td>Tops</td>\n",
              "      <td>NaN</td>\n",
              "      <td>2014</td>\n",
              "      <td>0</td>\n",
              "    </tr>\n",
              "    <tr>\n",
              "      <th>...</th>\n",
              "      <td>...</td>\n",
              "      <td>...</td>\n",
              "      <td>...</td>\n",
              "      <td>...</td>\n",
              "      <td>...</td>\n",
              "      <td>...</td>\n",
              "      <td>...</td>\n",
              "      <td>...</td>\n",
              "      <td>...</td>\n",
              "      <td>...</td>\n",
              "      <td>...</td>\n",
              "      <td>...</td>\n",
              "    </tr>\n",
              "    <tr>\n",
              "      <th>97213</th>\n",
              "      <td>140525</td>\n",
              "      <td>Ashley</td>\n",
              "      <td>3</td>\n",
              "      <td>2018-12-31 14:26:54.088000+00:00</td>\n",
              "      <td>1.0</td>\n",
              "      <td>Very large</td>\n",
              "      <td>Small</td>\n",
              "      <td>Small&amp;Large</td>\n",
              "      <td>Tops</td>\n",
              "      <td>NaN</td>\n",
              "      <td>2017</td>\n",
              "      <td>0</td>\n",
              "    </tr>\n",
              "    <tr>\n",
              "      <th>97214</th>\n",
              "      <td>146475</td>\n",
              "      <td>Ashley</td>\n",
              "      <td>5</td>\n",
              "      <td>2018-12-31 14:36:01.783000+00:00</td>\n",
              "      <td>1.0</td>\n",
              "      <td>Very large</td>\n",
              "      <td>Small</td>\n",
              "      <td>Small&amp;Large</td>\n",
              "      <td>Tops</td>\n",
              "      <td>NaN</td>\n",
              "      <td>2018</td>\n",
              "      <td>0</td>\n",
              "    </tr>\n",
              "    <tr>\n",
              "      <th>97295</th>\n",
              "      <td>143422</td>\n",
              "      <td>SF</td>\n",
              "      <td>3</td>\n",
              "      <td>2019-01-04 04:07:00.155000+00:00</td>\n",
              "      <td>1.0</td>\n",
              "      <td>Very large</td>\n",
              "      <td>Small</td>\n",
              "      <td>Small</td>\n",
              "      <td>Outerwear</td>\n",
              "      <td>NaN</td>\n",
              "      <td>2017</td>\n",
              "      <td>2</td>\n",
              "    </tr>\n",
              "    <tr>\n",
              "      <th>98765</th>\n",
              "      <td>27439</td>\n",
              "      <td>Chicago</td>\n",
              "      <td>3</td>\n",
              "      <td>2019-03-12 17:06:40.878000+00:00</td>\n",
              "      <td>1.0</td>\n",
              "      <td>Very large</td>\n",
              "      <td>Small</td>\n",
              "      <td>Small&amp;Large</td>\n",
              "      <td>Outerwear</td>\n",
              "      <td>Steve Madden</td>\n",
              "      <td>2018</td>\n",
              "      <td>0</td>\n",
              "    </tr>\n",
              "    <tr>\n",
              "      <th>98988</th>\n",
              "      <td>153643</td>\n",
              "      <td>Terry</td>\n",
              "      <td>3</td>\n",
              "      <td>2019-03-31 00:40:08.806000+00:00</td>\n",
              "      <td>1.0</td>\n",
              "      <td>Very large</td>\n",
              "      <td>Small</td>\n",
              "      <td>Small&amp;Large</td>\n",
              "      <td>Dresses</td>\n",
              "      <td>NaN</td>\n",
              "      <td>2019</td>\n",
              "      <td>2</td>\n",
              "    </tr>\n",
              "  </tbody>\n",
              "</table>\n",
              "<p>422 rows × 12 columns</p>\n",
              "</div>"
            ],
            "text/plain": [
              "       item_id   user_id  rating  ...         brand  year split\n",
              "462      16411   releceb       1  ...           NaN  2011     0\n",
              "1210     16411  nerual86       5  ...           NaN  2011     0\n",
              "1410     31644      Lori       2  ...           NaN  2015     0\n",
              "1698     22563    lauren       1  ...           NaN  2014     0\n",
              "2337     22563   Venecia       3  ...           NaN  2014     0\n",
              "...        ...       ...     ...  ...           ...   ...   ...\n",
              "97213   140525    Ashley       3  ...           NaN  2017     0\n",
              "97214   146475    Ashley       5  ...           NaN  2018     0\n",
              "97295   143422        SF       3  ...           NaN  2017     2\n",
              "98765    27439   Chicago       3  ...  Steve Madden  2018     0\n",
              "98988   153643     Terry       3  ...           NaN  2019     2\n",
              "\n",
              "[422 rows x 12 columns]"
            ]
          },
          "metadata": {
            "tags": []
          },
          "execution_count": 17
        }
      ]
    },
    {
      "cell_type": "code",
      "metadata": {
        "colab": {
          "base_uri": "https://localhost:8080/",
          "height": 589
        },
        "id": "uJIY2SFS9PZI",
        "outputId": "f1e7c0ce-23d8-4b5b-9088-dec2f4445ede"
      },
      "source": [
        "mod[(mod['size'] == 1) & (mod['fit'] == 'Very large') & (mod['model_attr'] == 'Small&Large')]"
      ],
      "execution_count": 18,
      "outputs": [
        {
          "output_type": "execute_result",
          "data": {
            "text/html": [
              "<div>\n",
              "<style scoped>\n",
              "    .dataframe tbody tr th:only-of-type {\n",
              "        vertical-align: middle;\n",
              "    }\n",
              "\n",
              "    .dataframe tbody tr th {\n",
              "        vertical-align: top;\n",
              "    }\n",
              "\n",
              "    .dataframe thead th {\n",
              "        text-align: right;\n",
              "    }\n",
              "</style>\n",
              "<table border=\"1\" class=\"dataframe\">\n",
              "  <thead>\n",
              "    <tr style=\"text-align: right;\">\n",
              "      <th></th>\n",
              "      <th>item_id</th>\n",
              "      <th>user_id</th>\n",
              "      <th>rating</th>\n",
              "      <th>timestamp</th>\n",
              "      <th>size</th>\n",
              "      <th>fit</th>\n",
              "      <th>user_attr</th>\n",
              "      <th>model_attr</th>\n",
              "      <th>category</th>\n",
              "      <th>brand</th>\n",
              "      <th>year</th>\n",
              "      <th>split</th>\n",
              "    </tr>\n",
              "  </thead>\n",
              "  <tbody>\n",
              "    <tr>\n",
              "      <th>1410</th>\n",
              "      <td>31644</td>\n",
              "      <td>Lori</td>\n",
              "      <td>2</td>\n",
              "      <td>2012-01-03 08:00:00+00:00</td>\n",
              "      <td>1.0</td>\n",
              "      <td>Very large</td>\n",
              "      <td>Small</td>\n",
              "      <td>Small&amp;Large</td>\n",
              "      <td>Dresses</td>\n",
              "      <td>NaN</td>\n",
              "      <td>2015</td>\n",
              "      <td>0</td>\n",
              "    </tr>\n",
              "    <tr>\n",
              "      <th>2635</th>\n",
              "      <td>44893</td>\n",
              "      <td>Pooja</td>\n",
              "      <td>2</td>\n",
              "      <td>2012-07-22 07:00:00+00:00</td>\n",
              "      <td>1.0</td>\n",
              "      <td>Very large</td>\n",
              "      <td>Small</td>\n",
              "      <td>Small&amp;Large</td>\n",
              "      <td>Tops</td>\n",
              "      <td>NaN</td>\n",
              "      <td>2012</td>\n",
              "      <td>0</td>\n",
              "    </tr>\n",
              "    <tr>\n",
              "      <th>2676</th>\n",
              "      <td>50818</td>\n",
              "      <td>Harmony</td>\n",
              "      <td>3</td>\n",
              "      <td>2012-07-29 07:00:00+00:00</td>\n",
              "      <td>1.0</td>\n",
              "      <td>Very large</td>\n",
              "      <td>Small</td>\n",
              "      <td>Small&amp;Large</td>\n",
              "      <td>Bottoms</td>\n",
              "      <td>NaN</td>\n",
              "      <td>2016</td>\n",
              "      <td>0</td>\n",
              "    </tr>\n",
              "    <tr>\n",
              "      <th>2959</th>\n",
              "      <td>44261</td>\n",
              "      <td>Allie</td>\n",
              "      <td>4</td>\n",
              "      <td>2012-09-15 07:00:00+00:00</td>\n",
              "      <td>1.0</td>\n",
              "      <td>Very large</td>\n",
              "      <td>Small</td>\n",
              "      <td>Small&amp;Large</td>\n",
              "      <td>Tops</td>\n",
              "      <td>NaN</td>\n",
              "      <td>2014</td>\n",
              "      <td>0</td>\n",
              "    </tr>\n",
              "    <tr>\n",
              "      <th>3199</th>\n",
              "      <td>49587</td>\n",
              "      <td>ModNicole</td>\n",
              "      <td>2</td>\n",
              "      <td>2012-10-02 07:00:00+00:00</td>\n",
              "      <td>1.0</td>\n",
              "      <td>Very large</td>\n",
              "      <td>Small</td>\n",
              "      <td>Small&amp;Large</td>\n",
              "      <td>Dresses</td>\n",
              "      <td>NaN</td>\n",
              "      <td>2014</td>\n",
              "      <td>0</td>\n",
              "    </tr>\n",
              "    <tr>\n",
              "      <th>...</th>\n",
              "      <td>...</td>\n",
              "      <td>...</td>\n",
              "      <td>...</td>\n",
              "      <td>...</td>\n",
              "      <td>...</td>\n",
              "      <td>...</td>\n",
              "      <td>...</td>\n",
              "      <td>...</td>\n",
              "      <td>...</td>\n",
              "      <td>...</td>\n",
              "      <td>...</td>\n",
              "      <td>...</td>\n",
              "    </tr>\n",
              "    <tr>\n",
              "      <th>96651</th>\n",
              "      <td>144543</td>\n",
              "      <td>JDK</td>\n",
              "      <td>1</td>\n",
              "      <td>2018-12-14 17:06:20.477000+00:00</td>\n",
              "      <td>1.0</td>\n",
              "      <td>Very large</td>\n",
              "      <td>Small</td>\n",
              "      <td>Small&amp;Large</td>\n",
              "      <td>Tops</td>\n",
              "      <td>NaN</td>\n",
              "      <td>2019</td>\n",
              "      <td>0</td>\n",
              "    </tr>\n",
              "    <tr>\n",
              "      <th>97213</th>\n",
              "      <td>140525</td>\n",
              "      <td>Ashley</td>\n",
              "      <td>3</td>\n",
              "      <td>2018-12-31 14:26:54.088000+00:00</td>\n",
              "      <td>1.0</td>\n",
              "      <td>Very large</td>\n",
              "      <td>Small</td>\n",
              "      <td>Small&amp;Large</td>\n",
              "      <td>Tops</td>\n",
              "      <td>NaN</td>\n",
              "      <td>2017</td>\n",
              "      <td>0</td>\n",
              "    </tr>\n",
              "    <tr>\n",
              "      <th>97214</th>\n",
              "      <td>146475</td>\n",
              "      <td>Ashley</td>\n",
              "      <td>5</td>\n",
              "      <td>2018-12-31 14:36:01.783000+00:00</td>\n",
              "      <td>1.0</td>\n",
              "      <td>Very large</td>\n",
              "      <td>Small</td>\n",
              "      <td>Small&amp;Large</td>\n",
              "      <td>Tops</td>\n",
              "      <td>NaN</td>\n",
              "      <td>2018</td>\n",
              "      <td>0</td>\n",
              "    </tr>\n",
              "    <tr>\n",
              "      <th>98765</th>\n",
              "      <td>27439</td>\n",
              "      <td>Chicago</td>\n",
              "      <td>3</td>\n",
              "      <td>2019-03-12 17:06:40.878000+00:00</td>\n",
              "      <td>1.0</td>\n",
              "      <td>Very large</td>\n",
              "      <td>Small</td>\n",
              "      <td>Small&amp;Large</td>\n",
              "      <td>Outerwear</td>\n",
              "      <td>Steve Madden</td>\n",
              "      <td>2018</td>\n",
              "      <td>0</td>\n",
              "    </tr>\n",
              "    <tr>\n",
              "      <th>98988</th>\n",
              "      <td>153643</td>\n",
              "      <td>Terry</td>\n",
              "      <td>3</td>\n",
              "      <td>2019-03-31 00:40:08.806000+00:00</td>\n",
              "      <td>1.0</td>\n",
              "      <td>Very large</td>\n",
              "      <td>Small</td>\n",
              "      <td>Small&amp;Large</td>\n",
              "      <td>Dresses</td>\n",
              "      <td>NaN</td>\n",
              "      <td>2019</td>\n",
              "      <td>2</td>\n",
              "    </tr>\n",
              "  </tbody>\n",
              "</table>\n",
              "<p>232 rows × 12 columns</p>\n",
              "</div>"
            ],
            "text/plain": [
              "       item_id    user_id  rating  ...         brand  year split\n",
              "1410     31644       Lori       2  ...           NaN  2015     0\n",
              "2635     44893      Pooja       2  ...           NaN  2012     0\n",
              "2676     50818    Harmony       3  ...           NaN  2016     0\n",
              "2959     44261      Allie       4  ...           NaN  2014     0\n",
              "3199     49587  ModNicole       2  ...           NaN  2014     0\n",
              "...        ...        ...     ...  ...           ...   ...   ...\n",
              "96651   144543        JDK       1  ...           NaN  2019     0\n",
              "97213   140525     Ashley       3  ...           NaN  2017     0\n",
              "97214   146475     Ashley       5  ...           NaN  2018     0\n",
              "98765    27439    Chicago       3  ...  Steve Madden  2018     0\n",
              "98988   153643      Terry       3  ...           NaN  2019     2\n",
              "\n",
              "[232 rows x 12 columns]"
            ]
          },
          "metadata": {
            "tags": []
          },
          "execution_count": 18
        }
      ]
    },
    {
      "cell_type": "code",
      "metadata": {
        "colab": {
          "base_uri": "https://localhost:8080/",
          "height": 609
        },
        "id": "m17CW1VkZil2",
        "outputId": "324713d2-3c3d-4674-f378-d4d3952ac89b"
      },
      "source": [
        "large = mod[(mod['user_attr'] == 'Large') & (mod['model_attr'] == 'Small')]\n",
        "large[(large['user_attr'] == 'Large') & (large['model_attr'] == 'Small') & ((large['fit'] == 'Very small') | (large['fit'] == 'Slightly small'))]"
      ],
      "execution_count": 19,
      "outputs": [
        {
          "output_type": "execute_result",
          "data": {
            "text/html": [
              "<div>\n",
              "<style scoped>\n",
              "    .dataframe tbody tr th:only-of-type {\n",
              "        vertical-align: middle;\n",
              "    }\n",
              "\n",
              "    .dataframe tbody tr th {\n",
              "        vertical-align: top;\n",
              "    }\n",
              "\n",
              "    .dataframe thead th {\n",
              "        text-align: right;\n",
              "    }\n",
              "</style>\n",
              "<table border=\"1\" class=\"dataframe\">\n",
              "  <thead>\n",
              "    <tr style=\"text-align: right;\">\n",
              "      <th></th>\n",
              "      <th>item_id</th>\n",
              "      <th>user_id</th>\n",
              "      <th>rating</th>\n",
              "      <th>timestamp</th>\n",
              "      <th>size</th>\n",
              "      <th>fit</th>\n",
              "      <th>user_attr</th>\n",
              "      <th>model_attr</th>\n",
              "      <th>category</th>\n",
              "      <th>brand</th>\n",
              "      <th>year</th>\n",
              "      <th>split</th>\n",
              "    </tr>\n",
              "  </thead>\n",
              "  <tbody>\n",
              "    <tr>\n",
              "      <th>310</th>\n",
              "      <td>16411</td>\n",
              "      <td>Sandrine</td>\n",
              "      <td>3</td>\n",
              "      <td>2011-02-09 08:00:00+00:00</td>\n",
              "      <td>6.0</td>\n",
              "      <td>Very small</td>\n",
              "      <td>Large</td>\n",
              "      <td>Small</td>\n",
              "      <td>Dresses</td>\n",
              "      <td>NaN</td>\n",
              "      <td>2011</td>\n",
              "      <td>0</td>\n",
              "    </tr>\n",
              "    <tr>\n",
              "      <th>344</th>\n",
              "      <td>7443</td>\n",
              "      <td>rachael.margarita</td>\n",
              "      <td>1</td>\n",
              "      <td>2011-02-24 08:00:00+00:00</td>\n",
              "      <td>7.0</td>\n",
              "      <td>Very small</td>\n",
              "      <td>Large</td>\n",
              "      <td>Small</td>\n",
              "      <td>Dresses</td>\n",
              "      <td>NaN</td>\n",
              "      <td>2012</td>\n",
              "      <td>0</td>\n",
              "    </tr>\n",
              "    <tr>\n",
              "      <th>439</th>\n",
              "      <td>16411</td>\n",
              "      <td>smaksimo</td>\n",
              "      <td>3</td>\n",
              "      <td>2011-06-08 07:00:00+00:00</td>\n",
              "      <td>7.0</td>\n",
              "      <td>Slightly small</td>\n",
              "      <td>Large</td>\n",
              "      <td>Small</td>\n",
              "      <td>Dresses</td>\n",
              "      <td>NaN</td>\n",
              "      <td>2011</td>\n",
              "      <td>0</td>\n",
              "    </tr>\n",
              "    <tr>\n",
              "      <th>451</th>\n",
              "      <td>21296</td>\n",
              "      <td>Symantha</td>\n",
              "      <td>4</td>\n",
              "      <td>2011-06-12 07:00:00+00:00</td>\n",
              "      <td>3.0</td>\n",
              "      <td>Slightly small</td>\n",
              "      <td>Large</td>\n",
              "      <td>Small</td>\n",
              "      <td>Bottoms</td>\n",
              "      <td>ModCloth</td>\n",
              "      <td>2013</td>\n",
              "      <td>0</td>\n",
              "    </tr>\n",
              "    <tr>\n",
              "      <th>469</th>\n",
              "      <td>16411</td>\n",
              "      <td>kathy.aaron</td>\n",
              "      <td>4</td>\n",
              "      <td>2011-06-16 07:00:00+00:00</td>\n",
              "      <td>7.0</td>\n",
              "      <td>Slightly small</td>\n",
              "      <td>Large</td>\n",
              "      <td>Small</td>\n",
              "      <td>Dresses</td>\n",
              "      <td>NaN</td>\n",
              "      <td>2011</td>\n",
              "      <td>0</td>\n",
              "    </tr>\n",
              "    <tr>\n",
              "      <th>...</th>\n",
              "      <td>...</td>\n",
              "      <td>...</td>\n",
              "      <td>...</td>\n",
              "      <td>...</td>\n",
              "      <td>...</td>\n",
              "      <td>...</td>\n",
              "      <td>...</td>\n",
              "      <td>...</td>\n",
              "      <td>...</td>\n",
              "      <td>...</td>\n",
              "      <td>...</td>\n",
              "      <td>...</td>\n",
              "    </tr>\n",
              "    <tr>\n",
              "      <th>96212</th>\n",
              "      <td>148234</td>\n",
              "      <td>funkychunkyfashion</td>\n",
              "      <td>4</td>\n",
              "      <td>2018-11-30 18:26:57.515000+00:00</td>\n",
              "      <td>5.0</td>\n",
              "      <td>Slightly small</td>\n",
              "      <td>Large</td>\n",
              "      <td>Small</td>\n",
              "      <td>Outerwear</td>\n",
              "      <td>ModCloth</td>\n",
              "      <td>2018</td>\n",
              "      <td>0</td>\n",
              "    </tr>\n",
              "    <tr>\n",
              "      <th>97833</th>\n",
              "      <td>150694</td>\n",
              "      <td>Linnae</td>\n",
              "      <td>4</td>\n",
              "      <td>2019-01-30 23:59:53.948000+00:00</td>\n",
              "      <td>6.0</td>\n",
              "      <td>Slightly small</td>\n",
              "      <td>Large</td>\n",
              "      <td>Small</td>\n",
              "      <td>Dresses</td>\n",
              "      <td>ModCloth</td>\n",
              "      <td>2019</td>\n",
              "      <td>0</td>\n",
              "    </tr>\n",
              "    <tr>\n",
              "      <th>98183</th>\n",
              "      <td>142524</td>\n",
              "      <td>hunter</td>\n",
              "      <td>2</td>\n",
              "      <td>2019-02-09 23:34:34.661000+00:00</td>\n",
              "      <td>6.0</td>\n",
              "      <td>Very small</td>\n",
              "      <td>Large</td>\n",
              "      <td>Small</td>\n",
              "      <td>Tops</td>\n",
              "      <td>NaN</td>\n",
              "      <td>2019</td>\n",
              "      <td>0</td>\n",
              "    </tr>\n",
              "    <tr>\n",
              "      <th>98186</th>\n",
              "      <td>143348</td>\n",
              "      <td>hunter</td>\n",
              "      <td>3</td>\n",
              "      <td>2019-02-10 00:01:31.563000+00:00</td>\n",
              "      <td>6.0</td>\n",
              "      <td>Slightly small</td>\n",
              "      <td>Large</td>\n",
              "      <td>Small</td>\n",
              "      <td>Tops</td>\n",
              "      <td>NaN</td>\n",
              "      <td>2018</td>\n",
              "      <td>2</td>\n",
              "    </tr>\n",
              "    <tr>\n",
              "      <th>98270</th>\n",
              "      <td>153606</td>\n",
              "      <td>music</td>\n",
              "      <td>1</td>\n",
              "      <td>2019-02-13 18:55:13.924000+00:00</td>\n",
              "      <td>5.0</td>\n",
              "      <td>Slightly small</td>\n",
              "      <td>Large</td>\n",
              "      <td>Small</td>\n",
              "      <td>Tops</td>\n",
              "      <td>NaN</td>\n",
              "      <td>2018</td>\n",
              "      <td>0</td>\n",
              "    </tr>\n",
              "  </tbody>\n",
              "</table>\n",
              "<p>1233 rows × 12 columns</p>\n",
              "</div>"
            ],
            "text/plain": [
              "       item_id             user_id  rating  ...     brand  year split\n",
              "310      16411            Sandrine       3  ...       NaN  2011     0\n",
              "344       7443   rachael.margarita       1  ...       NaN  2012     0\n",
              "439      16411            smaksimo       3  ...       NaN  2011     0\n",
              "451      21296            Symantha       4  ...  ModCloth  2013     0\n",
              "469      16411         kathy.aaron       4  ...       NaN  2011     0\n",
              "...        ...                 ...     ...  ...       ...   ...   ...\n",
              "96212   148234  funkychunkyfashion       4  ...  ModCloth  2018     0\n",
              "97833   150694              Linnae       4  ...  ModCloth  2019     0\n",
              "98183   142524              hunter       2  ...       NaN  2019     0\n",
              "98186   143348              hunter       3  ...       NaN  2018     2\n",
              "98270   153606               music       1  ...       NaN  2018     0\n",
              "\n",
              "[1233 rows x 12 columns]"
            ]
          },
          "metadata": {
            "tags": []
          },
          "execution_count": 19
        }
      ]
    },
    {
      "cell_type": "code",
      "metadata": {
        "colab": {
          "base_uri": "https://localhost:8080/"
        },
        "id": "htM2Fy8cZil3",
        "outputId": "5a2ffa9e-c81a-4e0a-8f0e-bc6d715fc0ac"
      },
      "source": [
        "large.shape"
      ],
      "execution_count": 20,
      "outputs": [
        {
          "output_type": "execute_result",
          "data": {
            "text/plain": [
              "(6246, 12)"
            ]
          },
          "metadata": {
            "tags": []
          },
          "execution_count": 20
        }
      ]
    },
    {
      "cell_type": "markdown",
      "metadata": {
        "id": "BwQ5H_Hv_VNy"
      },
      "source": [
        "The model pictures used to demonstrate the clothes may cause misunderstanding to customers. People tend to buy smaller sizes when they are browsing cloths with small size model pictures. In contrast, people are more likely to buy larger sizes when they are given both the small and large size model pictures. For instance, for customers who wear size 8, almost 40% of the 'Very small' fit feedback provided with a small size model attribution picture. Similarly, for customers who wear size 7, almost 70% of the 'Very small' fit feedback provided with a small size model attribution picture. For customers who wear size 1, almost 55% of the 'Very large' fit feedback provided with both Small&Large model attribution pictures. \n",
        "\n",
        "After subsetting for only large users who are shown small sized models, we notice that 19.7% of large users have provided feedback that the sizing of the clothes is either very small or slightly small."
      ]
    },
    {
      "cell_type": "code",
      "metadata": {
        "colab": {
          "base_uri": "https://localhost:8080/",
          "height": 204
        },
        "id": "Y1QIjj0O7BEG",
        "outputId": "e48dd856-420f-4125-bd26-83b00a464392"
      },
      "source": [
        "# a new dataframe has been created to only filter for features that will be used in EDA\n",
        "df = mod[['item_id', 'user_id', 'size', 'user_attr', 'model_attr', 'category', 'fit']]\n",
        "df.head(5)"
      ],
      "execution_count": 21,
      "outputs": [
        {
          "output_type": "execute_result",
          "data": {
            "text/html": [
              "<div>\n",
              "<style scoped>\n",
              "    .dataframe tbody tr th:only-of-type {\n",
              "        vertical-align: middle;\n",
              "    }\n",
              "\n",
              "    .dataframe tbody tr th {\n",
              "        vertical-align: top;\n",
              "    }\n",
              "\n",
              "    .dataframe thead th {\n",
              "        text-align: right;\n",
              "    }\n",
              "</style>\n",
              "<table border=\"1\" class=\"dataframe\">\n",
              "  <thead>\n",
              "    <tr style=\"text-align: right;\">\n",
              "      <th></th>\n",
              "      <th>item_id</th>\n",
              "      <th>user_id</th>\n",
              "      <th>size</th>\n",
              "      <th>user_attr</th>\n",
              "      <th>model_attr</th>\n",
              "      <th>category</th>\n",
              "      <th>fit</th>\n",
              "    </tr>\n",
              "  </thead>\n",
              "  <tbody>\n",
              "    <tr>\n",
              "      <th>119</th>\n",
              "      <td>7443</td>\n",
              "      <td>Mona</td>\n",
              "      <td>1.0</td>\n",
              "      <td>Small</td>\n",
              "      <td>Small</td>\n",
              "      <td>Dresses</td>\n",
              "      <td>Just right</td>\n",
              "    </tr>\n",
              "    <tr>\n",
              "      <th>121</th>\n",
              "      <td>11960</td>\n",
              "      <td>Devon</td>\n",
              "      <td>2.0</td>\n",
              "      <td>Small</td>\n",
              "      <td>Small&amp;Large</td>\n",
              "      <td>Outerwear</td>\n",
              "      <td>Just right</td>\n",
              "    </tr>\n",
              "    <tr>\n",
              "      <th>123</th>\n",
              "      <td>11960</td>\n",
              "      <td>Cara</td>\n",
              "      <td>2.0</td>\n",
              "      <td>Small</td>\n",
              "      <td>Small&amp;Large</td>\n",
              "      <td>Outerwear</td>\n",
              "      <td>Just right</td>\n",
              "    </tr>\n",
              "    <tr>\n",
              "      <th>125</th>\n",
              "      <td>11960</td>\n",
              "      <td>Hanaa</td>\n",
              "      <td>3.0</td>\n",
              "      <td>Small</td>\n",
              "      <td>Small&amp;Large</td>\n",
              "      <td>Outerwear</td>\n",
              "      <td>Just right</td>\n",
              "    </tr>\n",
              "    <tr>\n",
              "      <th>129</th>\n",
              "      <td>16411</td>\n",
              "      <td>Cecilia</td>\n",
              "      <td>3.0</td>\n",
              "      <td>Small</td>\n",
              "      <td>Small</td>\n",
              "      <td>Dresses</td>\n",
              "      <td>Slightly large</td>\n",
              "    </tr>\n",
              "  </tbody>\n",
              "</table>\n",
              "</div>"
            ],
            "text/plain": [
              "     item_id  user_id  size user_attr   model_attr   category             fit\n",
              "119     7443     Mona   1.0     Small        Small    Dresses      Just right\n",
              "121    11960    Devon   2.0     Small  Small&Large  Outerwear      Just right\n",
              "123    11960     Cara   2.0     Small  Small&Large  Outerwear      Just right\n",
              "125    11960    Hanaa   3.0     Small  Small&Large  Outerwear      Just right\n",
              "129    16411  Cecilia   3.0     Small        Small    Dresses  Slightly large"
            ]
          },
          "metadata": {
            "tags": []
          },
          "execution_count": 21
        }
      ]
    },
    {
      "cell_type": "code",
      "metadata": {
        "colab": {
          "base_uri": "https://localhost:8080/"
        },
        "id": "9Q8wSrIx7BEH",
        "outputId": "306eabd2-eaa8-4d95-e588-a9d561e14363"
      },
      "source": [
        "df.shape"
      ],
      "execution_count": 22,
      "outputs": [
        {
          "output_type": "execute_result",
          "data": {
            "text/plain": [
              "(78132, 7)"
            ]
          },
          "metadata": {
            "tags": []
          },
          "execution_count": 22
        }
      ]
    },
    {
      "cell_type": "code",
      "metadata": {
        "colab": {
          "base_uri": "https://localhost:8080/"
        },
        "id": "p7itK4xP7BEH",
        "outputId": "7db5aedd-c81d-465a-a199-97a11ae9e22d"
      },
      "source": [
        "df.isnull().sum()"
      ],
      "execution_count": 23,
      "outputs": [
        {
          "output_type": "execute_result",
          "data": {
            "text/plain": [
              "item_id          0\n",
              "user_id          0\n",
              "size             0\n",
              "user_attr        0\n",
              "model_attr       0\n",
              "category         0\n",
              "fit           7213\n",
              "dtype: int64"
            ]
          },
          "metadata": {
            "tags": []
          },
          "execution_count": 23
        }
      ]
    },
    {
      "cell_type": "code",
      "metadata": {
        "colab": {
          "base_uri": "https://localhost:8080/"
        },
        "id": "l7NFr9sxbV94",
        "outputId": "dcbed7f6-e9ba-4599-a2b1-a6704aadb8fe"
      },
      "source": [
        "df.groupby('user_attr').size()"
      ],
      "execution_count": 24,
      "outputs": [
        {
          "output_type": "execute_result",
          "data": {
            "text/plain": [
              "user_attr\n",
              "Large    16686\n",
              "Small    61446\n",
              "dtype: int64"
            ]
          },
          "metadata": {
            "tags": []
          },
          "execution_count": 24
        }
      ]
    },
    {
      "cell_type": "code",
      "metadata": {
        "colab": {
          "base_uri": "https://localhost:8080/",
          "height": 508
        },
        "id": "6bVKiQ3n7BEI",
        "outputId": "70e4cde4-d6b9-4725-802b-ccc72d081c08"
      },
      "source": [
        "x, y, hue = \"user_attr\", \"prop\", \"model_attr\"\n",
        "plt.style.use('fivethirtyeight')\n",
        "f, axes = plt.subplots(1, 2)\n",
        "sns.countplot(x=x, hue=hue, data=df, ax=axes[0], palette=[\"#fb5607\", \"#3a86ff\"])\n",
        "f.set_size_inches(20, 10)\n",
        "prop_df = (df[hue]\n",
        "           .groupby(df[x])\n",
        "           .value_counts(normalize=True)\n",
        "           .rename(y)\n",
        "           .reset_index())\n",
        "\n",
        "sns.barplot(x=x, y=y, hue=hue, data=prop_df, ax=axes[1], palette=[\"#3a86ff\", \"#fb5607\"])"
      ],
      "execution_count": 32,
      "outputs": [
        {
          "output_type": "execute_result",
          "data": {
            "text/plain": [
              "<matplotlib.axes._subplots.AxesSubplot at 0x7efe76013290>"
            ]
          },
          "metadata": {
            "tags": []
          },
          "execution_count": 32
        },
        {
          "output_type": "display_data",
          "data": {
            "image/png": "[encoded data removed]",
            "text/plain": [
              "<Figure size 1440x720 with 2 Axes>"
            ]
          },
          "metadata": {
            "tags": []
          }
        }
      ]
    },
    {
      "cell_type": "markdown",
      "metadata": {
        "id": "dQry-uXz7BEJ"
      },
      "source": [
        "- The table (crosstab) and bar charts above display the type of models shown to small and large sized users.\n",
        "- In the second chart (bar graph with proportions), we notice that a higher proportion of large sized users are displayed 'small & large' sized models, while a higher proportion of small sized users are displayed 'small' sized models. This aligns with the findings from the paper as well.\n",
        "- Around the 35% of large sized users are also shown small sized models. This might result in purchase of smaller sized clothing by large sized users. As displayed above while cleaning data, we observed that 19.7% of large users have provided feedback that the sizing of the clothes is either very small or slightly small, which means that displaying small sized models to large sized users could have influenced their purchasing decisions. "
      ]
    },
    {
      "cell_type": "code",
      "metadata": {
        "id": "q0TX5Sao7BEJ"
      },
      "source": [
        "# mod1=df.groupby(['user_attr','fit_of_user']).size()\n",
        "# type(mod1)\n",
        "# cross=mod1.to_frame()\n",
        "# cross"
      ],
      "execution_count": 26,
      "outputs": []
    },
    {
      "cell_type": "code",
      "metadata": {
        "id": "t1lywJGI7BEJ",
        "colab": {
          "base_uri": "https://localhost:8080/",
          "height": 438
        },
        "outputId": "0d035f25-b6bc-46ab-8016-4cf1ca7e13ca"
      },
      "source": [
        "plt.style.use('fivethirtyeight')\n",
        "plt.figure(figsize=(10,6))\n",
        "sns.boxplot(y=\"size\",x ='user_attr' ,data = df)\n",
        "plt.title(\"Distribution of User Attribute by Size\")\n",
        "plt.xlabel('User Attribute',fontsize=15)\n",
        "plt.ylabel(\"Size\",fontsize=15)\n",
        "plt.show()"
      ],
      "execution_count": 27,
      "outputs": [
        {
          "output_type": "display_data",
          "data": {
            "image/png": "[encoded data removed]",
            "text/plain": [
              "<Figure size 720x432 with 1 Axes>"
            ]
          },
          "metadata": {
            "tags": []
          }
        }
      ]
    },
    {
      "cell_type": "markdown",
      "metadata": {
        "id": "G4sz5cAQ7BEJ"
      },
      "source": [
        "The boxplot displays some outliers which indicates that users who on average purchase small sized clothing sometimes purchase clothing of larger sizes as well."
      ]
    },
    {
      "cell_type": "code",
      "metadata": {
        "colab": {
          "base_uri": "https://localhost:8080/",
          "height": 508
        },
        "id": "Y7Ou7f0qMj6K",
        "outputId": "78514eca-d5b6-4ca9-88ba-ee7e8ae82b72"
      },
      "source": [
        "x, y, hue = \"category\", \"prop\", \"user_attr\"\n",
        "\n",
        "f, axes = plt.subplots(1, 2)\n",
        "sns.countplot(x=x, hue=hue, data=df, ax=axes[0], palette=[\"#fb5607\", \"#3a86ff\"])\n",
        "f.set_size_inches(20, 10)\n",
        "prop_df = (df[x]\n",
        "           .groupby(df[hue])\n",
        "           .value_counts(normalize=True)\n",
        "           .rename(y)\n",
        "           .reset_index())\n",
        "\n",
        "sns.barplot(x=x, y=y, hue=hue, data=prop_df, ax=axes[1], palette=[\"#3a86ff\", \"#fb5607\"])"
      ],
      "execution_count": 28,
      "outputs": [
        {
          "output_type": "execute_result",
          "data": {
            "text/plain": [
              "<matplotlib.axes._subplots.AxesSubplot at 0x7efe76454110>"
            ]
          },
          "metadata": {
            "tags": []
          },
          "execution_count": 28
        },
        {
          "output_type": "display_data",
          "data": {
            "image/png": "[encoded data removed]",
            "text/plain": [
              "<Figure size 1440x720 with 2 Axes>"
            ]
          },
          "metadata": {
            "tags": []
          }
        }
      ]
    },
    {
      "cell_type": "markdown",
      "metadata": {
        "id": "DqUm7c6PQo8h"
      },
      "source": [
        "- Small size users have higher preference in buying tops and dresses, but a larger proportion of large sized users (approximately 40% of large sized users) buy tops. \n",
        "- Both small and large sized users have lower preference of buying outerwear. \n",
        "- A slightly larger proportion of smaller sized users have bought bottoms. "
      ]
    },
    {
      "cell_type": "code",
      "metadata": {
        "colab": {
          "base_uri": "https://localhost:8080/",
          "height": 559
        },
        "id": "UiMRBmSzZ7OP",
        "outputId": "5e42abb7-587a-4d80-ff67-b9f54ebcfe10"
      },
      "source": [
        "x, y, hue = \"category\", \"prop\", \"model_attr\"\n",
        "\n",
        "f, axes = plt.subplots(1, 2)\n",
        "sns.countplot(x=x, hue=hue, data=df, ax=axes[0], palette=[\"#fb5607\", \"#3a86ff\"])\n",
        "f.set_size_inches(20, 10)\n",
        "prop_df = (df[x]\n",
        "           .groupby(df[hue])\n",
        "           .value_counts(normalize=True)\n",
        "           .rename(y)\n",
        "           .reset_index())\n",
        "\n",
        "sns.barplot(x=x, y=y, hue=hue, data=prop_df, ax=axes[1], palette=[\"#3a86ff\", \"#fb5607\"])\n",
        "axes[1].set_xticklabels(['Tops','Dresses','Bottoms','Outerwear'])"
      ],
      "execution_count": 29,
      "outputs": [
        {
          "output_type": "execute_result",
          "data": {
            "text/plain": [
              "[Text(0, 0, 'Tops'),\n",
              " Text(0, 0, 'Dresses'),\n",
              " Text(0, 0, 'Bottoms'),\n",
              " Text(0, 0, 'Outerwear')]"
            ]
          },
          "metadata": {
            "tags": []
          },
          "execution_count": 29
        },
        {
          "output_type": "display_data",
          "data": {
            "image/png": "[encoded data removed]",
            "text/plain": [
              "<Figure size 1440x720 with 2 Axes>"
            ]
          },
          "metadata": {
            "tags": []
          }
        }
      ]
    },
    {
      "cell_type": "markdown",
      "metadata": {
        "id": "fw3t01licwPI"
      },
      "source": [
        "Almost 74% of the Small&Large size model images display within the tops and dresses categories, which explains why large sized users prefer to buy tops and dresses over the bottoms and outerwear. "
      ]
    },
    {
      "cell_type": "code",
      "metadata": {
        "colab": {
          "base_uri": "https://localhost:8080/",
          "height": 559
        },
        "id": "jpWoYcB7QGW9",
        "outputId": "b38b5bab-3427-4d89-fa77-2d6ae5498401"
      },
      "source": [
        "x, y, hue = \"category\", \"prop\", \"user_attr\"\n",
        "\n",
        "f, axes = plt.subplots(1, 2)\n",
        "sns.countplot(x=x, hue=hue, data=df, ax=axes[0], palette=[\"#fb5607\", \"#3a86ff\"])\n",
        "f.set_size_inches(20, 10)\n",
        "prop_df = (df[hue]\n",
        "           .groupby(df[x])\n",
        "           .value_counts(normalize=True)\n",
        "           .rename(y)\n",
        "           .reset_index())\n",
        "\n",
        "sns.barplot(x=x, y=y, hue=hue, data=prop_df, ax=axes[1], palette=[\"#fb5607\", \"#3a86ff\"])\n",
        "axes[1].set_xticklabels(['Tops','Dresses','Bottoms','Outerwear'])"
      ],
      "execution_count": 30,
      "outputs": [
        {
          "output_type": "execute_result",
          "data": {
            "text/plain": [
              "[Text(0, 0, 'Tops'),\n",
              " Text(0, 0, 'Dresses'),\n",
              " Text(0, 0, 'Bottoms'),\n",
              " Text(0, 0, 'Outerwear')]"
            ]
          },
          "metadata": {
            "tags": []
          },
          "execution_count": 30
        },
        {
          "output_type": "display_data",
          "data": {
            "image/png": "[encoded data removed]",
            "text/plain": [
              "<Figure size 1440x720 with 2 Axes>"
            ]
          },
          "metadata": {
            "tags": []
          }
        }
      ]
    },
    {
      "cell_type": "markdown",
      "metadata": {
        "id": "seHuFg7YQvnp"
      },
      "source": [
        "All cloth categories are overwhelmingly dominated by small size people. Almost 80% of the buyers are small size customers across all categories. The website should include more large size model pictures to attract more potential large size customers. "
      ]
    },
    {
      "cell_type": "code",
      "metadata": {
        "colab": {
          "base_uri": "https://localhost:8080/",
          "height": 508
        },
        "id": "fPOjLYyup_Ys",
        "outputId": "2fb8c12b-3a59-481c-ec41-e813b3717259"
      },
      "source": [
        "x, y, hue = \"size\", \"prop\", \"user_attr\"\n",
        "\n",
        "f, axes = plt.subplots(1, 2)\n",
        "sns.countplot(x=x, hue=hue, data=df, ax=axes[0])\n",
        "f.set_size_inches(20, 10)\n",
        "prop_df = (df[x]\n",
        "           .groupby(df[hue])\n",
        "           .value_counts(normalize=True)\n",
        "           .rename(y)\n",
        "           .reset_index())\n",
        "\n",
        "sns.barplot(x=x, y=y, hue=hue, data=prop_df, ax=axes[1])"
      ],
      "execution_count": 31,
      "outputs": [
        {
          "output_type": "execute_result",
          "data": {
            "text/plain": [
              "<matplotlib.axes._subplots.AxesSubplot at 0x7efe761fe8d0>"
            ]
          },
          "metadata": {
            "tags": []
          },
          "execution_count": 31
        },
        {
          "output_type": "display_data",
          "data": {
            "image/png": "[encoded data removed]",
            "text/plain": [
              "<Figure size 1440x720 with 2 Axes>"
            ]
          },
          "metadata": {
            "tags": []
          }
        }
      ]
    },
    {
      "cell_type": "markdown",
      "metadata": {
        "id": "7YE6kAkG7BEL"
      },
      "source": [
        "The above visualization displays that:\n",
        "- The size purchased by large sized users mostly ranges between 5-8, but a small proportion of large sized users have also purchased clothes between size 0-4. \n",
        "- Majority of small sized users have purchased clothes between size 1-4. "
      ]
    }
  ]
}