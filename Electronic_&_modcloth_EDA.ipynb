{
  "nbformat": 4,
  "nbformat_minor": 0,
  "metadata": {
    "colab": {
      "name": "Electronic & modcloth_EDA.ipynb",
      "provenance": []
    },
    "kernelspec": {
      "name": "python3",
      "display_name": "Python 3"
    },
    "language_info": {
      "name": "python"
    }
  },
  "cells": [
    {
      "cell_type": "code",
      "metadata": {
        "id": "fxb7OOp7Td-0"
      },
      "source": [
        "import pandas as pd\n",
        "import numpy as np\n",
        "import seaborn as sns\n",
        "import matplotlib.pyplot as plt\n",
        "import missingno as msno\n",
        "from datetime import datetime, date\n",
        "\n",
        "elc=pd.read_csv(\"electronics.csv\")\n",
        "mod=pd.read_csv(\"modcloth.csv\")"
      ],
      "execution_count": 51,
      "outputs": []
    },
    {
      "cell_type": "code",
      "metadata": {
        "id": "EtEP5y3ZmTMA",
        "outputId": "7f47e5ce-136b-432f-81bd-95a4f981bb3d",
        "colab": {
          "base_uri": "https://localhost:8080/"
        }
      },
      "source": [
        "# EDA for Electronic CSV\n",
        "\n",
        "# We have 213615 rows and 10 columns\n",
        "elc.shape "
      ],
      "execution_count": 52,
      "outputs": [
        {
          "output_type": "execute_result",
          "data": {
            "text/plain": [
              "(213615, 10)"
            ]
          },
          "metadata": {
            "tags": []
          },
          "execution_count": 52
        }
      ]
    },
    {
      "cell_type": "code",
      "metadata": {
        "id": "kUK1hMifmqmC",
        "outputId": "90f3ef98-cb00-427e-8d7e-7c6fa36b0a92",
        "colab": {
          "base_uri": "https://localhost:8080/",
          "height": 204
        }
      },
      "source": [
        "elc.head()"
      ],
      "execution_count": 53,
      "outputs": [
        {
          "output_type": "execute_result",
          "data": {
            "text/html": [
              "<div>\n",
              "<style scoped>\n",
              "    .dataframe tbody tr th:only-of-type {\n",
              "        vertical-align: middle;\n",
              "    }\n",
              "\n",
              "    .dataframe tbody tr th {\n",
              "        vertical-align: top;\n",
              "    }\n",
              "\n",
              "    .dataframe thead th {\n",
              "        text-align: right;\n",
              "    }\n",
              "</style>\n",
              "<table border=\"1\" class=\"dataframe\">\n",
              "  <thead>\n",
              "    <tr style=\"text-align: right;\">\n",
              "      <th></th>\n",
              "      <th>item_id</th>\n",
              "      <th>user_id</th>\n",
              "      <th>rating</th>\n",
              "      <th>timestamp</th>\n",
              "      <th>model_attr</th>\n",
              "      <th>category</th>\n",
              "      <th>brand</th>\n",
              "      <th>year</th>\n",
              "      <th>user_attr</th>\n",
              "      <th>split</th>\n",
              "    </tr>\n",
              "  </thead>\n",
              "  <tbody>\n",
              "    <tr>\n",
              "      <th>0</th>\n",
              "      <td>0</td>\n",
              "      <td>0</td>\n",
              "      <td>5.0</td>\n",
              "      <td>1999-06-13</td>\n",
              "      <td>Female</td>\n",
              "      <td>Portable Audio &amp; Video</td>\n",
              "      <td>NaN</td>\n",
              "      <td>1999.0</td>\n",
              "      <td>NaN</td>\n",
              "      <td>0.0</td>\n",
              "    </tr>\n",
              "    <tr>\n",
              "      <th>1</th>\n",
              "      <td>0</td>\n",
              "      <td>1</td>\n",
              "      <td>5.0</td>\n",
              "      <td>1999-06-14</td>\n",
              "      <td>Female</td>\n",
              "      <td>Portable Audio &amp; Video</td>\n",
              "      <td>NaN</td>\n",
              "      <td>1999.0</td>\n",
              "      <td>NaN</td>\n",
              "      <td>0.0</td>\n",
              "    </tr>\n",
              "    <tr>\n",
              "      <th>2</th>\n",
              "      <td>0</td>\n",
              "      <td>2</td>\n",
              "      <td>3.0</td>\n",
              "      <td>1999-06-17</td>\n",
              "      <td>Female</td>\n",
              "      <td>Portable Audio &amp; Video</td>\n",
              "      <td>NaN</td>\n",
              "      <td>1999.0</td>\n",
              "      <td>NaN</td>\n",
              "      <td>0.0</td>\n",
              "    </tr>\n",
              "    <tr>\n",
              "      <th>3</th>\n",
              "      <td>0</td>\n",
              "      <td>3</td>\n",
              "      <td>1.0</td>\n",
              "      <td>1999-07-01</td>\n",
              "      <td>Female</td>\n",
              "      <td>Portable Audio &amp; Video</td>\n",
              "      <td>NaN</td>\n",
              "      <td>1999.0</td>\n",
              "      <td>NaN</td>\n",
              "      <td>0.0</td>\n",
              "    </tr>\n",
              "    <tr>\n",
              "      <th>4</th>\n",
              "      <td>0</td>\n",
              "      <td>4</td>\n",
              "      <td>2.0</td>\n",
              "      <td>1999-07-06</td>\n",
              "      <td>Female</td>\n",
              "      <td>Portable Audio &amp; Video</td>\n",
              "      <td>NaN</td>\n",
              "      <td>1999.0</td>\n",
              "      <td>NaN</td>\n",
              "      <td>0.0</td>\n",
              "    </tr>\n",
              "  </tbody>\n",
              "</table>\n",
              "</div>"
            ],
            "text/plain": [
              "   item_id  user_id  rating   timestamp  ... brand    year user_attr  split\n",
              "0        0        0     5.0  1999-06-13  ...   NaN  1999.0       NaN    0.0\n",
              "1        0        1     5.0  1999-06-14  ...   NaN  1999.0       NaN    0.0\n",
              "2        0        2     3.0  1999-06-17  ...   NaN  1999.0       NaN    0.0\n",
              "3        0        3     1.0  1999-07-01  ...   NaN  1999.0       NaN    0.0\n",
              "4        0        4     2.0  1999-07-06  ...   NaN  1999.0       NaN    0.0\n",
              "\n",
              "[5 rows x 10 columns]"
            ]
          },
          "metadata": {
            "tags": []
          },
          "execution_count": 53
        }
      ]
    },
    {
      "cell_type": "code",
      "metadata": {
        "id": "olash-Gxmv2G",
        "outputId": "9bb348ff-0bd3-473c-db0c-efc2c09bce70",
        "colab": {
          "base_uri": "https://localhost:8080/"
        }
      },
      "source": [
        "elc.info()\n",
        "# We do not have missing value for category and model_attr column"
      ],
      "execution_count": 54,
      "outputs": [
        {
          "output_type": "stream",
          "text": [
            "<class 'pandas.core.frame.DataFrame'>\n",
            "RangeIndex: 213615 entries, 0 to 213614\n",
            "Data columns (total 10 columns):\n",
            " #   Column      Non-Null Count   Dtype  \n",
            "---  ------      --------------   -----  \n",
            " 0   item_id     213615 non-null  int64  \n",
            " 1   user_id     213615 non-null  int64  \n",
            " 2   rating      213615 non-null  float64\n",
            " 3   timestamp   213615 non-null  object \n",
            " 4   model_attr  213615 non-null  object \n",
            " 5   category    213615 non-null  object \n",
            " 6   brand       78704 non-null   object \n",
            " 7   year        213614 non-null  float64\n",
            " 8   user_attr   23923 non-null   object \n",
            " 9   split       213614 non-null  float64\n",
            "dtypes: float64(3), int64(2), object(5)\n",
            "memory usage: 16.3+ MB\n"
          ],
          "name": "stdout"
        }
      ]
    },
    {
      "cell_type": "code",
      "metadata": {
        "id": "tJUb76nPm1IW"
      },
      "source": [
        "#Drop duplicates if any\n",
        "elc.drop_duplicates(inplace=True) "
      ],
      "execution_count": 55,
      "outputs": []
    },
    {
      "cell_type": "code",
      "metadata": {
        "id": "542gvLSXm2za",
        "outputId": "744d4fd7-21d4-40c0-ea91-dcda859fe38e",
        "colab": {
          "base_uri": "https://localhost:8080/"
        }
      },
      "source": [
        "elc.shape"
      ],
      "execution_count": 56,
      "outputs": [
        {
          "output_type": "execute_result",
          "data": {
            "text/plain": [
              "(213615, 10)"
            ]
          },
          "metadata": {
            "tags": []
          },
          "execution_count": 56
        }
      ]
    },
    {
      "cell_type": "code",
      "metadata": {
        "id": "D5dzSlRAnPBI",
        "outputId": "dd881688-8a11-4afb-e516-a8c09b52829b",
        "colab": {
          "base_uri": "https://localhost:8080/"
        }
      },
      "source": [
        "elc.groupby('model_attr').size()\n",
        "# we have three different model attribution"
      ],
      "execution_count": 58,
      "outputs": [
        {
          "output_type": "execute_result",
          "data": {
            "text/plain": [
              "model_attr\n",
              "Female         83591\n",
              "Female&Male    48699\n",
              "Male           81325\n",
              "dtype: int64"
            ]
          },
          "metadata": {
            "tags": []
          },
          "execution_count": 58
        }
      ]
    },
    {
      "cell_type": "code",
      "metadata": {
        "id": "CsefqVGOnmwe",
        "outputId": "0e47c728-93da-4c3b-d1c6-77552acc5117",
        "colab": {
          "base_uri": "https://localhost:8080/",
          "height": 1000
        }
      },
      "source": [
        "elc_ads=elc.groupby(['model_attr','category']).size()\n",
        "type(elc_ads)\n",
        "cross=elc_ads.to_frame()\n",
        "cross\n",
        "# category situation for different model attribution"
      ],
      "execution_count": 75,
      "outputs": [
        {
          "output_type": "execute_result",
          "data": {
            "text/html": [
              "<div>\n",
              "<style scoped>\n",
              "    .dataframe tbody tr th:only-of-type {\n",
              "        vertical-align: middle;\n",
              "    }\n",
              "\n",
              "    .dataframe tbody tr th {\n",
              "        vertical-align: top;\n",
              "    }\n",
              "\n",
              "    .dataframe thead th {\n",
              "        text-align: right;\n",
              "    }\n",
              "</style>\n",
              "<table border=\"1\" class=\"dataframe\">\n",
              "  <thead>\n",
              "    <tr style=\"text-align: right;\">\n",
              "      <th></th>\n",
              "      <th></th>\n",
              "      <th>0</th>\n",
              "    </tr>\n",
              "    <tr>\n",
              "      <th>model_attr</th>\n",
              "      <th>category</th>\n",
              "      <th></th>\n",
              "    </tr>\n",
              "  </thead>\n",
              "  <tbody>\n",
              "    <tr>\n",
              "      <th rowspan=\"10\" valign=\"top\">Female</th>\n",
              "      <th>Accessories &amp; Supplies</th>\n",
              "      <td>15289</td>\n",
              "    </tr>\n",
              "    <tr>\n",
              "      <th>Camera &amp; Photo</th>\n",
              "      <td>24135</td>\n",
              "    </tr>\n",
              "    <tr>\n",
              "      <th>Car Electronics &amp; GPS</th>\n",
              "      <td>1390</td>\n",
              "    </tr>\n",
              "    <tr>\n",
              "      <th>Computers &amp; Accessories</th>\n",
              "      <td>25378</td>\n",
              "    </tr>\n",
              "    <tr>\n",
              "      <th>Headphones</th>\n",
              "      <td>8123</td>\n",
              "    </tr>\n",
              "    <tr>\n",
              "      <th>Home Audio</th>\n",
              "      <td>809</td>\n",
              "    </tr>\n",
              "    <tr>\n",
              "      <th>Portable Audio &amp; Video</th>\n",
              "      <td>6021</td>\n",
              "    </tr>\n",
              "    <tr>\n",
              "      <th>Security &amp; Surveillance</th>\n",
              "      <td>292</td>\n",
              "    </tr>\n",
              "    <tr>\n",
              "      <th>Television &amp; Video</th>\n",
              "      <td>2115</td>\n",
              "    </tr>\n",
              "    <tr>\n",
              "      <th>Wearable Technology</th>\n",
              "      <td>39</td>\n",
              "    </tr>\n",
              "    <tr>\n",
              "      <th rowspan=\"11\" valign=\"top\">Female&amp;Male</th>\n",
              "      <th>Accessories &amp; Supplies</th>\n",
              "      <td>5380</td>\n",
              "    </tr>\n",
              "    <tr>\n",
              "      <th>Camera &amp; Photo</th>\n",
              "      <td>9337</td>\n",
              "    </tr>\n",
              "    <tr>\n",
              "      <th>Car Electronics &amp; GPS</th>\n",
              "      <td>3272</td>\n",
              "    </tr>\n",
              "    <tr>\n",
              "      <th>Computers &amp; Ac</th>\n",
              "      <td>1</td>\n",
              "    </tr>\n",
              "    <tr>\n",
              "      <th>Computers &amp; Accessories</th>\n",
              "      <td>6606</td>\n",
              "    </tr>\n",
              "    <tr>\n",
              "      <th>Headphones</th>\n",
              "      <td>13378</td>\n",
              "    </tr>\n",
              "    <tr>\n",
              "      <th>Home Audio</th>\n",
              "      <td>1153</td>\n",
              "    </tr>\n",
              "    <tr>\n",
              "      <th>Portable Audio &amp; Video</th>\n",
              "      <td>4829</td>\n",
              "    </tr>\n",
              "    <tr>\n",
              "      <th>Security &amp; Surveillance</th>\n",
              "      <td>124</td>\n",
              "    </tr>\n",
              "    <tr>\n",
              "      <th>Television &amp; Video</th>\n",
              "      <td>4577</td>\n",
              "    </tr>\n",
              "    <tr>\n",
              "      <th>Wearable Technology</th>\n",
              "      <td>42</td>\n",
              "    </tr>\n",
              "    <tr>\n",
              "      <th rowspan=\"10\" valign=\"top\">Male</th>\n",
              "      <th>Accessories &amp; Supplies</th>\n",
              "      <td>9355</td>\n",
              "    </tr>\n",
              "    <tr>\n",
              "      <th>Camera &amp; Photo</th>\n",
              "      <td>14002</td>\n",
              "    </tr>\n",
              "    <tr>\n",
              "      <th>Car Electronics &amp; GPS</th>\n",
              "      <td>1725</td>\n",
              "    </tr>\n",
              "    <tr>\n",
              "      <th>Computers &amp; Accessories</th>\n",
              "      <td>24464</td>\n",
              "    </tr>\n",
              "    <tr>\n",
              "      <th>Headphones</th>\n",
              "      <td>24476</td>\n",
              "    </tr>\n",
              "    <tr>\n",
              "      <th>Home Audio</th>\n",
              "      <td>837</td>\n",
              "    </tr>\n",
              "    <tr>\n",
              "      <th>Portable Audio &amp; Video</th>\n",
              "      <td>3794</td>\n",
              "    </tr>\n",
              "    <tr>\n",
              "      <th>Security &amp; Surveillance</th>\n",
              "      <td>294</td>\n",
              "    </tr>\n",
              "    <tr>\n",
              "      <th>Television &amp; Video</th>\n",
              "      <td>2338</td>\n",
              "    </tr>\n",
              "    <tr>\n",
              "      <th>Wearable Technology</th>\n",
              "      <td>40</td>\n",
              "    </tr>\n",
              "  </tbody>\n",
              "</table>\n",
              "</div>"
            ],
            "text/plain": [
              "                                         0\n",
              "model_attr  category                      \n",
              "Female      Accessories & Supplies   15289\n",
              "            Camera & Photo           24135\n",
              "            Car Electronics & GPS     1390\n",
              "            Computers & Accessories  25378\n",
              "            Headphones                8123\n",
              "            Home Audio                 809\n",
              "            Portable Audio & Video    6021\n",
              "            Security & Surveillance    292\n",
              "            Television & Video        2115\n",
              "            Wearable Technology         39\n",
              "Female&Male Accessories & Supplies    5380\n",
              "            Camera & Photo            9337\n",
              "            Car Electronics & GPS     3272\n",
              "            Computers & Ac               1\n",
              "            Computers & Accessories   6606\n",
              "            Headphones               13378\n",
              "            Home Audio                1153\n",
              "            Portable Audio & Video    4829\n",
              "            Security & Surveillance    124\n",
              "            Television & Video        4577\n",
              "            Wearable Technology         42\n",
              "Male        Accessories & Supplies    9355\n",
              "            Camera & Photo           14002\n",
              "            Car Electronics & GPS     1725\n",
              "            Computers & Accessories  24464\n",
              "            Headphones               24476\n",
              "            Home Audio                 837\n",
              "            Portable Audio & Video    3794\n",
              "            Security & Surveillance    294\n",
              "            Television & Video        2338\n",
              "            Wearable Technology         40"
            ]
          },
          "metadata": {
            "tags": []
          },
          "execution_count": 75
        }
      ]
    },
    {
      "cell_type": "code",
      "metadata": {
        "id": "ZAXNuh-anxU-",
        "outputId": "eacf2024-fef6-44f4-a829-f62d97eb2732",
        "colab": {
          "base_uri": "https://localhost:8080/",
          "height": 216
        }
      },
      "source": [
        "x, y, hue = \"category\", \"prop\", \"model_attr\"\n",
        "\n",
        "f, axes = plt.subplots(1, 2)\n",
        "sns.countplot(x=x, hue=hue, data=elc, ax=axes[0])\n",
        "f.set_size_inches(40, 5)\n",
        "prop_df = (elc[x]\n",
        "           .groupby(elc[hue])\n",
        "           .value_counts(normalize=True)\n",
        "           .rename(y)\n",
        "           .reset_index())\n",
        "\n",
        "sns.barplot(x=x, y=y, hue=hue, data=prop_df, ax=axes[1])\n",
        "# There is an apparent difference in camera & photo with headphones that more camera & photo recommendation to female and mroe headphones recommedation to male."
      ],
      "execution_count": 64,
      "outputs": [
        {
          "output_type": "execute_result",
          "data": {
            "text/plain": [
              "<matplotlib.axes._subplots.AxesSubplot at 0x7ff9e291b590>"
            ]
          },
          "metadata": {
            "tags": []
          },
          "execution_count": 64
        },
        {
          "output_type": "display_data",
          "data": {
            "image/png": "[encoded data removed]",
            "text/plain": [
              "<Figure size 2880x360 with 2 Axes>"
            ]
          },
          "metadata": {
            "tags": [],
            "needs_background": "light"
          }
        }
      ]
    },
    {
      "cell_type": "code",
      "metadata": {
        "colab": {
          "base_uri": "https://localhost:8080/"
        },
        "id": "Ht_FO3WnUtU1",
        "outputId": "cf5a83d7-7e00-49f2-98af-df3e2e4afea6"
      },
      "source": [
        "#EDA for modcloth\n",
        "\n",
        "# We have 99893 rows and 12 columns\n",
        "mod.shape "
      ],
      "execution_count": 6,
      "outputs": [
        {
          "output_type": "execute_result",
          "data": {
            "text/plain": [
              "(99893, 12)"
            ]
          },
          "metadata": {
            "tags": []
          },
          "execution_count": 6
        }
      ]
    },
    {
      "cell_type": "code",
      "metadata": {
        "colab": {
          "base_uri": "https://localhost:8080/",
          "height": 204
        },
        "id": "EBasfprmU4Gu",
        "outputId": "ff9adf11-e5b6-4181-803f-8fa3e4ba0410"
      },
      "source": [
        "mod.head()"
      ],
      "execution_count": 8,
      "outputs": [
        {
          "output_type": "execute_result",
          "data": {
            "text/html": [
              "<div>\n",
              "<style scoped>\n",
              "    .dataframe tbody tr th:only-of-type {\n",
              "        vertical-align: middle;\n",
              "    }\n",
              "\n",
              "    .dataframe tbody tr th {\n",
              "        vertical-align: top;\n",
              "    }\n",
              "\n",
              "    .dataframe thead th {\n",
              "        text-align: right;\n",
              "    }\n",
              "</style>\n",
              "<table border=\"1\" class=\"dataframe\">\n",
              "  <thead>\n",
              "    <tr style=\"text-align: right;\">\n",
              "      <th></th>\n",
              "      <th>item_id</th>\n",
              "      <th>user_id</th>\n",
              "      <th>rating</th>\n",
              "      <th>timestamp</th>\n",
              "      <th>size</th>\n",
              "      <th>fit</th>\n",
              "      <th>user_attr</th>\n",
              "      <th>model_attr</th>\n",
              "      <th>category</th>\n",
              "      <th>brand</th>\n",
              "      <th>year</th>\n",
              "      <th>split</th>\n",
              "    </tr>\n",
              "  </thead>\n",
              "  <tbody>\n",
              "    <tr>\n",
              "      <th>0</th>\n",
              "      <td>7443</td>\n",
              "      <td>Alex</td>\n",
              "      <td>4</td>\n",
              "      <td>2010-01-21 08:00:00+00:00</td>\n",
              "      <td>NaN</td>\n",
              "      <td>NaN</td>\n",
              "      <td>Small</td>\n",
              "      <td>Small</td>\n",
              "      <td>Dresses</td>\n",
              "      <td>NaN</td>\n",
              "      <td>2012</td>\n",
              "      <td>0</td>\n",
              "    </tr>\n",
              "    <tr>\n",
              "      <th>1</th>\n",
              "      <td>7443</td>\n",
              "      <td>carolyn.agan</td>\n",
              "      <td>3</td>\n",
              "      <td>2010-01-27 08:00:00+00:00</td>\n",
              "      <td>NaN</td>\n",
              "      <td>NaN</td>\n",
              "      <td>NaN</td>\n",
              "      <td>Small</td>\n",
              "      <td>Dresses</td>\n",
              "      <td>NaN</td>\n",
              "      <td>2012</td>\n",
              "      <td>0</td>\n",
              "    </tr>\n",
              "    <tr>\n",
              "      <th>2</th>\n",
              "      <td>7443</td>\n",
              "      <td>Robyn</td>\n",
              "      <td>4</td>\n",
              "      <td>2010-01-29 08:00:00+00:00</td>\n",
              "      <td>NaN</td>\n",
              "      <td>NaN</td>\n",
              "      <td>Small</td>\n",
              "      <td>Small</td>\n",
              "      <td>Dresses</td>\n",
              "      <td>NaN</td>\n",
              "      <td>2012</td>\n",
              "      <td>0</td>\n",
              "    </tr>\n",
              "    <tr>\n",
              "      <th>3</th>\n",
              "      <td>7443</td>\n",
              "      <td>De</td>\n",
              "      <td>4</td>\n",
              "      <td>2010-02-13 08:00:00+00:00</td>\n",
              "      <td>NaN</td>\n",
              "      <td>NaN</td>\n",
              "      <td>NaN</td>\n",
              "      <td>Small</td>\n",
              "      <td>Dresses</td>\n",
              "      <td>NaN</td>\n",
              "      <td>2012</td>\n",
              "      <td>0</td>\n",
              "    </tr>\n",
              "    <tr>\n",
              "      <th>4</th>\n",
              "      <td>7443</td>\n",
              "      <td>tasha</td>\n",
              "      <td>4</td>\n",
              "      <td>2010-02-18 08:00:00+00:00</td>\n",
              "      <td>NaN</td>\n",
              "      <td>NaN</td>\n",
              "      <td>Small</td>\n",
              "      <td>Small</td>\n",
              "      <td>Dresses</td>\n",
              "      <td>NaN</td>\n",
              "      <td>2012</td>\n",
              "      <td>0</td>\n",
              "    </tr>\n",
              "  </tbody>\n",
              "</table>\n",
              "</div>"
            ],
            "text/plain": [
              "   item_id       user_id  rating  ... brand  year split\n",
              "0     7443          Alex       4  ...   NaN  2012     0\n",
              "1     7443  carolyn.agan       3  ...   NaN  2012     0\n",
              "2     7443         Robyn       4  ...   NaN  2012     0\n",
              "3     7443            De       4  ...   NaN  2012     0\n",
              "4     7443         tasha       4  ...   NaN  2012     0\n",
              "\n",
              "[5 rows x 12 columns]"
            ]
          },
          "metadata": {
            "tags": []
          },
          "execution_count": 8
        }
      ]
    },
    {
      "cell_type": "code",
      "metadata": {
        "colab": {
          "base_uri": "https://localhost:8080/"
        },
        "id": "v8Y0qJ_0U9tS",
        "outputId": "895b0187-b101-473d-d0b0-a8047846bf9e"
      },
      "source": [
        "mod.info()\n",
        "# There is missing value for user_attr column"
      ],
      "execution_count": 9,
      "outputs": [
        {
          "output_type": "stream",
          "text": [
            "<class 'pandas.core.frame.DataFrame'>\n",
            "RangeIndex: 99893 entries, 0 to 99892\n",
            "Data columns (total 12 columns):\n",
            " #   Column      Non-Null Count  Dtype  \n",
            "---  ------      --------------  -----  \n",
            " 0   item_id     99893 non-null  int64  \n",
            " 1   user_id     99892 non-null  object \n",
            " 2   rating      99893 non-null  int64  \n",
            " 3   timestamp   99893 non-null  object \n",
            " 4   size        78133 non-null  float64\n",
            " 5   fit         81387 non-null  object \n",
            " 6   user_attr   91526 non-null  object \n",
            " 7   model_attr  99893 non-null  object \n",
            " 8   category    99893 non-null  object \n",
            " 9   brand       25913 non-null  object \n",
            " 10  year        99893 non-null  int64  \n",
            " 11  split       99893 non-null  int64  \n",
            "dtypes: float64(1), int64(4), object(7)\n",
            "memory usage: 9.1+ MB\n"
          ],
          "name": "stdout"
        }
      ]
    },
    {
      "cell_type": "code",
      "metadata": {
        "id": "57_ao2RVVYjR"
      },
      "source": [
        "#Drop duplicates if any\n",
        "mod.drop_duplicates(inplace=True) "
      ],
      "execution_count": 11,
      "outputs": []
    },
    {
      "cell_type": "code",
      "metadata": {
        "colab": {
          "base_uri": "https://localhost:8080/"
        },
        "id": "6ieXqwkLVb7Y",
        "outputId": "7ad86b43-dbd3-4f62-b147-068c2d81ac3b"
      },
      "source": [
        "mod.shape"
      ],
      "execution_count": 12,
      "outputs": [
        {
          "output_type": "execute_result",
          "data": {
            "text/plain": [
              "(99893, 12)"
            ]
          },
          "metadata": {
            "tags": []
          },
          "execution_count": 12
        }
      ]
    },
    {
      "cell_type": "code",
      "metadata": {
        "colab": {
          "base_uri": "https://localhost:8080/"
        },
        "id": "l7NFr9sxbV94",
        "outputId": "2109a824-f896-4be4-cca0-61c55a128351"
      },
      "source": [
        "mod.groupby('user_attr').size()\n",
        "# we have two different user attribution"
      ],
      "execution_count": 65,
      "outputs": [
        {
          "output_type": "execute_result",
          "data": {
            "text/plain": [
              "user_attr\n",
              "Large    18365\n",
              "Small    73161\n",
              "dtype: int64"
            ]
          },
          "metadata": {
            "tags": []
          },
          "execution_count": 65
        }
      ]
    },
    {
      "cell_type": "code",
      "metadata": {
        "id": "1ET8b6tTphPV",
        "outputId": "c387d44a-8b25-421c-f630-c7ef76ae9457",
        "colab": {
          "base_uri": "https://localhost:8080/"
        }
      },
      "source": [
        "mod.groupby('fit').size()\n",
        "# we have two different model attribution"
      ],
      "execution_count": 67,
      "outputs": [
        {
          "output_type": "execute_result",
          "data": {
            "text/plain": [
              "fit\n",
              "Just right        55287\n",
              "Slightly large    11114\n",
              "Slightly small    10771\n",
              "Very large         2177\n",
              "Very small         2038\n",
              "dtype: int64"
            ]
          },
          "metadata": {
            "tags": []
          },
          "execution_count": 67
        }
      ]
    },
    {
      "cell_type": "code",
      "metadata": {
        "id": "-adovz09l4zy",
        "outputId": "b9cc0b8b-d3de-423b-fad5-b6108cae6704",
        "colab": {
          "base_uri": "https://localhost:8080/",
          "height": 328
        }
      },
      "source": [
        "mod_ads=mod.groupby(['user_attr','category']).size()\n",
        "type(mod_ads)\n",
        "cross=mod_ads.to_frame()\n",
        "cross\n",
        "# category situation for different model attribution"
      ],
      "execution_count": 74,
      "outputs": [
        {
          "output_type": "execute_result",
          "data": {
            "text/html": [
              "<div>\n",
              "<style scoped>\n",
              "    .dataframe tbody tr th:only-of-type {\n",
              "        vertical-align: middle;\n",
              "    }\n",
              "\n",
              "    .dataframe tbody tr th {\n",
              "        vertical-align: top;\n",
              "    }\n",
              "\n",
              "    .dataframe thead th {\n",
              "        text-align: right;\n",
              "    }\n",
              "</style>\n",
              "<table border=\"1\" class=\"dataframe\">\n",
              "  <thead>\n",
              "    <tr style=\"text-align: right;\">\n",
              "      <th></th>\n",
              "      <th></th>\n",
              "      <th>0</th>\n",
              "    </tr>\n",
              "    <tr>\n",
              "      <th>user_attr</th>\n",
              "      <th>category</th>\n",
              "      <th></th>\n",
              "    </tr>\n",
              "  </thead>\n",
              "  <tbody>\n",
              "    <tr>\n",
              "      <th rowspan=\"4\" valign=\"top\">Large</th>\n",
              "      <th>Bottoms</th>\n",
              "      <td>4297</td>\n",
              "    </tr>\n",
              "    <tr>\n",
              "      <th>Dresses</th>\n",
              "      <td>6083</td>\n",
              "    </tr>\n",
              "    <tr>\n",
              "      <th>Outerwear</th>\n",
              "      <td>1236</td>\n",
              "    </tr>\n",
              "    <tr>\n",
              "      <th>Tops</th>\n",
              "      <td>6749</td>\n",
              "    </tr>\n",
              "    <tr>\n",
              "      <th rowspan=\"4\" valign=\"top\">Small</th>\n",
              "      <th>Bottoms</th>\n",
              "      <td>17624</td>\n",
              "    </tr>\n",
              "    <tr>\n",
              "      <th>Dresses</th>\n",
              "      <td>25006</td>\n",
              "    </tr>\n",
              "    <tr>\n",
              "      <th>Outerwear</th>\n",
              "      <td>5277</td>\n",
              "    </tr>\n",
              "    <tr>\n",
              "      <th>Tops</th>\n",
              "      <td>25254</td>\n",
              "    </tr>\n",
              "  </tbody>\n",
              "</table>\n",
              "</div>"
            ],
            "text/plain": [
              "                         0\n",
              "user_attr category        \n",
              "Large     Bottoms     4297\n",
              "          Dresses     6083\n",
              "          Outerwear   1236\n",
              "          Tops        6749\n",
              "Small     Bottoms    17624\n",
              "          Dresses    25006\n",
              "          Outerwear   5277\n",
              "          Tops       25254"
            ]
          },
          "metadata": {
            "tags": []
          },
          "execution_count": 74
        }
      ]
    },
    {
      "cell_type": "code",
      "metadata": {
        "id": "XUHASLTVqgn_",
        "outputId": "f20f887c-9dd8-4140-c448-c92c69b8df73",
        "colab": {
          "base_uri": "https://localhost:8080/",
          "height": 700
        }
      },
      "source": [
        "mod_ads=mod.groupby(['fit','category']).size()\n",
        "type(mod_ads)\n",
        "cross=mod_ads.to_frame()\n",
        "cross\n",
        "# category situation for different model attribution"
      ],
      "execution_count": 73,
      "outputs": [
        {
          "output_type": "execute_result",
          "data": {
            "text/html": [
              "<div>\n",
              "<style scoped>\n",
              "    .dataframe tbody tr th:only-of-type {\n",
              "        vertical-align: middle;\n",
              "    }\n",
              "\n",
              "    .dataframe tbody tr th {\n",
              "        vertical-align: top;\n",
              "    }\n",
              "\n",
              "    .dataframe thead th {\n",
              "        text-align: right;\n",
              "    }\n",
              "</style>\n",
              "<table border=\"1\" class=\"dataframe\">\n",
              "  <thead>\n",
              "    <tr style=\"text-align: right;\">\n",
              "      <th></th>\n",
              "      <th></th>\n",
              "      <th>0</th>\n",
              "    </tr>\n",
              "    <tr>\n",
              "      <th>fit</th>\n",
              "      <th>category</th>\n",
              "      <th></th>\n",
              "    </tr>\n",
              "  </thead>\n",
              "  <tbody>\n",
              "    <tr>\n",
              "      <th rowspan=\"4\" valign=\"top\">Just right</th>\n",
              "      <th>Bottoms</th>\n",
              "      <td>13567</td>\n",
              "    </tr>\n",
              "    <tr>\n",
              "      <th>Dresses</th>\n",
              "      <td>19271</td>\n",
              "    </tr>\n",
              "    <tr>\n",
              "      <th>Outerwear</th>\n",
              "      <td>3864</td>\n",
              "    </tr>\n",
              "    <tr>\n",
              "      <th>Tops</th>\n",
              "      <td>18585</td>\n",
              "    </tr>\n",
              "    <tr>\n",
              "      <th rowspan=\"4\" valign=\"top\">Slightly large</th>\n",
              "      <th>Bottoms</th>\n",
              "      <td>2308</td>\n",
              "    </tr>\n",
              "    <tr>\n",
              "      <th>Dresses</th>\n",
              "      <td>3287</td>\n",
              "    </tr>\n",
              "    <tr>\n",
              "      <th>Outerwear</th>\n",
              "      <td>875</td>\n",
              "    </tr>\n",
              "    <tr>\n",
              "      <th>Tops</th>\n",
              "      <td>4644</td>\n",
              "    </tr>\n",
              "    <tr>\n",
              "      <th rowspan=\"4\" valign=\"top\">Slightly small</th>\n",
              "      <th>Bottoms</th>\n",
              "      <td>2918</td>\n",
              "    </tr>\n",
              "    <tr>\n",
              "      <th>Dresses</th>\n",
              "      <td>3497</td>\n",
              "    </tr>\n",
              "    <tr>\n",
              "      <th>Outerwear</th>\n",
              "      <td>906</td>\n",
              "    </tr>\n",
              "    <tr>\n",
              "      <th>Tops</th>\n",
              "      <td>3450</td>\n",
              "    </tr>\n",
              "    <tr>\n",
              "      <th rowspan=\"4\" valign=\"top\">Very large</th>\n",
              "      <th>Bottoms</th>\n",
              "      <td>353</td>\n",
              "    </tr>\n",
              "    <tr>\n",
              "      <th>Dresses</th>\n",
              "      <td>506</td>\n",
              "    </tr>\n",
              "    <tr>\n",
              "      <th>Outerwear</th>\n",
              "      <td>186</td>\n",
              "    </tr>\n",
              "    <tr>\n",
              "      <th>Tops</th>\n",
              "      <td>1132</td>\n",
              "    </tr>\n",
              "    <tr>\n",
              "      <th rowspan=\"4\" valign=\"top\">Very small</th>\n",
              "      <th>Bottoms</th>\n",
              "      <td>754</td>\n",
              "    </tr>\n",
              "    <tr>\n",
              "      <th>Dresses</th>\n",
              "      <td>654</td>\n",
              "    </tr>\n",
              "    <tr>\n",
              "      <th>Outerwear</th>\n",
              "      <td>102</td>\n",
              "    </tr>\n",
              "    <tr>\n",
              "      <th>Tops</th>\n",
              "      <td>528</td>\n",
              "    </tr>\n",
              "  </tbody>\n",
              "</table>\n",
              "</div>"
            ],
            "text/plain": [
              "                              0\n",
              "fit            category        \n",
              "Just right     Bottoms    13567\n",
              "               Dresses    19271\n",
              "               Outerwear   3864\n",
              "               Tops       18585\n",
              "Slightly large Bottoms     2308\n",
              "               Dresses     3287\n",
              "               Outerwear    875\n",
              "               Tops        4644\n",
              "Slightly small Bottoms     2918\n",
              "               Dresses     3497\n",
              "               Outerwear    906\n",
              "               Tops        3450\n",
              "Very large     Bottoms      353\n",
              "               Dresses      506\n",
              "               Outerwear    186\n",
              "               Tops        1132\n",
              "Very small     Bottoms      754\n",
              "               Dresses      654\n",
              "               Outerwear    102\n",
              "               Tops         528"
            ]
          },
          "metadata": {
            "tags": []
          },
          "execution_count": 73
        }
      ]
    },
    {
      "cell_type": "code",
      "metadata": {
        "colab": {
          "base_uri": "https://localhost:8080/",
          "height": 351
        },
        "id": "DYuWvNYSeN9r",
        "outputId": "d9dc81a0-5753-4fad-8f7f-ea9707bae5bd"
      },
      "source": [
        "x, y, hue = \"category\", \"prop\", \"user_attr\"\n",
        "\n",
        "f, axes = plt.subplots(1, 2)\n",
        "sns.countplot(x=x, hue=hue, data=mod, ax=axes[0])\n",
        "f.set_size_inches(12, 5)\n",
        "prop_df = (mod[x]\n",
        "           .groupby(mod[hue])\n",
        "           .value_counts(normalize=True)\n",
        "           .rename(y)\n",
        "           .reset_index())\n",
        "\n",
        "sns.barplot(x=x, y=y, hue=hue, data=prop_df, ax=axes[1])\n",
        "# There is a similar cloth recommendation situation for small or large user attribution"
      ],
      "execution_count": 69,
      "outputs": [
        {
          "output_type": "execute_result",
          "data": {
            "text/plain": [
              "<matplotlib.axes._subplots.AxesSubplot at 0x7ff9e26c9bd0>"
            ]
          },
          "metadata": {
            "tags": []
          },
          "execution_count": 69
        },
        {
          "output_type": "display_data",
          "data": {
            "image/png": "[encoded data removed]",
            "text/plain": [
              "<Figure size 864x360 with 2 Axes>"
            ]
          },
          "metadata": {
            "tags": [],
            "needs_background": "light"
          }
        }
      ]
    },
    {
      "cell_type": "code",
      "metadata": {
        "id": "fPOjLYyup_Ys",
        "outputId": "ffbf54d9-47f3-4134-c8e2-cded61f12814",
        "colab": {
          "base_uri": "https://localhost:8080/",
          "height": 352
        }
      },
      "source": [
        "x, y, hue = \"category\", \"prop\", \"fit\"\n",
        "\n",
        "f, axes = plt.subplots(1, 2)\n",
        "sns.countplot(x=x, hue=hue, data=mod, ax=axes[0])\n",
        "f.set_size_inches(12, 5)\n",
        "prop_df = (mod[x]\n",
        "           .groupby(mod[hue])\n",
        "           .value_counts(normalize=True)\n",
        "           .rename(y)\n",
        "           .reset_index())\n",
        "\n",
        "sns.barplot(x=x, y=y, hue=hue, data=prop_df, ax=axes[1])\n",
        "# There is a big difference for cloth recommendation for fit situation in tops and bottoms. More tops recommendation to \"very large\", and more bottoms recommendation to \"very small\""
      ],
      "execution_count": 71,
      "outputs": [
        {
          "output_type": "execute_result",
          "data": {
            "text/plain": [
              "<matplotlib.axes._subplots.AxesSubplot at 0x7ff9e25e92d0>"
            ]
          },
          "metadata": {
            "tags": []
          },
          "execution_count": 71
        },
        {
          "output_type": "display_data",
          "data": {
            "image/png": "[encoded data removed]",
            "text/plain": [
              "<Figure size 864x360 with 2 Axes>"
            ]
          },
          "metadata": {
            "tags": [],
            "needs_background": "light"
          }
        }
      ]
    }
  ]
}